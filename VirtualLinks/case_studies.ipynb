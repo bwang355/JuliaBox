{
 "cells": [
  {
   "cell_type": "code",
   "execution_count": 1,
   "metadata": {},
   "outputs": [],
   "source": [
    "using JuMP, Gurobi\n",
    "using LightGraphs, GraphPlot\n",
    "using DataFrames\n",
    "using Statistics"
   ]
  },
  {
   "cell_type": "markdown",
   "metadata": {},
   "source": [
    "# 1. Spatial 7-bus Case"
   ]
  },
  {
   "cell_type": "code",
   "execution_count": 1035,
   "metadata": {},
   "outputs": [],
   "source": [
    "# scenario_num takes integer value from 1 to 7. Each scenario corresponds to different virtual shift capacity\n",
    "scenario_num = 6;"
   ]
  },
  {
   "cell_type": "code",
   "execution_count": 1036,
   "metadata": {},
   "outputs": [
    {
     "data": {
      "text/plain": [
       "7-element Array{Float64,1}:\n",
       " 25.0\n",
       "  0.0\n",
       " 25.0\n",
       "  0.0\n",
       "  0.0\n",
       " 25.0\n",
       " 25.0"
      ]
     },
     "execution_count": 1036,
     "metadata": {},
     "output_type": "execute_result"
    }
   ],
   "source": [
    "N = 7;\n",
    "D = [13., 0., 17., 0., 0., 17., 13.];\n",
    "S = [5., 20., 5., 20., 0., 5., 5.];\n",
    "#S = [0., 20., 0., 20., 0., 0., 0.];\n",
    "α_d = [10., 0., 10., 0., 0., 15., 15.];\n",
    "α_s = [3., 1., 3., 1., 0., 3., 3.];\n",
    "dmax = [20., 0., 20., 0., 0., 20., 20.];\n",
    "# dmax = [25., 0., 25., 0., 0., 25., 25.];\n",
    "\n",
    "edges = [(1,2),(1,3),(2,3),(3,4),(4,5),(5,6),(5,7),(6,7)];\n",
    "Dtheta = zeros(Float64, N, N);\n",
    "B = zeros(Float64, N, N);\n",
    "α_f = zeros(Float64, N, N);\n",
    "for (i,j) in edges\n",
    "    Dtheta[i,j] = 10.;\n",
    "    B[i,j] = 1.;\n",
    "    Dtheta[j,i] = 10.;\n",
    "    B[j,i] = 1.;\n",
    "    α_f[i,j] = 0.1;\n",
    "    α_f[j,i] = 0.1;\n",
    "end\n",
    "\n",
    "c1_pos = [(1,2), (2,3), (3,1)]\n",
    "c1_neg = [(2,1), (3,2), (1,3)]\n",
    "c2_pos = [(5,6), (6,7), (7,5)]\n",
    "c2_neg = [(7,6), (6,5), (5,7)]\n",
    "\n",
    "Del = zeros(N,N)          # capacity matrix of virtual links\n",
    "                          # scenario 1: no spatial shifts\n",
    "if scenario_num == 2      # scenario 2: δ_{13} = 1\n",
    "    Del[1,7] = 5;\n",
    "    Del[7,1] = 5;\n",
    "#     Del[1,7] = 1000;\n",
    "#     Del[7,1] = 1000;\n",
    "elseif scenario_num == 3\n",
    "    Del[1,7] = 10;\n",
    "    Del[7,1] = 10;\n",
    "elseif scenario_num == 4\n",
    "    Del[1,7] = 5;\n",
    "    Del[7,1] = 5;\n",
    "    Del[1,3] = 5;\n",
    "    Del[3,1] = 5;    \n",
    "elseif scenario_num >= 5\n",
    "    Del[1,7] = 10;\n",
    "    Del[7,1] = 10;\n",
    "    Del[1,3] = 10;\n",
    "    Del[3,1] = 10;    \n",
    "end\n",
    "\n",
    "α_del = zeros(N,N);         # virtual shift bidding costs\n",
    "if scenario_num <= 6\n",
    "    α_del = 0.3 * (copy(Del).>0);\n",
    "end\n",
    "if scenario_num >= 6\n",
    "    dmax = [25., 0., 25., 0., 0., 25., 25.];\n",
    "end"
   ]
  },
  {
   "cell_type": "code",
   "execution_count": 1037,
   "metadata": {},
   "outputs": [
    {
     "name": "stdout",
     "output_type": "stream",
     "text": [
      "Academic license - for non-commercial use only - expires 2021-06-10\n"
     ]
    }
   ],
   "source": [
    "m = Model(optimizer_with_attributes(Gurobi.Optimizer, \"OutputFlag\" => 0))\n",
    "#m = Model(optimizer_with_attributes(Ipopt.Optimizer))\n",
    "@variable(m, d[1:N] >= 0)\n",
    "@variable(m, s[1:N] >= 0)\n",
    "@variable(m, θ[1:N])\n",
    "@variable(m, f[1:N, 1:N] >= 0)\n",
    "@variable(m, δ[1:N,1:N] >= 0)\n",
    "# @variable(m, dθ[1:N, 1:N] >= 0)\n",
    "\n",
    "@constraint(m, d .<= D)\n",
    "@constraint(m, s .<= S)\n",
    "caps = @constraint(m, f .<= B .* Dtheta)\n",
    "@constraint(m, δ .<= Del)\n",
    "\n",
    "for i in 1:N, j in (i+1):N\n",
    "    if B[i,j] > 0\n",
    "        @constraint(m, f[i,j] - f[j,i] == B[i,j] * (θ[i] - θ[j]))\n",
    "    end\n",
    "end\n",
    "\n",
    "# physics = Dict()\n",
    "# physics[1] = @constraint(m, dθ[1,2] - dθ[2,1] + dθ[2,3] - dθ[3,2] + dθ[3,1] - dθ[1,3] == 0)\n",
    "# physics[2] = @constraint(m, dθ[5,6] - dθ[6,5] + dθ[6,7] - dθ[7,6] + dθ[7,5] - dθ[5,7] == 0)\n",
    "\n",
    "bals = Dict()\n",
    "\n",
    "for i in 1:N\n",
    "#     bals[i] = @constraint(m, sum(B[:, i] .* dθ[:, i]) + s[i] + sum(δ[i,:]) ==\n",
    "#                              sum(B[i, :] .* dθ[i, :]) + d[i] + sum(δ[:,i]))\n",
    "    bals[i] = @constraint(m, sum(f[:,i]) + s[i] + sum(δ[i,:]) == sum(f[i,:]) + d[i] + sum(δ[:,i]))\n",
    "end\n",
    "\n",
    "comp_lb = Dict()\n",
    "comp_ub = Dict()\n",
    "for i in 1:N\n",
    "    comp_lb[i] = @constraint(m, d[i] + sum(δ[:,i]) - sum(δ[i,:]) >= 0)\n",
    "    comp_ub[i] = @constraint(m, -d[i] - sum(δ[:,i]) + sum(δ[i,:]) >= -dmax[i])\n",
    "end\n",
    "\n",
    "@objective(m, Min, sum(α_s .* s) + sum(α_f .* f) - sum(α_d .* d) + sum(α_del .* δ))\n",
    "optimize!(m)"
   ]
  },
  {
   "cell_type": "code",
   "execution_count": 1038,
   "metadata": {},
   "outputs": [
    {
     "name": "stdout",
     "output_type": "stream",
     "text": [
      "Social welfare: 639.1333333333333\n",
      "Prices: [3.3, 2.7, 3.0, 2.9, 3.533333333333333, 3.6666666666666665, 3.5999999999999996]\n",
      "Flow values: [0.0 0.0 0.0 0.0 0.0 0.0 0.0; 10.0 0.0 10.0 0.0 0.0 0.0 0.0; 0.0 0.0 0.0 0.0 0.0 0.0 0.0; 0.0 0.0 10.0 0.0 10.0 0.0 0.0; 0.0 0.0 0.0 0.0 0.0 7.333333333333334 2.666666666666666; 0.0 0.0 0.0 0.0 0.0 0.0 0.0; 0.0 0.0 0.0 0.0 0.0 4.666666666666667 0.0]\n",
      "Load Execution: [14.999999999999998, 0.0, 25.0, 0.0, 0.0, 17.0, 2.9999999999999982]\n",
      "Virtual links:[0.0 0.0 8.000000000000002 0.0 0.0 0.0 0.0; 0.0 0.0 0.0 0.0 0.0 0.0 0.0; 0.0 0.0 0.0 0.0 0.0 0.0 0.0; 0.0 0.0 0.0 0.0 0.0 0.0 0.0; 0.0 0.0 0.0 0.0 0.0 0.0 0.0; 0.0 0.0 0.0 0.0 0.0 0.0 0.0; 10.000000000000002 0.0 0.0 0.0 0.0 0.0 0.0]\n",
      "Demand: [13.0, 0.0, 17.0, 0.0, 0.0, 17.0, 13.0]\n",
      "Supply: [5.0, 20.0, 5.000000000000002, 20.0, 0.0, 5.0, 5.0]\n",
      "Omega: [0.0, 0.0, 0.0, 0.0, 0.0, 0.0, 0.0]\n"
     ]
    }
   ],
   "source": [
    "flows = B .* value.(f)\n",
    "prices = [dual(bals[i]) for i in 1:N];\n",
    "# physics_dual = [dual(physics[i]) for i in 1:2]\n",
    "f_marginal_prices = zeros(size(flows))\n",
    "unit_profit = zeros(size(flows))\n",
    "d_ex = [value(d[i] + sum(δ[:,i]) - sum(δ[i,:])) for i in 1:N];\n",
    "ω_lb = [dual(comp_lb[i]) for i in 1:N]\n",
    "ω_ub = [dual(comp_ub[i]) for i in 1:N]\n",
    "ω = ω_ub .- ω_lb\n",
    "\n",
    "#=\n",
    "for i in 1:N, j in 1:N\n",
    "    if j != i\n",
    "        unit_profit[i,j] = (prices[j] - prices[i] - α_f[i,j]) * B[i,j]\n",
    "        f_marginal_prices[i,j] = unit_profit[i,j] + (physics_dual[1] * ((i,j) in c1_pos) -\n",
    "                                                     physics_dual[1] * ((i,j) in c1_neg) +\n",
    "                                                     physics_dual[2] * ((i,j) in c2_pos) -\n",
    "                                                     physics_dual[2] * ((i,j) in c2_neg))\n",
    "    end\n",
    "end\n",
    "=#\n",
    "#println(\"Flows are: \", f)\n",
    "#println(\"Marginal prices of flows: \", f_marginal_prices)\n",
    "println(\"Social welfare: \", -objective_value(m))\n",
    "println(\"Prices: \", prices)\n",
    "# println(\"Cycle constraint dual: \", physics_dual)\n",
    "#println(\"Flow profits: \", f .* f_marginal_prices)\n",
    "println(\"Flow values: \", flows)\n",
    "println(\"Load Execution: \", d_ex)\n",
    "println(\"Virtual links:\", value.(δ))\n",
    "println(\"Demand: \", value.(d))\n",
    "println(\"Supply: \", value.(s))\n",
    "println(\"Omega: \", ω_ub .- ω_lb)"
   ]
  },
  {
   "cell_type": "code",
   "execution_count": 1039,
   "metadata": {},
   "outputs": [
    {
     "name": "stdout",
     "output_type": "stream",
     "text": [
      "total load cleared: 60.0\n",
      "total load payment: 203.03333333333336\n",
      "total transmission revenue: 17.799999999999997\n",
      "total generation revenue: 179.83333333333334\n",
      "total VL revenue: 5.399999999999998\n",
      "total revenue: 203.03333333333333\n",
      "average price: 3.293888888888889\n"
     ]
    }
   ],
   "source": [
    "load_payment = sum(prices .* value.(d))\n",
    "transmission_revenue = value(sum((B[i,j] > 0) * f[i,j] * (prices[j] - prices[i]) for i in 1:N for j in 1:N))\n",
    "gen_revenue = sum(prices .* value.(s))\n",
    "vl_revenue = value(sum((Del[i,j] > 0) * δ[i,j] * (prices[i] - prices[j]) for i in 1:N for j in 1:N))\n",
    "total_load = value(sum(d))\n",
    "println(\"total load cleared: $(total_load)\")\n",
    "println(\"total load payment: $(load_payment)\")\n",
    "println(\"total transmission revenue: $(transmission_revenue)\")\n",
    "println(\"total generation revenue: $(gen_revenue)\")\n",
    "println(\"total VL revenue: $(vl_revenue)\")\n",
    "println(\"total revenue: $(transmission_revenue + gen_revenue + vl_revenue)\")\n",
    "println(\"average price: $((load_payment - vl_revenue)/total_load)\")"
   ]
  },
  {
   "cell_type": "code",
   "execution_count": 989,
   "metadata": {},
   "outputs": [
    {
     "name": "stdout",
     "output_type": "stream",
     "text": [
      "total load profit: 60.0\n",
      "total vl profit: 0.0\n",
      "total grid profit: 75.33333333333333\n",
      "G2 profit: 0.0\n",
      "G4 profit: 0.0\n"
     ]
    }
   ],
   "source": [
    "load_profit = sum((α_d .- prices .- ω) .* value.(d))\n",
    "# vl_profit = value(sum((Del[i,j] > 0) * δ[i,j] * (prices[i] + ω[i] - prices[j] - ω[j] - α_del[i,j]) for i in 1:N for j in 1:N))\n",
    "vl_profit = value(sum((Del[i,j] > 0) * δ[i,j] * (prices[i] + ω[i] - prices[j] - ω[j] - α_del[i,j]) for i in 1:N for j in 1:N))\n",
    "grid_profit = value(sum((B[i,j] > 0) * f[i,j] * (prices[j] - prices[i] - α_f[i,j]) for i in 1:N for j in 1:N))\n",
    "g2_profit = (prices[2] - α_s[2]) * value(s[2])\n",
    "g4_profit = (prices[4] - α_s[4]) * value(s[4])\n",
    "println(\"total load profit: $(total_load)\")\n",
    "println(\"total vl profit: $(vl_profit)\")\n",
    "println(\"total grid profit: $(grid_profit)\")\n",
    "println(\"G2 profit: $(g2_profit)\")\n",
    "println(\"G4 profit: $(g4_profit)\")"
   ]
  },
  {
   "cell_type": "markdown",
   "metadata": {},
   "source": [
    "# 2. Temporal Case"
   ]
  },
  {
   "cell_type": "code",
   "execution_count": 900,
   "metadata": {},
   "outputs": [],
   "source": [
    "scenario_num = 7;"
   ]
  },
  {
   "cell_type": "code",
   "execution_count": 901,
   "metadata": {},
   "outputs": [],
   "source": [
    "# Node parameters\n",
    "T = 4                       # Number of times\n",
    "α_p = [10,20,10,15]      # bidding prices of supply\n",
    "α_d = [30,60,40,50]      # bidding prices of demand\n",
    "S = [50,50,50,50]        # supply capacity\n",
    "D = [70,25,70,40]        # demand capacity\n",
    "del_cap = Dict((i,j) => 0 for i in 1:T for j in (i+1):T)\n",
    "# r = [10,10,10,10]\n",
    "r = [20,20,20,20]        # reserved computing power\n",
    "Dmax = 70\n",
    "\n",
    "# Virtual link parameters\n",
    "if scenario_num == 2\n",
    "    del_cap[(1,2)] = 8\n",
    "elseif scenario_num == 3\n",
    "    del_cap[(1,2)] = 10;\n",
    "elseif scenario_num == 4\n",
    "    del_cap[(1,2)] = 21;\n",
    "elseif scenario_num == 5\n",
    "    del_cap[(1,2)] = 21;\n",
    "    del_cap[(1,3)] = 20;\n",
    "elseif scenario_num == 6\n",
    "    del_cap[(1,2)] = 11;\n",
    "    del_cap[(1,4)] = 11;\n",
    "elseif scenario_num == 7\n",
    "    del_cap[(1,2)] = 11;\n",
    "    del_cap[(1,4)] = 11;\n",
    "    del_cap[(3,4)] = 10;\n",
    "elseif scenario_num == 8\n",
    "    del_cap[(1,2)] = 11;\n",
    "    del_cap[(1,4)] = 11;\n",
    "    del_cap[(3,4)] = 20;\n",
    "elseif scenario_num >= 9\n",
    "    del_cap[(1,2)] = 21;\n",
    "    del_cap[(1,4)] = 11;\n",
    "    del_cap[(3,4)] = 20;\n",
    "end\n",
    "\n",
    "α_del = Dict((i,j) => 3 for i in 1:T for j in (i+1):T)\n",
    "\n",
    "# Ramping constraint parameters\n",
    "R = 15;"
   ]
  },
  {
   "cell_type": "code",
   "execution_count": 902,
   "metadata": {},
   "outputs": [
    {
     "name": "stdout",
     "output_type": "stream",
     "text": [
      "Academic license - for non-commercial use only - expires 2021-06-10\n"
     ]
    }
   ],
   "source": [
    "# Optimizaiton formulation\n",
    "vls = keys(del_cap)\n",
    "\n",
    "m = Model(with_optimizer(Gurobi.Optimizer, OutputFlag=0))\n",
    "@variable(m, p[1:T] >= 0)                         # supply\n",
    "@variable(m, d[1:T] >= 0)                         # demand\n",
    "@variable(m, δ[vls] >= 0)                         # virtual shift\n",
    "\n",
    "# Flow and virtual link constraints\n",
    "for v in vls\n",
    "    @constraint(m, δ[v] <= del_cap[v])            # virtual shift capacity constraints\n",
    "end\n",
    "\n",
    "# Supply and demand capacity constraints\n",
    "@constraint(m, p .<= S)\n",
    "@constraint(m, d .<= D)\n",
    "for i in 1:T-1\n",
    "    @constraint(m, d[i] + sum(δ[(k,l)] for (k,l) in vls if l == i) - sum(δ[(k,l)] for (k,l) in vls if k == i) >= 0)\n",
    "#     @constraint(m, d[i] + sum(δ[(k,l)] for (k,l) in vls if l == i) - sum(δ[(k,l)] for (k,l) in vls if k == i) <= D[i] + r[i])\n",
    "    @constraint(m, d[i] + sum(δ[(k,l)] for (k,l) in vls if l == i) - sum(δ[(k,l)] for (k,l) in vls if k == i) <= Dmax)\n",
    "end\n",
    "\n",
    "# Ramping constraints\n",
    "for i in 1:T-1\n",
    "    @constraint(m, p[i+1] - p[i] <= R)\n",
    "    @constraint(m, p[i+1] - p[i] >= -R)\n",
    "end\n",
    "\n",
    "# Node balance constraint\n",
    "bals = Dict()\n",
    "for i in 1:T\n",
    "    bals[i] = @constraint(m, p[i] - d[i] - sum(δ[(k,l)] for (k,l) in vls if l == i) + sum(δ[(k,l)] for (k,l) in vls if k == i) == 0)\n",
    "end\n",
    "\n",
    "# Objecitve: social welfare\n",
    "@objective(m, Min, sum(α_p.*p - α_d.*d) + sum(α_del[v] * δ[v] for v in vls));\n"
   ]
  },
  {
   "cell_type": "code",
   "execution_count": 903,
   "metadata": {},
   "outputs": [
    {
     "name": "stdout",
     "output_type": "stream",
     "text": [
      "The optimal value of virtual link model is 5197.0\n",
      "The nodal prices of virtual link model is [30.0, 20.0, 40.0, 27.0]\n",
      "Amt of cleared loads are [61.0, 25.0, 60.0, 40.0]\n",
      "The supplies are [50.0, 36.0, 50.0, 50.0]\n",
      "The virtual flows are 1-dimensional DenseAxisArray{Float64,1,...} with index sets:\n",
      "    Dimension 1, [(1, 2), (2, 3), (1, 4), (2, 4), (1, 3), (3, 4)]\n",
      "And data, a 6-element Array{Float64,1}:\n",
      " 11.0\n",
      "  0.0\n",
      "  0.0\n",
      "  0.0\n",
      "  0.0\n",
      " 10.0\n"
     ]
    }
   ],
   "source": [
    "optimize!(m)\n",
    "prices = zeros(T)\n",
    "for i in 1:T\n",
    "    prices[i] = dual(bals[i])\n",
    "end\n",
    "\n",
    "# Print info\n",
    "println(\"The optimal value of virtual link model is \", -objective_value(m))\n",
    "println(\"The nodal prices of virtual link model is \", prices)\n",
    "println(\"Amt of cleared loads are \", value.(d))\n",
    "println(\"The supplies are \", value.(p))\n",
    "println(\"The virtual flows are \", value.(δ))"
   ]
  },
  {
   "cell_type": "code",
   "execution_count": 904,
   "metadata": {},
   "outputs": [
    {
     "name": "stdout",
     "output_type": "stream",
     "text": [
      "total load payment: 5810.0\n",
      "total generation revenue: 5570.0\n",
      "total VL revenue: 240.0\n",
      "total revenue: 5810.0\n"
     ]
    }
   ],
   "source": [
    "load_payment = sum(prices .* value.(d))\n",
    "gen_revenue = sum(prices .* value.(p))\n",
    "vl_revenue = value(sum(δ[(i,j)] * (prices[i] - prices[j]) for (i,j) in vls))\n",
    "println(\"total load payment: $(load_payment)\")\n",
    "println(\"total generation revenue: $(gen_revenue)\")\n",
    "println(\"total VL revenue: $(vl_revenue)\")\n",
    "println(\"total revenue: $(gen_revenue + vl_revenue)\")"
   ]
  },
  {
   "cell_type": "code",
   "execution_count": 894,
   "metadata": {},
   "outputs": [
    {
     "name": "stdout",
     "output_type": "stream",
     "text": [
      "total load profit: 1920.0\n",
      "total vl profit: 177.0\n",
      "gen profit: 3100.0\n"
     ]
    }
   ],
   "source": [
    "load_profit = sum((α_d .- prices) .* value.(d))\n",
    "# vl_profit = value(sum((Del[i,j] > 0) * δ[i,j] * (prices[i] + ω[i] - prices[j] - ω[j] - α_del[i,j]) for i in 1:N for j in 1:N))\n",
    "vl_profit = value(sum(δ[(i,j)] * (prices[i] - prices[j] - α_del[(i,j)]) for (i,j) in vls))\n",
    "g_profit = value(sum((prices .- α_p) .* p))\n",
    "println(\"total load profit: $(load_profit)\")\n",
    "println(\"total vl profit: $(vl_profit)\")\n",
    "println(\"gen profit: $(g_profit)\")"
   ]
  },
  {
   "cell_type": "markdown",
   "metadata": {},
   "source": [
    "# 3. Space-Time Case"
   ]
  },
  {
   "cell_type": "code",
   "execution_count": 2,
   "metadata": {},
   "outputs": [],
   "source": [
    "using PowerModels\n",
    "using Random"
   ]
  },
  {
   "cell_type": "code",
   "execution_count": 3,
   "metadata": {},
   "outputs": [
    {
     "name": "stdout",
     "output_type": "stream",
     "text": [
      "\u001b[32m[info | PowerModels]: removing 3 cost terms from generator 4: Float64[]\u001b[39m\n",
      "\u001b[32m[info | PowerModels]: removing 1 cost terms from generator 1: [1842.1527999999998, 0.0]\u001b[39m\n",
      "\u001b[32m[info | PowerModels]: removing 3 cost terms from generator 5: Float64[]\u001b[39m\n",
      "\u001b[32m[info | PowerModels]: removing 1 cost terms from generator 2: [5218.2254, 0.0]\u001b[39m\n",
      "\u001b[32m[info | PowerModels]: removing 3 cost terms from generator 6: Float64[]\u001b[39m\n",
      "\u001b[32m[info | PowerModels]: removing 3 cost terms from generator 3: Float64[]\u001b[39m\n"
     ]
    }
   ],
   "source": [
    "file = \"pglib_opf_case30_ieee__api.m\";\n",
    "data = parse_file(file);"
   ]
  },
  {
   "cell_type": "code",
   "execution_count": 4,
   "metadata": {},
   "outputs": [],
   "source": [
    "# construct own data\n",
    "buses = Dict{Int64,Dict}(v[\"bus_i\"] => Dict{String, Set}(\"edges_in\" => Set(Int[]),\n",
    "                                                         \"edges_out\" => Set(Int[]),\n",
    "                                                         \"loads\" => Set(Int[]),\n",
    "                                                         \"gens\" => Set(Int[])) for (_,v) in data[\"bus\"])\n",
    "branches = Dict{Int64, Dict}()\n",
    "for (_,v) in data[\"branch\"]\n",
    "    d = Dict{String, Any}(\"r\" => v[\"br_r\"], \"x\" => v[\"br_x\"], \"cap\" => v[\"rate_a\"], \"f_bus\" => v[\"f_bus\"], \"t_bus\" => v[\"t_bus\"], \"angmin\" => v[\"angmin\"], \"angmax\" => v[\"angmax\"])\n",
    "    d[\"b\"] = -imag(1 / (d[\"r\"] + im * d[\"x\"]))\n",
    "    push!(buses[d[\"f_bus\"]][\"edges_out\"], v[\"index\"])\n",
    "    push!(buses[d[\"t_bus\"]][\"edges_in\"], v[\"index\"])\n",
    "    branches[v[\"index\"]] = d\n",
    "end\n",
    "gens = Dict{Int64, Dict}()\n",
    "for (_,v) in data[\"gen\"]\n",
    "#     if v[\"ncost\"] > 0\n",
    "        d = Dict{String, Any}(\"cap\" => v[\"pmax\"], \"bus\" => v[\"gen_bus\"], \"ncost\" => v[\"ncost\"], \"cost\" => v[\"cost\"])\n",
    "        push!(buses[d[\"bus\"]][\"gens\"], v[\"index\"])\n",
    "        gens[v[\"index\"]] = d\n",
    "#     end\n",
    "end\n",
    "loads = Dict{Int64, Dict}()\n",
    "for (_,v) in data[\"load\"]\n",
    "    d = Dict{String, Any}(\"bus\" => v[\"load_bus\"], \"cap\" => v[\"pd\"])\n",
    "    push!(buses[d[\"bus\"]][\"loads\"], v[\"index\"])\n",
    "    loads[v[\"index\"]] = d\n",
    "end"
   ]
  },
  {
   "cell_type": "code",
   "execution_count": 5,
   "metadata": {},
   "outputs": [],
   "source": [
    "# add time-dependent data\n",
    "# assume only load bid is dependent on time for now\n",
    "T = 24\n",
    "Random.seed!(0);\n",
    "for (_,v) in loads\n",
    "    set_point = v[\"cap\"]\n",
    "#     perc = rand(T) .+ 0.5\n",
    "    perc = 0.5 * rand(T) .+ 0.75\n",
    "    v[\"cap\"] = set_point .* perc\n",
    "end\n",
    "\n",
    "\n",
    "# Assign bid information\n",
    "for (k,v) in branches\n",
    "    v[\"bid_cost\"] = 0.1\n",
    "end\n",
    "for (k,v) in gens\n",
    "    if v[\"ncost\"] == 0\n",
    "        v[\"bid_cost\"] = 0\n",
    "    else\n",
    "        v[\"bid_cost\"] = v[\"cost\"][end-1]\n",
    "    end\n",
    "end\n",
    "for (k,v) in loads\n",
    "    v[\"bid_cost\"] = repeat([20000.], T)\n",
    "end"
   ]
  },
  {
   "cell_type": "code",
   "execution_count": 15,
   "metadata": {},
   "outputs": [],
   "source": [
    "# add space-time virtual links\n",
    "dcnodes = [4,14,21,23,26,30]\n",
    "vls = Dict{Int64, Dict}()\n",
    "vcap = 0.01\n",
    "# vcap = 0.0\n",
    "dcap = 0.5\n",
    "\n",
    "ct = 1\n",
    "for i in 1:length(dcnodes)\n",
    "    ni = dcnodes[i]\n",
    "    for j in (i+1):length(dcnodes)\n",
    "        nj = dcnodes[j]\n",
    "        for t1 in 1:T\n",
    "            for t2 in t1:T\n",
    "                vls[ct] = Dict(\"source_bus\" => ni, \"source_time\" => t1, \"end_bus\" => nj, \"end_time\" => t2, \"bid_cost\" => 0, \"cap\" => vcap)\n",
    "                ct += 1\n",
    "                vls[ct] = Dict(\"source_bus\" => nj, \"source_time\" => t1, \"end_bus\" => ni, \"end_time\" => t2, \"bid_cost\" => 0, \"cap\" => vcap)\n",
    "                ct += 1\n",
    "            end\n",
    "        end\n",
    "    end\n",
    "    for t1 in 1:T\n",
    "        for t2 in (t1+1):T\n",
    "            vls[ct] = Dict(\"source_bus\" => ni, \"source_time\" => t1, \"end_bus\" => ni, \"end_time\" => t2, \"bid_cost\" => 0, \"cap\" => vcap)\n",
    "            ct += 1\n",
    "        end\n",
    "    end\n",
    "\n",
    "end\n",
    "\n",
    "\n",
    "# vls[1] = Dict(\"source_bus\" => 1, \"source_time\" => 1, \"end_bus\" => 2, \"end_time\" => 2, \"bid_cost\" => 10, \"cap\" => 0)\n",
    "\n",
    "st_nodes = Dict{Tuple{Int64, Int64}, Dict}((i,t) => Dict{String, Set}(\"vls_in\" => Set(Int[]), \n",
    "                                                                  \"vls_out\" => Set(Int[]))\n",
    "                                           for i in keys(buses) for t in 1:T)\n",
    "for (i,v) in vls\n",
    "    push!(st_nodes[(v[\"end_bus\"], v[\"end_time\"])][\"vls_in\"], i)\n",
    "    push!(st_nodes[(v[\"source_bus\"], v[\"source_time\"])][\"vls_out\"], i)\n",
    "end"
   ]
  },
  {
   "cell_type": "code",
   "execution_count": 16,
   "metadata": {},
   "outputs": [
    {
     "name": "stdout",
     "output_type": "stream",
     "text": [
      "Set parameter Username\n",
      "Academic license - for non-commercial use only - expires 2023-08-05\n"
     ]
    }
   ],
   "source": [
    "# space-time market formulation\n",
    "\n",
    "nbus = length(buses);\n",
    "nbranch = length(branches);\n",
    "ngen = length(gens);\n",
    "nload = length(loads);\n",
    "nvls = length(vls)\n",
    "m = Model(Gurobi.Optimizer)\n",
    "@variable(m, s[1:ngen, 1:T] >= 0)                      # supply\n",
    "@variable(m, d[1:nload, 1:T] >= 0)                     # demand\n",
    "@variable(m, ff[1:nbranch, 1:T] >= 0)                  # flow forward\n",
    "@variable(m, fb[1:nbranch, 1:T] >= 0)                  # flow backward\n",
    "@variable(m, θ[1:nbus, 1:T])\n",
    "@variable(m, del[1:nvls] >= 0)                         # virtual shift\n",
    "\n",
    "bals = Dict()\n",
    "for t in 1:T\n",
    "    # Supply and demand capacity constraints\n",
    "    for (k,v) in gens\n",
    "        @constraint(m, s[k,t] <= v[\"cap\"])\n",
    "    end\n",
    "    for (k,v) in loads\n",
    "        @constraint(m, d[k,t] <= v[\"cap\"][t])\n",
    "    end\n",
    "\n",
    "    # Flow capacity constraints & DC power flow equations\n",
    "    for (k,v) in branches\n",
    "        @constraint(m, ff[k,t] <= v[\"cap\"])\n",
    "        @constraint(m, fb[k,t] <= v[\"cap\"])\n",
    "        @constraint(m, ff[k,t] - fb[k,t] == v[\"b\"] * (θ[v[\"f_bus\"],t] - θ[v[\"t_bus\"],t]))\n",
    "    end\n",
    "\n",
    "    # Node balance constraint\n",
    "    for (k,v) in buses\n",
    "        bals[(k,t)] = @constraint(m, sum(s[i,t] for i in buses[k][\"gens\"]) - sum(d[i,t] for i in buses[k][\"loads\"])\n",
    "                               + sum(ff[i,t] for i in buses[k][\"edges_in\"]) - sum(ff[i,t] for i in buses[k][\"edges_out\"])\n",
    "                               - sum(fb[i,t] for i in buses[k][\"edges_in\"]) + sum(fb[i,t] for i in buses[k][\"edges_out\"]) \n",
    "                               - sum(del[i] for i in st_nodes[(k,t)][\"vls_in\"]) + sum(del[i] for i in st_nodes[(k,t)][\"vls_out\"])\n",
    "                               == 0)\n",
    "    end\n",
    "end\n",
    "\n",
    "# Virtual link capacity constraints\n",
    "for i in 1:nvls\n",
    "    @constraint(m, del[i] <= vls[i][\"cap\"])\n",
    "end\n",
    "\n",
    "# Computing capacity constraints\n",
    "for k in dcnodes, t in 1:T\n",
    "    @constraint(m, sum(d[i,t] for i in buses[k][\"loads\"]) + sum(del[i] for i in st_nodes[(k,t)][\"vls_in\"]) - sum(del[i] for i in st_nodes[(k,t)][\"vls_out\"]) >= 0)\n",
    "    @constraint(m, sum(d[i,t] for i in buses[k][\"loads\"]) + sum(del[i] for i in st_nodes[(k,t)][\"vls_in\"]) - sum(del[i] for i in st_nodes[(k,t)][\"vls_out\"]) <= dcap)\n",
    "end\n",
    "\n",
    "# Objecitve: social welfare\n",
    "@objective(m, Min, sum(sum(s[i,t] * gens[i][\"bid_cost\"] for i in 1:ngen) \n",
    "                       - sum(d[i,t] * loads[i][\"bid_cost\"][t] for i in 1:nload) \n",
    "                       + sum((ff[i,t] + fb[i,t]) * branches[i][\"bid_cost\"] for i in 1:nbranch)\n",
    "                       for t in 1:T) + sum(del[i] * vls[i][\"bid_cost\"] for i in 1:nvls));"
   ]
  },
  {
   "cell_type": "code",
   "execution_count": 17,
   "metadata": {},
   "outputs": [
    {
     "name": "stdout",
     "output_type": "stream",
     "text": [
      "Number of variables: 13992\n",
      "Number of constraints: 28536\n"
     ]
    }
   ],
   "source": [
    "println(\"Number of variables: \", num_variables(m))\n",
    "println(\"Number of constraints: \", sum(num_constraints(m, F, S) for (F, S) in list_of_constraint_types(m)))"
   ]
  },
  {
   "cell_type": "code",
   "execution_count": 14,
   "metadata": {},
   "outputs": [
    {
     "name": "stdout",
     "output_type": "stream",
     "text": [
      "Gurobi Optimizer version 9.5.0 build v9.5.0rc5 (mac64[arm])\n",
      "Thread count: 8 physical cores, 8 logical processors, using up to 8 threads\n",
      "Optimize a model with 15264 rows, 13992 columns and 86016 nonzeros\n",
      "Coefficient statistics:\n",
      "  Matrix range     [1e+00, 3e+01]\n",
      "  Objective range  [1e-01, 2e+04]\n",
      "  Bounds range     [0e+00, 0e+00]\n",
      "  RHS range        [3e-02, 4e+00]\n",
      "\n",
      "Solved in 0 iterations and 0.00 seconds (0.00 work units)\n",
      "Optimal objective -1.839351461e+06\n",
      "\n",
      "User-callback calls 12, time in user-callback 0.00 sec\n",
      "  0.000209 seconds (17 allocations: 496 bytes)\n"
     ]
    }
   ],
   "source": [
    "@time optimize!(m)"
   ]
  },
  {
   "cell_type": "code",
   "execution_count": 10,
   "metadata": {},
   "outputs": [
    {
     "data": {
      "text/html": [
       "<div class=\"data-frame\"><p>30 rows × 24 columns (omitted printing of 15 columns)</p><table class=\"data-frame\"><thead><tr><th></th><th>T1</th><th>T2</th><th>T3</th><th>T4</th><th>T5</th><th>T6</th><th>T7</th><th>T8</th><th>T9</th></tr><tr><th></th><th title=\"Float64\">Float64</th><th title=\"Float64\">Float64</th><th title=\"Float64\">Float64</th><th title=\"Float64\">Float64</th><th title=\"Float64\">Float64</th><th title=\"Float64\">Float64</th><th title=\"Float64\">Float64</th><th title=\"Float64\">Float64</th><th title=\"Float64\">Float64</th></tr></thead><tbody><tr><th>1</th><td>1842.15</td><td>1842.15</td><td>1842.15</td><td>1842.15</td><td>1842.15</td><td>1842.15</td><td>1842.15</td><td>1842.15</td><td>1842.15</td></tr><tr><th>2</th><td>5218.23</td><td>5218.23</td><td>5218.23</td><td>5218.23</td><td>5218.23</td><td>5218.23</td><td>5218.23</td><td>5218.23</td><td>5218.23</td></tr><tr><th>3</th><td>5895.11</td><td>3525.77</td><td>3762.2</td><td>5895.11</td><td>3762.2</td><td>3762.2</td><td>3525.77</td><td>3762.2</td><td>3762.2</td></tr><tr><th>4</th><td>6865.18</td><td>3928.79</td><td>4221.8</td><td>6865.18</td><td>4221.8</td><td>4221.8</td><td>3928.79</td><td>4221.8</td><td>4221.8</td></tr><tr><th>5</th><td>20000.0</td><td>5037.73</td><td>4852.16</td><td>20000.0</td><td>4852.16</td><td>4852.16</td><td>5037.73</td><td>4852.16</td><td>4852.16</td></tr><tr><th>6</th><td>8808.58</td><td>4843.67</td><td>4458.88</td><td>8808.58</td><td>4458.88</td><td>4458.88</td><td>4843.67</td><td>4458.88</td><td>4458.88</td></tr><tr><th>7</th><td>13321.0</td><td>4921.93</td><td>4617.47</td><td>13321.0</td><td>4617.47</td><td>4617.47</td><td>4921.93</td><td>4617.47</td><td>4617.47</td></tr><tr><th>8</th><td>8841.84</td><td>4889.77</td><td>4458.46</td><td>8841.81</td><td>4458.46</td><td>4458.46</td><td>4889.77</td><td>4458.46</td><td>4458.46</td></tr><tr><th>9</th><td>9899.8</td><td>6492.42</td><td>4421.1</td><td>9899.81</td><td>4421.11</td><td>4421.11</td><td>6492.42</td><td>4421.11</td><td>4421.11</td></tr><tr><th>10</th><td>10476.9</td><td>7364.41</td><td>4401.17</td><td>10476.9</td><td>4401.19</td><td>4401.19</td><td>7364.41</td><td>4401.19</td><td>4401.19</td></tr><tr><th>11</th><td>9899.7</td><td>6492.32</td><td>4421.0</td><td>9899.71</td><td>4421.01</td><td>4421.01</td><td>6492.32</td><td>4421.01</td><td>4421.01</td></tr><tr><th>12</th><td>3800.04</td><td>-584.659</td><td>4310.47</td><td>3800.05</td><td>4310.47</td><td>4310.47</td><td>-584.659</td><td>4310.47</td><td>4310.47</td></tr><tr><th>13</th><td>3799.94</td><td>-584.559</td><td>4310.37</td><td>3799.95</td><td>4310.37</td><td>4310.37</td><td>-584.559</td><td>4310.37</td><td>4310.37</td></tr><tr><th>14</th><td>10522.4</td><td>7957.19</td><td>4320.64</td><td>10522.4</td><td>4320.63</td><td>4320.63</td><td>7957.19</td><td>4320.63</td><td>4320.63</td></tr><tr><th>15</th><td>20000.0</td><td>20000.0</td><td>4334.92</td><td>20000.0</td><td>4334.91</td><td>4334.91</td><td>20000.0</td><td>4334.91</td><td>4334.91</td></tr><tr><th>16</th><td>6773.32</td><td>2955.11</td><td>4350.92</td><td>6773.32</td><td>4350.92</td><td>4350.92</td><td>2955.11</td><td>4350.92</td><td>4350.92</td></tr><tr><th>17</th><td>9294.29</td><td>5956.4</td><td>4385.22</td><td>9294.29</td><td>4385.24</td><td>4385.24</td><td>5956.4</td><td>4385.24</td><td>4385.24</td></tr><tr><th>18</th><td>16637.0</td><td>15537.8</td><td>4358.42</td><td>16637.0</td><td>4358.42</td><td>4358.42</td><td>15537.8</td><td>4358.42</td><td>4358.42</td></tr><tr><th>19</th><td>14642.9</td><td>12892.0</td><td>4372.39</td><td>14642.9</td><td>4372.4</td><td>4372.4</td><td>12892.0</td><td>4372.4</td><td>4372.4</td></tr><tr><th>20</th><td>13588.7</td><td>11493.2</td><td>4379.63</td><td>13588.7</td><td>4379.63</td><td>4379.63</td><td>11493.2</td><td>4379.63</td><td>4379.63</td></tr><tr><th>21</th><td>10921.2</td><td>7945.88</td><td>4399.36</td><td>10921.2</td><td>4399.44</td><td>4399.44</td><td>7945.88</td><td>4399.44</td><td>4399.44</td></tr><tr><th>22</th><td>11064.1</td><td>8132.83</td><td>4398.84</td><td>11064.1</td><td>4398.74</td><td>4398.74</td><td>8132.83</td><td>4398.74</td><td>4398.74</td></tr><tr><th>23</th><td>17038.5</td><td>16050.3</td><td>4358.7</td><td>17038.5</td><td>4358.67</td><td>4358.67</td><td>16050.3</td><td>4358.67</td><td>4358.67</td></tr><tr><th>24</th><td>13099.4</td><td>10796.6</td><td>4390.29</td><td>13099.4</td><td>4390.23</td><td>4390.23</td><td>10796.6</td><td>4390.23</td><td>4390.23</td></tr><tr><th>25</th><td>11470.0</td><td>8535.99</td><td>4416.38</td><td>11470.0</td><td>4416.34</td><td>4416.34</td><td>8535.99</td><td>4416.34</td><td>4416.34</td></tr><tr><th>26</th><td>11470.1</td><td>8536.09</td><td>4416.48</td><td>11470.1</td><td>4416.44</td><td>4416.44</td><td>8536.09</td><td>4416.44</td><td>4416.44</td></tr><tr><th>27</th><td>10478.6</td><td>7160.63</td><td>4432.22</td><td>10478.6</td><td>4432.19</td><td>4432.19</td><td>7160.63</td><td>4432.19</td><td>4432.19</td></tr><tr><th>28</th><td>9002.5</td><td>5112.7</td><td>4455.84</td><td>9002.54</td><td>4455.84</td><td>4455.84</td><td>5112.7</td><td>4455.84</td><td>4455.84</td></tr><tr><th>29</th><td>10478.7</td><td>7160.7</td><td>4432.29</td><td>10478.7</td><td>4432.26</td><td>4432.26</td><td>7160.7</td><td>4432.26</td><td>4432.26</td></tr><tr><th>30</th><td>10478.8</td><td>7160.77</td><td>4432.36</td><td>10478.8</td><td>4432.33</td><td>4432.33</td><td>7160.77</td><td>4432.33</td><td>4432.33</td></tr></tbody></table></div>"
      ],
      "text/latex": [
       "\\begin{tabular}{r|cccccccccc}\n",
       "\t& T1 & T2 & T3 & T4 & T5 & T6 & T7 & T8 & T9 & \\\\\n",
       "\t\\hline\n",
       "\t& Float64 & Float64 & Float64 & Float64 & Float64 & Float64 & Float64 & Float64 & Float64 & \\\\\n",
       "\t\\hline\n",
       "\t1 & 1842.15 & 1842.15 & 1842.15 & 1842.15 & 1842.15 & 1842.15 & 1842.15 & 1842.15 & 1842.15 & $\\dots$ \\\\\n",
       "\t2 & 5218.23 & 5218.23 & 5218.23 & 5218.23 & 5218.23 & 5218.23 & 5218.23 & 5218.23 & 5218.23 & $\\dots$ \\\\\n",
       "\t3 & 5895.11 & 3525.77 & 3762.2 & 5895.11 & 3762.2 & 3762.2 & 3525.77 & 3762.2 & 3762.2 & $\\dots$ \\\\\n",
       "\t4 & 6865.18 & 3928.79 & 4221.8 & 6865.18 & 4221.8 & 4221.8 & 3928.79 & 4221.8 & 4221.8 & $\\dots$ \\\\\n",
       "\t5 & 20000.0 & 5037.73 & 4852.16 & 20000.0 & 4852.16 & 4852.16 & 5037.73 & 4852.16 & 4852.16 & $\\dots$ \\\\\n",
       "\t6 & 8808.58 & 4843.67 & 4458.88 & 8808.58 & 4458.88 & 4458.88 & 4843.67 & 4458.88 & 4458.88 & $\\dots$ \\\\\n",
       "\t7 & 13321.0 & 4921.93 & 4617.47 & 13321.0 & 4617.47 & 4617.47 & 4921.93 & 4617.47 & 4617.47 & $\\dots$ \\\\\n",
       "\t8 & 8841.84 & 4889.77 & 4458.46 & 8841.81 & 4458.46 & 4458.46 & 4889.77 & 4458.46 & 4458.46 & $\\dots$ \\\\\n",
       "\t9 & 9899.8 & 6492.42 & 4421.1 & 9899.81 & 4421.11 & 4421.11 & 6492.42 & 4421.11 & 4421.11 & $\\dots$ \\\\\n",
       "\t10 & 10476.9 & 7364.41 & 4401.17 & 10476.9 & 4401.19 & 4401.19 & 7364.41 & 4401.19 & 4401.19 & $\\dots$ \\\\\n",
       "\t11 & 9899.7 & 6492.32 & 4421.0 & 9899.71 & 4421.01 & 4421.01 & 6492.32 & 4421.01 & 4421.01 & $\\dots$ \\\\\n",
       "\t12 & 3800.04 & -584.659 & 4310.47 & 3800.05 & 4310.47 & 4310.47 & -584.659 & 4310.47 & 4310.47 & $\\dots$ \\\\\n",
       "\t13 & 3799.94 & -584.559 & 4310.37 & 3799.95 & 4310.37 & 4310.37 & -584.559 & 4310.37 & 4310.37 & $\\dots$ \\\\\n",
       "\t14 & 10522.4 & 7957.19 & 4320.64 & 10522.4 & 4320.63 & 4320.63 & 7957.19 & 4320.63 & 4320.63 & $\\dots$ \\\\\n",
       "\t15 & 20000.0 & 20000.0 & 4334.92 & 20000.0 & 4334.91 & 4334.91 & 20000.0 & 4334.91 & 4334.91 & $\\dots$ \\\\\n",
       "\t16 & 6773.32 & 2955.11 & 4350.92 & 6773.32 & 4350.92 & 4350.92 & 2955.11 & 4350.92 & 4350.92 & $\\dots$ \\\\\n",
       "\t17 & 9294.29 & 5956.4 & 4385.22 & 9294.29 & 4385.24 & 4385.24 & 5956.4 & 4385.24 & 4385.24 & $\\dots$ \\\\\n",
       "\t18 & 16637.0 & 15537.8 & 4358.42 & 16637.0 & 4358.42 & 4358.42 & 15537.8 & 4358.42 & 4358.42 & $\\dots$ \\\\\n",
       "\t19 & 14642.9 & 12892.0 & 4372.39 & 14642.9 & 4372.4 & 4372.4 & 12892.0 & 4372.4 & 4372.4 & $\\dots$ \\\\\n",
       "\t20 & 13588.7 & 11493.2 & 4379.63 & 13588.7 & 4379.63 & 4379.63 & 11493.2 & 4379.63 & 4379.63 & $\\dots$ \\\\\n",
       "\t21 & 10921.2 & 7945.88 & 4399.36 & 10921.2 & 4399.44 & 4399.44 & 7945.88 & 4399.44 & 4399.44 & $\\dots$ \\\\\n",
       "\t22 & 11064.1 & 8132.83 & 4398.84 & 11064.1 & 4398.74 & 4398.74 & 8132.83 & 4398.74 & 4398.74 & $\\dots$ \\\\\n",
       "\t23 & 17038.5 & 16050.3 & 4358.7 & 17038.5 & 4358.67 & 4358.67 & 16050.3 & 4358.67 & 4358.67 & $\\dots$ \\\\\n",
       "\t24 & 13099.4 & 10796.6 & 4390.29 & 13099.4 & 4390.23 & 4390.23 & 10796.6 & 4390.23 & 4390.23 & $\\dots$ \\\\\n",
       "\t25 & 11470.0 & 8535.99 & 4416.38 & 11470.0 & 4416.34 & 4416.34 & 8535.99 & 4416.34 & 4416.34 & $\\dots$ \\\\\n",
       "\t26 & 11470.1 & 8536.09 & 4416.48 & 11470.1 & 4416.44 & 4416.44 & 8536.09 & 4416.44 & 4416.44 & $\\dots$ \\\\\n",
       "\t27 & 10478.6 & 7160.63 & 4432.22 & 10478.6 & 4432.19 & 4432.19 & 7160.63 & 4432.19 & 4432.19 & $\\dots$ \\\\\n",
       "\t28 & 9002.5 & 5112.7 & 4455.84 & 9002.54 & 4455.84 & 4455.84 & 5112.7 & 4455.84 & 4455.84 & $\\dots$ \\\\\n",
       "\t29 & 10478.7 & 7160.7 & 4432.29 & 10478.7 & 4432.26 & 4432.26 & 7160.7 & 4432.26 & 4432.26 & $\\dots$ \\\\\n",
       "\t30 & 10478.8 & 7160.77 & 4432.36 & 10478.8 & 4432.33 & 4432.33 & 7160.77 & 4432.33 & 4432.33 & $\\dots$ \\\\\n",
       "\\end{tabular}\n"
      ],
      "text/plain": [
       "\u001b[1m30×24 DataFrame\u001b[0m\n",
       "\u001b[1m Row \u001b[0m│\u001b[1m T1       \u001b[0m\u001b[1m T2        \u001b[0m\u001b[1m T3      \u001b[0m\u001b[1m T4       \u001b[0m\u001b[1m T5      \u001b[0m\u001b[1m T6      \u001b[0m\u001b[1m T7        \u001b[0m\u001b[1m T8\u001b[0m ⋯\n",
       "\u001b[1m     \u001b[0m│\u001b[90m Float64  \u001b[0m\u001b[90m Float64   \u001b[0m\u001b[90m Float64 \u001b[0m\u001b[90m Float64  \u001b[0m\u001b[90m Float64 \u001b[0m\u001b[90m Float64 \u001b[0m\u001b[90m Float64   \u001b[0m\u001b[90m Fl\u001b[0m ⋯\n",
       "─────┼──────────────────────────────────────────────────────────────────────────\n",
       "   1 │  1842.15   1842.15   1842.15   1842.15  1842.15  1842.15   1842.15   18 ⋯\n",
       "   2 │  5218.23   5218.23   5218.23   5218.23  5218.23  5218.23   5218.23   52\n",
       "   3 │  5895.11   3525.77   3762.2    5895.11  3762.2   3762.2    3525.77   37\n",
       "   4 │  6865.18   3928.79   4221.8    6865.18  4221.8   4221.8    3928.79   42\n",
       "   5 │ 20000.0    5037.73   4852.16  20000.0   4852.16  4852.16   5037.73   48 ⋯\n",
       "   6 │  8808.58   4843.67   4458.88   8808.58  4458.88  4458.88   4843.67   44\n",
       "   7 │ 13321.0    4921.93   4617.47  13321.0   4617.47  4617.47   4921.93   46\n",
       "   8 │  8841.84   4889.77   4458.46   8841.81  4458.46  4458.46   4889.77   44\n",
       "   9 │  9899.8    6492.42   4421.1    9899.81  4421.11  4421.11   6492.42   44 ⋯\n",
       "  10 │ 10476.9    7364.41   4401.17  10476.9   4401.19  4401.19   7364.41   44\n",
       "  11 │  9899.7    6492.32   4421.0    9899.71  4421.01  4421.01   6492.32   44\n",
       "  ⋮  │    ⋮          ⋮         ⋮        ⋮         ⋮        ⋮         ⋮         ⋱\n",
       "  21 │ 10921.2    7945.88   4399.36  10921.2   4399.44  4399.44   7945.88   43\n",
       "  22 │ 11064.1    8132.83   4398.84  11064.1   4398.74  4398.74   8132.83   43 ⋯\n",
       "  23 │ 17038.5   16050.3    4358.7   17038.5   4358.67  4358.67  16050.3    43\n",
       "  24 │ 13099.4   10796.6    4390.29  13099.4   4390.23  4390.23  10796.6    43\n",
       "  25 │ 11470.0    8535.99   4416.38  11470.0   4416.34  4416.34   8535.99   44\n",
       "  26 │ 11470.1    8536.09   4416.48  11470.1   4416.44  4416.44   8536.09   44 ⋯\n",
       "  27 │ 10478.6    7160.63   4432.22  10478.6   4432.19  4432.19   7160.63   44\n",
       "  28 │  9002.5    5112.7    4455.84   9002.54  4455.84  4455.84   5112.7    44\n",
       "  29 │ 10478.7    7160.7    4432.29  10478.7   4432.26  4432.26   7160.7    44\n",
       "  30 │ 10478.8    7160.77   4432.36  10478.8   4432.33  4432.33   7160.77   44 ⋯\n",
       "\u001b[36m                                                   17 columns and 9 rows omitted\u001b[0m"
      ]
     },
     "metadata": {},
     "output_type": "display_data"
    }
   ],
   "source": [
    "prices = zeros(nbus, T)\n",
    "for i in 1:nbus, t in 1:T\n",
    "    prices[i,t] = dual(bals[(i,t)])\n",
    "end\n",
    "prices_df = DataFrame(prices, [Symbol(\"T$(i)\") for i in 1:T])\n",
    "display(prices_df)\n",
    "# display(\"text/plain\", prices)\n",
    "# display(\"text/csv\", round.(prices, digits = 2))"
   ]
  },
  {
   "cell_type": "code",
   "execution_count": 11,
   "metadata": {},
   "outputs": [
    {
     "name": "stdout",
     "output_type": "stream",
     "text": [
      "Space-time average price: 5659.92\n",
      "Space-time median price: 4421.11\n",
      "Space-time maximum price: 20000.0\n",
      "Space-time minimum price: -584.66\n",
      "Space-time price std: 3136.48\n",
      "Space-time price average deviation: 2138.0\n"
     ]
    }
   ],
   "source": [
    "# space-time price statistics\n",
    "mean_price = round(Statistics.mean(prices), digits = 2)\n",
    "median_price = round(Statistics.median(prices), digits = 2)\n",
    "max_price = round(maximum(prices), digits = 2)\n",
    "min_price = round(minimum(prices), digits = 2)\n",
    "price_std = round(Statistics.std(prices), digits = 2)\n",
    "price_abs_dev = round(Statistics.mean(abs.(prices .- mean_price)))\n",
    "\n",
    "println(\"Space-time average price: $(mean_price)\")\n",
    "println(\"Space-time median price: $(median_price)\")\n",
    "println(\"Space-time maximum price: $(max_price)\")\n",
    "println(\"Space-time minimum price: $(min_price)\")\n",
    "println(\"Space-time price std: $(price_std)\")\n",
    "println(\"Space-time price average deviation: $(price_abs_dev)\")"
   ]
  },
  {
   "cell_type": "code",
   "execution_count": 12,
   "metadata": {},
   "outputs": [
    {
     "name": "stdout",
     "output_type": "stream",
     "text": [
      "\u001b[1m30×7 DataFrame\u001b[0m\n",
      "\u001b[1m Row \u001b[0m│\u001b[1m mean    \u001b[0m\u001b[1m median  \u001b[0m\u001b[1m max      \u001b[0m\u001b[1m min     \u001b[0m\u001b[1m range    \u001b[0m\u001b[1m std     \u001b[0m\u001b[1m abs_dev \u001b[0m\n",
      "\u001b[1m     \u001b[0m│\u001b[90m Float64 \u001b[0m\u001b[90m Float64 \u001b[0m\u001b[90m Float64  \u001b[0m\u001b[90m Float64 \u001b[0m\u001b[90m Float64  \u001b[0m\u001b[90m Float64 \u001b[0m\u001b[90m Float64 \u001b[0m\n",
      "─────┼─────────────────────────────────────────────────────────────────\n",
      "   1 │ 1842.15  1842.15   1842.15  1842.15      0.0      0.0      0.0\n",
      "   2 │ 5218.23  5218.23   5218.23  5218.23      0.0      0.0      0.0\n",
      "   3 │ 4095.53  3762.2    6102.11  3525.77   2576.34   874.91   634.36\n",
      "   4 │ 4634.91  4221.8    7121.73  3928.79   3192.94  1084.31   786.18\n",
      "   5 │ 7407.73  4852.16  20000.0   4852.16  15147.8   5752.97  4197.43\n",
      "   6 │ 5226.18  4458.88   8808.58  4458.88   4349.7   1584.31  1150.57\n",
      "   7 │ 6105.8   4617.47  13321.0   4617.47   8703.5   3262.64  2379.06\n",
      "   8 │ 5236.09  4458.46   8841.84  4458.43   4383.41  1588.6   1152.29\n",
      "   9 │ 5547.77  4421.11   9899.81  4421.1    5478.71  1831.21  1502.21\n",
      "  10 │ 5717.89  4401.19  10476.9   4401.17   6075.77  2045.1   1755.6\n",
      "  11 │ 5547.67  4421.01   9899.71  4421.0    5478.71  1831.21  1502.21\n",
      "  12 │ 3730.75  4310.47   7654.48  -584.66   8239.14  2193.56  1438.47\n",
      "  13 │ 3730.68  4310.37   7654.38  -584.56   8238.94  2193.49  1438.41\n",
      "  14 │ 5726.43  4320.63  10522.4   4320.63   6201.79  2141.1   1874.39\n",
      "  15 │ 8540.02  4334.92  20000.0   4334.91  15665.1   6827.07  5729.99\n",
      "  16 │ 4615.68  4350.92   7897.19  2955.11   4942.08  1367.3    906.53\n",
      "  17 │ 5366.0   4385.24   9294.29  4385.22   4909.07  1650.16  1307.68\n",
      "  18 │ 7543.47  4358.42  16637.0   4358.42  12278.6   5037.47  4246.73\n",
      "  19 │ 6952.61  4372.4   14642.9   4372.39  10270.5   4001.12  3440.28\n",
      "  20 │ 6640.13  4379.63  13588.7   4379.63   9209.1   3467.98  3013.99\n",
      "  21 │ 5849.72  4399.44  10921.2   4399.36   6521.89  2222.48  1933.72\n",
      "  22 │ 5892.02  4398.74  11064.1   4398.73   6665.34  2282.01  1991.03\n",
      "  23 │ 7662.65  4358.67  17038.5   4358.67  12679.9   5242.15  4405.3\n",
      "  24 │ 6495.6   4390.23  13099.4   4390.18   8709.21  3213.41  2807.16\n",
      "  25 │ 6013.57  4416.35  11470.0   4416.33   7053.65  2433.27  2129.63\n",
      "  26 │ 6013.67  4416.45  11470.1   4416.43   7053.65  2433.27  2129.63\n",
      "  27 │ 5720.28  4432.21  10478.6   4432.19   6046.45  2025.27  1717.44\n",
      "  28 │ 5283.61  4455.86   9002.54  4455.84   4546.7   1612.45  1160.64\n",
      "  29 │ 5720.35  4432.28  10478.7   4432.26   6046.45  2025.27  1717.44\n",
      "  30 │ 5720.42  4432.35  10478.8   4432.33   6046.45  2025.27  1717.44"
     ]
    }
   ],
   "source": [
    "# spatial price statistics\n",
    "mean_price = round.(Statistics.mean(prices, dims = 2)[:,1], digits = 2)\n",
    "median_price = round.(Statistics.median(prices, dims = 2)[:,1], digits = 2)\n",
    "max_price = round.(maximum(prices, dims = 2)[:,1], digits = 2)\n",
    "min_price = round.(minimum(prices, dims = 2)[:,1], digits = 2)\n",
    "range = max_price .- min_price\n",
    "price_std = round.(Statistics.std(prices, dims = 2)[:,1], digits = 2)\n",
    "price_abs_dev = round.(Statistics.mean(abs.(prices .- mean_price), dims = 2)[:,1], digits = 2)\n",
    "\n",
    "df = DataFrame(mean = mean_price,\n",
    "               median = median_price,\n",
    "               max = max_price,\n",
    "               min = min_price,\n",
    "               range = range,\n",
    "               std = price_std,\n",
    "               abs_dev = price_abs_dev\n",
    "              )\n",
    "print(df)"
   ]
  },
  {
   "cell_type": "code",
   "execution_count": 13,
   "metadata": {},
   "outputs": [
    {
     "name": "stdout",
     "output_type": "stream",
     "text": [
      "\u001b[1m24×7 DataFrame\u001b[0m\n",
      "\u001b[1m Row \u001b[0m│\u001b[1m mean     \u001b[0m\u001b[1m median   \u001b[0m\u001b[1m max      \u001b[0m\u001b[1m min     \u001b[0m\u001b[1m range    \u001b[0m\u001b[1m std     \u001b[0m\u001b[1m abs_dev \u001b[0m\n",
      "\u001b[1m     \u001b[0m│\u001b[90m Float64  \u001b[0m\u001b[90m Float64  \u001b[0m\u001b[90m Float64  \u001b[0m\u001b[90m Float64 \u001b[0m\u001b[90m Float64  \u001b[0m\u001b[90m Float64 \u001b[0m\u001b[90m Float64 \u001b[0m\n",
      "─────┼───────────────────────────────────────────────────────────────────\n",
      "   1 │ 10521.0   10478.6   20000.0   1842.15  18157.8   4377.33  3133.52\n",
      "   2 │  7225.74   6826.53  20000.0   -584.66  20584.7   4566.55  3235.56\n",
      "   3 │  4331.01   4399.1    5218.23  1842.15   3376.08   518.89   214.56\n",
      "   4 │ 10521.0   10478.7   20000.0   1842.15  18157.8   4377.33  3133.52\n",
      "   5 │  4331.0    4399.09   5218.23  1842.15   3376.08   518.89   214.56\n",
      "   6 │  4331.0    4399.09   5218.23  1842.15   3376.08   518.89   214.56\n",
      "   7 │  7225.74   6826.53  20000.0   -584.66  20584.7   4566.55  3235.56\n",
      "   8 │  4331.0    4399.09   5218.23  1842.15   3376.08   518.89   214.56\n",
      "   9 │  4331.0    4399.09   5218.23  1842.15   3376.08   518.89   214.56\n",
      "  10 │  8298.54   8158.56  20000.0   1842.15  18157.8   2755.86  1173.12\n",
      "  11 │  4331.0    4399.09   5218.23  1842.15   3376.08   518.89   214.56\n",
      "  12 │  4331.0    4399.09   5218.23  1842.15   3376.08   518.89   214.56\n",
      "  13 │  4331.01   4399.09   5218.23  1842.15   3376.08   518.89   214.56\n",
      "  14 │  4331.0    4399.09   5218.23  1842.15   3376.08   518.89   214.56\n",
      "  15 │  7225.74   6826.54  20000.0   -584.66  20584.7   4566.55  3235.56\n",
      "  16 │  4331.0    4399.09   5218.23  1842.15   3376.08   518.89   214.56\n",
      "  17 │  4331.0    4399.09   5218.23  1842.15   3376.08   518.89   214.56\n",
      "  18 │  4331.01   4399.08   5218.23  1842.15   3376.08   518.89   214.56\n",
      "  19 │  4331.01   4399.09   5218.23  1842.15   3376.08   518.89   214.56\n",
      "  20 │  4331.0    4399.09   5218.23  1842.15   3376.08   518.89   214.56\n",
      "  21 │  4331.01   4399.09   5218.23  1842.15   3376.08   518.89   214.56\n",
      "  22 │  8298.54   8158.53  20000.0   1842.15  18157.8   2755.86  1173.11\n",
      "  23 │  7225.74   6826.53  20000.0   -584.66  20584.7   4566.55  3235.56\n",
      "  24 │  4331.0    4399.09   5218.23  1842.15   3376.08   518.89   214.56"
     ]
    }
   ],
   "source": [
    "# temporal price statistics\n",
    "mean_price = round.(Statistics.mean(prices, dims = 1)[1,:], digits = 2)\n",
    "median_price = round.(Statistics.median(prices, dims = 1)[1,:], digits = 2)\n",
    "max_price = round.(maximum(prices, dims = 1)[1,:], digits = 2)\n",
    "min_price = round.(minimum(prices, dims = 1)[1,:], digits = 2)\n",
    "range = max_price .- min_price\n",
    "price_std = round.(Statistics.std(prices, dims = 1)[1,:], digits = 2)\n",
    "price_abs_dev = round.(Statistics.mean(abs.(prices' .- mean_price), dims = 2)[:,1], digits = 2)\n",
    "\n",
    "df = DataFrame(mean = mean_price,\n",
    "               median = median_price,\n",
    "               max = max_price,\n",
    "               min = min_price,\n",
    "               range = range,\n",
    "               std = price_std,\n",
    "               abs_dev = price_abs_dev\n",
    "              )\n",
    "print(df)"
   ]
  }
 ],
 "metadata": {
  "kernelspec": {
   "display_name": "Julia 1.7.1",
   "language": "julia",
   "name": "julia-1.7"
  },
  "language_info": {
   "file_extension": ".jl",
   "mimetype": "application/julia",
   "name": "julia",
   "version": "1.7.1"
  }
 },
 "nbformat": 4,
 "nbformat_minor": 2
}
