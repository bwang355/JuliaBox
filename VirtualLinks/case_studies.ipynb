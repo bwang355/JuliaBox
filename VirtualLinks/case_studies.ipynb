{
 "cells": [
  {
   "cell_type": "code",
   "execution_count": 1,
   "metadata": {},
   "outputs": [
    {
     "name": "stderr",
     "output_type": "stream",
     "text": [
      "┌ Info: Precompiling Gurobi [2e9cd046-0924-5485-92f1-d5272153d98b]\n",
      "└ @ Base loading.jl:1278\n"
     ]
    }
   ],
   "source": [
    "using JuMP, Gurobi, Ipopt, Clp, GLPK, ECOS\n",
    "using LightGraphs, GraphPlot\n",
    "using DataFrames\n",
    "using Statistics"
   ]
  },
  {
   "cell_type": "markdown",
   "metadata": {},
   "source": [
    "# 1. Spatial 7-bus Case"
   ]
  },
  {
   "cell_type": "code",
   "execution_count": 1035,
   "metadata": {},
   "outputs": [],
   "source": [
    "# scenario_num takes integer value from 1 to 7. Each scenario corresponds to different virtual shift capacity\n",
    "scenario_num = 6;"
   ]
  },
  {
   "cell_type": "code",
   "execution_count": 1036,
   "metadata": {},
   "outputs": [
    {
     "data": {
      "text/plain": [
       "7-element Array{Float64,1}:\n",
       " 25.0\n",
       "  0.0\n",
       " 25.0\n",
       "  0.0\n",
       "  0.0\n",
       " 25.0\n",
       " 25.0"
      ]
     },
     "execution_count": 1036,
     "metadata": {},
     "output_type": "execute_result"
    }
   ],
   "source": [
    "N = 7;\n",
    "D = [13., 0., 17., 0., 0., 17., 13.];\n",
    "S = [5., 20., 5., 20., 0., 5., 5.];\n",
    "#S = [0., 20., 0., 20., 0., 0., 0.];\n",
    "α_d = [10., 0., 10., 0., 0., 15., 15.];\n",
    "α_s = [3., 1., 3., 1., 0., 3., 3.];\n",
    "dmax = [20., 0., 20., 0., 0., 20., 20.];\n",
    "# dmax = [25., 0., 25., 0., 0., 25., 25.];\n",
    "\n",
    "edges = [(1,2),(1,3),(2,3),(3,4),(4,5),(5,6),(5,7),(6,7)];\n",
    "Dtheta = zeros(Float64, N, N);\n",
    "B = zeros(Float64, N, N);\n",
    "α_f = zeros(Float64, N, N);\n",
    "for (i,j) in edges\n",
    "    Dtheta[i,j] = 10.;\n",
    "    B[i,j] = 1.;\n",
    "    Dtheta[j,i] = 10.;\n",
    "    B[j,i] = 1.;\n",
    "    α_f[i,j] = 0.1;\n",
    "    α_f[j,i] = 0.1;\n",
    "end\n",
    "\n",
    "c1_pos = [(1,2), (2,3), (3,1)]\n",
    "c1_neg = [(2,1), (3,2), (1,3)]\n",
    "c2_pos = [(5,6), (6,7), (7,5)]\n",
    "c2_neg = [(7,6), (6,5), (5,7)]\n",
    "\n",
    "Del = zeros(N,N)          # capacity matrix of virtual links\n",
    "                          # scenario 1: no spatial shifts\n",
    "if scenario_num == 2      # scenario 2: δ_{13} = 1\n",
    "    Del[1,7] = 5;\n",
    "    Del[7,1] = 5;\n",
    "#     Del[1,7] = 1000;\n",
    "#     Del[7,1] = 1000;\n",
    "elseif scenario_num == 3\n",
    "    Del[1,7] = 10;\n",
    "    Del[7,1] = 10;\n",
    "elseif scenario_num == 4\n",
    "    Del[1,7] = 5;\n",
    "    Del[7,1] = 5;\n",
    "    Del[1,3] = 5;\n",
    "    Del[3,1] = 5;    \n",
    "elseif scenario_num >= 5\n",
    "    Del[1,7] = 10;\n",
    "    Del[7,1] = 10;\n",
    "    Del[1,3] = 10;\n",
    "    Del[3,1] = 10;    \n",
    "end\n",
    "\n",
    "α_del = zeros(N,N);         # virtual shift bidding costs\n",
    "if scenario_num <= 6\n",
    "    α_del = 0.3 * (copy(Del).>0);\n",
    "end\n",
    "if scenario_num >= 6\n",
    "    dmax = [25., 0., 25., 0., 0., 25., 25.];\n",
    "end"
   ]
  },
  {
   "cell_type": "code",
   "execution_count": 1037,
   "metadata": {},
   "outputs": [
    {
     "name": "stdout",
     "output_type": "stream",
     "text": [
      "Academic license - for non-commercial use only - expires 2021-06-10\n"
     ]
    }
   ],
   "source": [
    "m = Model(optimizer_with_attributes(Gurobi.Optimizer, \"OutputFlag\" => 0))\n",
    "#m = Model(optimizer_with_attributes(Ipopt.Optimizer))\n",
    "@variable(m, d[1:N] >= 0)\n",
    "@variable(m, s[1:N] >= 0)\n",
    "@variable(m, θ[1:N])\n",
    "@variable(m, f[1:N, 1:N] >= 0)\n",
    "@variable(m, δ[1:N,1:N] >= 0)\n",
    "# @variable(m, dθ[1:N, 1:N] >= 0)\n",
    "\n",
    "@constraint(m, d .<= D)\n",
    "@constraint(m, s .<= S)\n",
    "caps = @constraint(m, f .<= B .* Dtheta)\n",
    "@constraint(m, δ .<= Del)\n",
    "\n",
    "for i in 1:N, j in (i+1):N\n",
    "    if B[i,j] > 0\n",
    "        @constraint(m, f[i,j] - f[j,i] == B[i,j] * (θ[i] - θ[j]))\n",
    "    end\n",
    "end\n",
    "\n",
    "# physics = Dict()\n",
    "# physics[1] = @constraint(m, dθ[1,2] - dθ[2,1] + dθ[2,3] - dθ[3,2] + dθ[3,1] - dθ[1,3] == 0)\n",
    "# physics[2] = @constraint(m, dθ[5,6] - dθ[6,5] + dθ[6,7] - dθ[7,6] + dθ[7,5] - dθ[5,7] == 0)\n",
    "\n",
    "bals = Dict()\n",
    "\n",
    "for i in 1:N\n",
    "#     bals[i] = @constraint(m, sum(B[:, i] .* dθ[:, i]) + s[i] + sum(δ[i,:]) ==\n",
    "#                              sum(B[i, :] .* dθ[i, :]) + d[i] + sum(δ[:,i]))\n",
    "    bals[i] = @constraint(m, sum(f[:,i]) + s[i] + sum(δ[i,:]) == sum(f[i,:]) + d[i] + sum(δ[:,i]))\n",
    "end\n",
    "\n",
    "comp_lb = Dict()\n",
    "comp_ub = Dict()\n",
    "for i in 1:N\n",
    "    comp_lb[i] = @constraint(m, d[i] + sum(δ[:,i]) - sum(δ[i,:]) >= 0)\n",
    "    comp_ub[i] = @constraint(m, -d[i] - sum(δ[:,i]) + sum(δ[i,:]) >= -dmax[i])\n",
    "end\n",
    "\n",
    "@objective(m, Min, sum(α_s .* s) + sum(α_f .* f) - sum(α_d .* d) + sum(α_del .* δ))\n",
    "optimize!(m)"
   ]
  },
  {
   "cell_type": "code",
   "execution_count": 1038,
   "metadata": {},
   "outputs": [
    {
     "name": "stdout",
     "output_type": "stream",
     "text": [
      "Social welfare: 639.1333333333333\n",
      "Prices: [3.3, 2.7, 3.0, 2.9, 3.533333333333333, 3.6666666666666665, 3.5999999999999996]\n",
      "Flow values: [0.0 0.0 0.0 0.0 0.0 0.0 0.0; 10.0 0.0 10.0 0.0 0.0 0.0 0.0; 0.0 0.0 0.0 0.0 0.0 0.0 0.0; 0.0 0.0 10.0 0.0 10.0 0.0 0.0; 0.0 0.0 0.0 0.0 0.0 7.333333333333334 2.666666666666666; 0.0 0.0 0.0 0.0 0.0 0.0 0.0; 0.0 0.0 0.0 0.0 0.0 4.666666666666667 0.0]\n",
      "Load Execution: [14.999999999999998, 0.0, 25.0, 0.0, 0.0, 17.0, 2.9999999999999982]\n",
      "Virtual links:[0.0 0.0 8.000000000000002 0.0 0.0 0.0 0.0; 0.0 0.0 0.0 0.0 0.0 0.0 0.0; 0.0 0.0 0.0 0.0 0.0 0.0 0.0; 0.0 0.0 0.0 0.0 0.0 0.0 0.0; 0.0 0.0 0.0 0.0 0.0 0.0 0.0; 0.0 0.0 0.0 0.0 0.0 0.0 0.0; 10.000000000000002 0.0 0.0 0.0 0.0 0.0 0.0]\n",
      "Demand: [13.0, 0.0, 17.0, 0.0, 0.0, 17.0, 13.0]\n",
      "Supply: [5.0, 20.0, 5.000000000000002, 20.0, 0.0, 5.0, 5.0]\n",
      "Omega: [0.0, 0.0, 0.0, 0.0, 0.0, 0.0, 0.0]\n"
     ]
    }
   ],
   "source": [
    "flows = B .* value.(f)\n",
    "prices = [dual(bals[i]) for i in 1:N];\n",
    "# physics_dual = [dual(physics[i]) for i in 1:2]\n",
    "f_marginal_prices = zeros(size(flows))\n",
    "unit_profit = zeros(size(flows))\n",
    "d_ex = [value(d[i] + sum(δ[:,i]) - sum(δ[i,:])) for i in 1:N];\n",
    "ω_lb = [dual(comp_lb[i]) for i in 1:N]\n",
    "ω_ub = [dual(comp_ub[i]) for i in 1:N]\n",
    "ω = ω_ub .- ω_lb\n",
    "\n",
    "#=\n",
    "for i in 1:N, j in 1:N\n",
    "    if j != i\n",
    "        unit_profit[i,j] = (prices[j] - prices[i] - α_f[i,j]) * B[i,j]\n",
    "        f_marginal_prices[i,j] = unit_profit[i,j] + (physics_dual[1] * ((i,j) in c1_pos) -\n",
    "                                                     physics_dual[1] * ((i,j) in c1_neg) +\n",
    "                                                     physics_dual[2] * ((i,j) in c2_pos) -\n",
    "                                                     physics_dual[2] * ((i,j) in c2_neg))\n",
    "    end\n",
    "end\n",
    "=#\n",
    "#println(\"Flows are: \", f)\n",
    "#println(\"Marginal prices of flows: \", f_marginal_prices)\n",
    "println(\"Social welfare: \", -objective_value(m))\n",
    "println(\"Prices: \", prices)\n",
    "# println(\"Cycle constraint dual: \", physics_dual)\n",
    "#println(\"Flow profits: \", f .* f_marginal_prices)\n",
    "println(\"Flow values: \", flows)\n",
    "println(\"Load Execution: \", d_ex)\n",
    "println(\"Virtual links:\", value.(δ))\n",
    "println(\"Demand: \", value.(d))\n",
    "println(\"Supply: \", value.(s))\n",
    "println(\"Omega: \", ω_ub .- ω_lb)"
   ]
  },
  {
   "cell_type": "code",
   "execution_count": 1039,
   "metadata": {},
   "outputs": [
    {
     "name": "stdout",
     "output_type": "stream",
     "text": [
      "total load cleared: 60.0\n",
      "total load payment: 203.03333333333336\n",
      "total transmission revenue: 17.799999999999997\n",
      "total generation revenue: 179.83333333333334\n",
      "total VL revenue: 5.399999999999998\n",
      "total revenue: 203.03333333333333\n",
      "average price: 3.293888888888889\n"
     ]
    }
   ],
   "source": [
    "load_payment = sum(prices .* value.(d))\n",
    "transmission_revenue = value(sum((B[i,j] > 0) * f[i,j] * (prices[j] - prices[i]) for i in 1:N for j in 1:N))\n",
    "gen_revenue = sum(prices .* value.(s))\n",
    "vl_revenue = value(sum((Del[i,j] > 0) * δ[i,j] * (prices[i] - prices[j]) for i in 1:N for j in 1:N))\n",
    "total_load = value(sum(d))\n",
    "println(\"total load cleared: $(total_load)\")\n",
    "println(\"total load payment: $(load_payment)\")\n",
    "println(\"total transmission revenue: $(transmission_revenue)\")\n",
    "println(\"total generation revenue: $(gen_revenue)\")\n",
    "println(\"total VL revenue: $(vl_revenue)\")\n",
    "println(\"total revenue: $(transmission_revenue + gen_revenue + vl_revenue)\")\n",
    "println(\"average price: $((load_payment - vl_revenue)/total_load)\")"
   ]
  },
  {
   "cell_type": "code",
   "execution_count": 989,
   "metadata": {},
   "outputs": [
    {
     "name": "stdout",
     "output_type": "stream",
     "text": [
      "total load profit: 60.0\n",
      "total vl profit: 0.0\n",
      "total grid profit: 75.33333333333333\n",
      "G2 profit: 0.0\n",
      "G4 profit: 0.0\n"
     ]
    }
   ],
   "source": [
    "load_profit = sum((α_d .- prices .- ω) .* value.(d))\n",
    "# vl_profit = value(sum((Del[i,j] > 0) * δ[i,j] * (prices[i] + ω[i] - prices[j] - ω[j] - α_del[i,j]) for i in 1:N for j in 1:N))\n",
    "vl_profit = value(sum((Del[i,j] > 0) * δ[i,j] * (prices[i] + ω[i] - prices[j] - ω[j] - α_del[i,j]) for i in 1:N for j in 1:N))\n",
    "grid_profit = value(sum((B[i,j] > 0) * f[i,j] * (prices[j] - prices[i] - α_f[i,j]) for i in 1:N for j in 1:N))\n",
    "g2_profit = (prices[2] - α_s[2]) * value(s[2])\n",
    "g4_profit = (prices[4] - α_s[4]) * value(s[4])\n",
    "println(\"total load profit: $(total_load)\")\n",
    "println(\"total vl profit: $(vl_profit)\")\n",
    "println(\"total grid profit: $(grid_profit)\")\n",
    "println(\"G2 profit: $(g2_profit)\")\n",
    "println(\"G4 profit: $(g4_profit)\")"
   ]
  },
  {
   "cell_type": "markdown",
   "metadata": {},
   "source": [
    "# 2. Temporal Case"
   ]
  },
  {
   "cell_type": "code",
   "execution_count": 900,
   "metadata": {},
   "outputs": [],
   "source": [
    "scenario_num = 7;"
   ]
  },
  {
   "cell_type": "code",
   "execution_count": 901,
   "metadata": {},
   "outputs": [],
   "source": [
    "# Node parameters\n",
    "T = 4                       # Number of times\n",
    "α_p = [10,20,10,15]      # bidding prices of supply\n",
    "α_d = [30,60,40,50]      # bidding prices of demand\n",
    "S = [50,50,50,50]        # supply capacity\n",
    "D = [70,25,70,40]        # demand capacity\n",
    "del_cap = Dict((i,j) => 0 for i in 1:T for j in (i+1):T)\n",
    "# r = [10,10,10,10]\n",
    "r = [20,20,20,20]        # reserved computing power\n",
    "Dmax = 70\n",
    "\n",
    "# Virtual link parameters\n",
    "if scenario_num == 2\n",
    "    del_cap[(1,2)] = 8\n",
    "elseif scenario_num == 3\n",
    "    del_cap[(1,2)] = 10;\n",
    "elseif scenario_num == 4\n",
    "    del_cap[(1,2)] = 21;\n",
    "elseif scenario_num == 5\n",
    "    del_cap[(1,2)] = 21;\n",
    "    del_cap[(1,3)] = 20;\n",
    "elseif scenario_num == 6\n",
    "    del_cap[(1,2)] = 11;\n",
    "    del_cap[(1,4)] = 11;\n",
    "elseif scenario_num == 7\n",
    "    del_cap[(1,2)] = 11;\n",
    "    del_cap[(1,4)] = 11;\n",
    "    del_cap[(3,4)] = 10;\n",
    "elseif scenario_num == 8\n",
    "    del_cap[(1,2)] = 11;\n",
    "    del_cap[(1,4)] = 11;\n",
    "    del_cap[(3,4)] = 20;\n",
    "elseif scenario_num >= 9\n",
    "    del_cap[(1,2)] = 21;\n",
    "    del_cap[(1,4)] = 11;\n",
    "    del_cap[(3,4)] = 20;\n",
    "end\n",
    "\n",
    "α_del = Dict((i,j) => 3 for i in 1:T for j in (i+1):T)\n",
    "\n",
    "# Ramping constraint parameters\n",
    "R = 15;"
   ]
  },
  {
   "cell_type": "code",
   "execution_count": 902,
   "metadata": {},
   "outputs": [
    {
     "name": "stdout",
     "output_type": "stream",
     "text": [
      "Academic license - for non-commercial use only - expires 2021-06-10\n"
     ]
    }
   ],
   "source": [
    "# Optimizaiton formulation\n",
    "vls = keys(del_cap)\n",
    "\n",
    "m = Model(with_optimizer(Gurobi.Optimizer, OutputFlag=0))\n",
    "@variable(m, p[1:T] >= 0)                         # supply\n",
    "@variable(m, d[1:T] >= 0)                         # demand\n",
    "@variable(m, δ[vls] >= 0)                         # virtual shift\n",
    "\n",
    "# Flow and virtual link constraints\n",
    "for v in vls\n",
    "    @constraint(m, δ[v] <= del_cap[v])            # virtual shift capacity constraints\n",
    "end\n",
    "\n",
    "# Supply and demand capacity constraints\n",
    "@constraint(m, p .<= S)\n",
    "@constraint(m, d .<= D)\n",
    "for i in 1:T-1\n",
    "    @constraint(m, d[i] + sum(δ[(k,l)] for (k,l) in vls if l == i) - sum(δ[(k,l)] for (k,l) in vls if k == i) >= 0)\n",
    "#     @constraint(m, d[i] + sum(δ[(k,l)] for (k,l) in vls if l == i) - sum(δ[(k,l)] for (k,l) in vls if k == i) <= D[i] + r[i])\n",
    "    @constraint(m, d[i] + sum(δ[(k,l)] for (k,l) in vls if l == i) - sum(δ[(k,l)] for (k,l) in vls if k == i) <= Dmax)\n",
    "end\n",
    "\n",
    "# Ramping constraints\n",
    "for i in 1:T-1\n",
    "    @constraint(m, p[i+1] - p[i] <= R)\n",
    "    @constraint(m, p[i+1] - p[i] >= -R)\n",
    "end\n",
    "\n",
    "# Node balance constraint\n",
    "bals = Dict()\n",
    "for i in 1:T\n",
    "    bals[i] = @constraint(m, p[i] - d[i] - sum(δ[(k,l)] for (k,l) in vls if l == i) + sum(δ[(k,l)] for (k,l) in vls if k == i) == 0)\n",
    "end\n",
    "\n",
    "# Objecitve: social welfare\n",
    "@objective(m, Min, sum(α_p.*p - α_d.*d) + sum(α_del[v] * δ[v] for v in vls));\n"
   ]
  },
  {
   "cell_type": "code",
   "execution_count": 903,
   "metadata": {},
   "outputs": [
    {
     "name": "stdout",
     "output_type": "stream",
     "text": [
      "The optimal value of virtual link model is 5197.0\n",
      "The nodal prices of virtual link model is [30.0, 20.0, 40.0, 27.0]\n",
      "Amt of cleared loads are [61.0, 25.0, 60.0, 40.0]\n",
      "The supplies are [50.0, 36.0, 50.0, 50.0]\n",
      "The virtual flows are 1-dimensional DenseAxisArray{Float64,1,...} with index sets:\n",
      "    Dimension 1, [(1, 2), (2, 3), (1, 4), (2, 4), (1, 3), (3, 4)]\n",
      "And data, a 6-element Array{Float64,1}:\n",
      " 11.0\n",
      "  0.0\n",
      "  0.0\n",
      "  0.0\n",
      "  0.0\n",
      " 10.0\n"
     ]
    }
   ],
   "source": [
    "optimize!(m)\n",
    "prices = zeros(T)\n",
    "for i in 1:T\n",
    "    prices[i] = dual(bals[i])\n",
    "end\n",
    "\n",
    "# Print info\n",
    "println(\"The optimal value of virtual link model is \", -objective_value(m))\n",
    "println(\"The nodal prices of virtual link model is \", prices)\n",
    "println(\"Amt of cleared loads are \", value.(d))\n",
    "println(\"The supplies are \", value.(p))\n",
    "println(\"The virtual flows are \", value.(δ))"
   ]
  },
  {
   "cell_type": "code",
   "execution_count": 904,
   "metadata": {},
   "outputs": [
    {
     "name": "stdout",
     "output_type": "stream",
     "text": [
      "total load payment: 5810.0\n",
      "total generation revenue: 5570.0\n",
      "total VL revenue: 240.0\n",
      "total revenue: 5810.0\n"
     ]
    }
   ],
   "source": [
    "load_payment = sum(prices .* value.(d))\n",
    "gen_revenue = sum(prices .* value.(p))\n",
    "vl_revenue = value(sum(δ[(i,j)] * (prices[i] - prices[j]) for (i,j) in vls))\n",
    "println(\"total load payment: $(load_payment)\")\n",
    "println(\"total generation revenue: $(gen_revenue)\")\n",
    "println(\"total VL revenue: $(vl_revenue)\")\n",
    "println(\"total revenue: $(gen_revenue + vl_revenue)\")"
   ]
  },
  {
   "cell_type": "code",
   "execution_count": 894,
   "metadata": {},
   "outputs": [
    {
     "name": "stdout",
     "output_type": "stream",
     "text": [
      "total load profit: 1920.0\n",
      "total vl profit: 177.0\n",
      "gen profit: 3100.0\n"
     ]
    }
   ],
   "source": [
    "load_profit = sum((α_d .- prices) .* value.(d))\n",
    "# vl_profit = value(sum((Del[i,j] > 0) * δ[i,j] * (prices[i] + ω[i] - prices[j] - ω[j] - α_del[i,j]) for i in 1:N for j in 1:N))\n",
    "vl_profit = value(sum(δ[(i,j)] * (prices[i] - prices[j] - α_del[(i,j)]) for (i,j) in vls))\n",
    "g_profit = value(sum((prices .- α_p) .* p))\n",
    "println(\"total load profit: $(load_profit)\")\n",
    "println(\"total vl profit: $(vl_profit)\")\n",
    "println(\"gen profit: $(g_profit)\")"
   ]
  },
  {
   "cell_type": "markdown",
   "metadata": {},
   "source": [
    "# 3. Space-Time Case"
   ]
  },
  {
   "cell_type": "code",
   "execution_count": 75,
   "metadata": {},
   "outputs": [],
   "source": [
    "using PowerModels\n",
    "using Random"
   ]
  },
  {
   "cell_type": "code",
   "execution_count": 1040,
   "metadata": {},
   "outputs": [
    {
     "name": "stdout",
     "output_type": "stream",
     "text": [
      "\u001b[32m[info | PowerModels]: removing 3 cost terms from generator 4: Float64[]\u001b[39m\n",
      "\u001b[32m[info | PowerModels]: removing 1 cost terms from generator 1: [1842.1527999999998, 0.0]\u001b[39m\n",
      "\u001b[32m[info | PowerModels]: removing 3 cost terms from generator 5: Float64[]\u001b[39m\n",
      "\u001b[32m[info | PowerModels]: removing 1 cost terms from generator 2: [5218.2254, 0.0]\u001b[39m\n",
      "\u001b[32m[info | PowerModels]: removing 3 cost terms from generator 6: Float64[]\u001b[39m\n",
      "\u001b[32m[info | PowerModels]: removing 3 cost terms from generator 3: Float64[]\u001b[39m\n"
     ]
    }
   ],
   "source": [
    "# file = \"/home/weiqizhang/anl/pglib-opf/pglib_opf_case30_ieee.m\";\n",
    "file = \"/home/weiqizhang/anl/pglib-opf/api/pglib_opf_case30_ieee__api.m\";\n",
    "# file = \"/home/weiqizhang/anl/pglib-opf/api/pglib_opf_case24_ieee_rts__api.m\";\n",
    "data = parse_file(file);"
   ]
  },
  {
   "cell_type": "code",
   "execution_count": 1041,
   "metadata": {},
   "outputs": [],
   "source": [
    "# construct own data\n",
    "buses = Dict{Int64,Dict}(v[\"bus_i\"] => Dict{String, Set}(\"edges_in\" => Set(Int[]),\n",
    "                                                         \"edges_out\" => Set(Int[]),\n",
    "                                                         \"loads\" => Set(Int[]),\n",
    "                                                         \"gens\" => Set(Int[])) for (_,v) in data[\"bus\"])\n",
    "branches = Dict{Int64, Dict}()\n",
    "for (_,v) in data[\"branch\"]\n",
    "    d = Dict{String, Any}(\"r\" => v[\"br_r\"], \"x\" => v[\"br_x\"], \"cap\" => v[\"rate_a\"], \"f_bus\" => v[\"f_bus\"], \"t_bus\" => v[\"t_bus\"], \"angmin\" => v[\"angmin\"], \"angmax\" => v[\"angmax\"])\n",
    "    d[\"b\"] = -imag(1 / (d[\"r\"] + im * d[\"x\"]))\n",
    "    push!(buses[d[\"f_bus\"]][\"edges_out\"], v[\"index\"])\n",
    "    push!(buses[d[\"t_bus\"]][\"edges_in\"], v[\"index\"])\n",
    "    branches[v[\"index\"]] = d\n",
    "end\n",
    "gens = Dict{Int64, Dict}()\n",
    "for (_,v) in data[\"gen\"]\n",
    "#     if v[\"ncost\"] > 0\n",
    "        d = Dict{String, Any}(\"cap\" => v[\"pmax\"], \"bus\" => v[\"gen_bus\"], \"ncost\" => v[\"ncost\"], \"cost\" => v[\"cost\"])\n",
    "        push!(buses[d[\"bus\"]][\"gens\"], v[\"index\"])\n",
    "        gens[v[\"index\"]] = d\n",
    "#     end\n",
    "end\n",
    "loads = Dict{Int64, Dict}()\n",
    "for (_,v) in data[\"load\"]\n",
    "    d = Dict{String, Any}(\"bus\" => v[\"load_bus\"], \"cap\" => v[\"pd\"])\n",
    "    push!(buses[d[\"bus\"]][\"loads\"], v[\"index\"])\n",
    "    loads[v[\"index\"]] = d\n",
    "end"
   ]
  },
  {
   "cell_type": "code",
   "execution_count": 1042,
   "metadata": {},
   "outputs": [],
   "source": [
    "# add time-dependent data\n",
    "# assume only load bid is dependent on time for now\n",
    "T = 24\n",
    "Random.seed!(0);\n",
    "for (_,v) in loads\n",
    "    set_point = v[\"cap\"]\n",
    "#     perc = rand(T) .+ 0.5\n",
    "    perc = 0.5 * rand(T) .+ 0.75\n",
    "    v[\"cap\"] = set_point .* perc\n",
    "end\n",
    "\n",
    "\n",
    "# Assign bid information\n",
    "for (k,v) in branches\n",
    "    v[\"bid_cost\"] = 0.1\n",
    "end\n",
    "for (k,v) in gens\n",
    "    if v[\"ncost\"] == 0\n",
    "        v[\"bid_cost\"] = 0\n",
    "    else\n",
    "        v[\"bid_cost\"] = v[\"cost\"][end-1]\n",
    "    end\n",
    "end\n",
    "for (k,v) in loads\n",
    "    v[\"bid_cost\"] = repeat([20000.], T)\n",
    "end"
   ]
  },
  {
   "cell_type": "code",
   "execution_count": 1043,
   "metadata": {},
   "outputs": [],
   "source": [
    "# add space-time virtual links\n",
    "dcnodes = [4,14,21,23,26,30]\n",
    "vls = Dict{Int64, Dict}()\n",
    "# vcap = 0.01\n",
    "vcap = 0.0\n",
    "dcap = 0.5\n",
    "\n",
    "ct = 1\n",
    "for i in 1:length(dcnodes)\n",
    "    ni = dcnodes[i]\n",
    "    for j in (i+1):length(dcnodes)\n",
    "        nj = dcnodes[j]\n",
    "        for t1 in 1:T\n",
    "            for t2 in t1:T\n",
    "                vls[ct] = Dict(\"source_bus\" => ni, \"source_time\" => t1, \"end_bus\" => nj, \"end_time\" => t2, \"bid_cost\" => 0, \"cap\" => vcap)\n",
    "                ct += 1\n",
    "                vls[ct] = Dict(\"source_bus\" => nj, \"source_time\" => t1, \"end_bus\" => ni, \"end_time\" => t2, \"bid_cost\" => 0, \"cap\" => vcap)\n",
    "                ct += 1\n",
    "            end\n",
    "        end\n",
    "    end\n",
    "    for t1 in 1:T\n",
    "        for t2 in (t1+1):T\n",
    "            vls[ct] = Dict(\"source_bus\" => ni, \"source_time\" => t1, \"end_bus\" => ni, \"end_time\" => t2, \"bid_cost\" => 0, \"cap\" => vcap)\n",
    "            ct += 1\n",
    "        end\n",
    "    end\n",
    "\n",
    "end\n",
    "\n",
    "\n",
    "# vls[1] = Dict(\"source_bus\" => 1, \"source_time\" => 1, \"end_bus\" => 2, \"end_time\" => 2, \"bid_cost\" => 10, \"cap\" => 0)\n",
    "\n",
    "st_nodes = Dict{Tuple{Int64, Int64}, Dict}((i,t) => Dict{String, Set}(\"vls_in\" => Set(Int[]), \n",
    "                                                                  \"vls_out\" => Set(Int[]))\n",
    "                                           for i in keys(buses) for t in 1:T)\n",
    "for (i,v) in vls\n",
    "    push!(st_nodes[(v[\"end_bus\"], v[\"end_time\"])][\"vls_in\"], i)\n",
    "    push!(st_nodes[(v[\"source_bus\"], v[\"source_time\"])][\"vls_out\"], i)\n",
    "end"
   ]
  },
  {
   "cell_type": "code",
   "execution_count": 1044,
   "metadata": {},
   "outputs": [
    {
     "name": "stdout",
     "output_type": "stream",
     "text": [
      "Academic license - for non-commercial use only - expires 2021-06-10\n"
     ]
    }
   ],
   "source": [
    "# space-time market formulation\n",
    "\n",
    "nbus = length(buses);\n",
    "nbranch = length(branches);\n",
    "ngen = length(gens);\n",
    "nload = length(loads);\n",
    "nvls = length(vls)\n",
    "m = Model(Gurobi.Optimizer)\n",
    "@variable(m, s[1:ngen, 1:T] >= 0)                      # supply\n",
    "@variable(m, d[1:nload, 1:T] >= 0)                     # demand\n",
    "@variable(m, ff[1:nbranch, 1:T] >= 0)                  # flow forward\n",
    "@variable(m, fb[1:nbranch, 1:T] >= 0)                  # flow backward\n",
    "@variable(m, θ[1:nbus, 1:T])\n",
    "@variable(m, del[1:nvls] >= 0)                         # virtual shift\n",
    "\n",
    "bals = Dict()\n",
    "for t in 1:T\n",
    "    # Supply and demand capacity constraints\n",
    "    for (k,v) in gens\n",
    "        @constraint(m, s[k,t] <= v[\"cap\"])\n",
    "    end\n",
    "    for (k,v) in loads\n",
    "        @constraint(m, d[k,t] <= v[\"cap\"][t])\n",
    "    end\n",
    "\n",
    "    # Flow capacity constraints & DC power flow equations\n",
    "    for (k,v) in branches\n",
    "        @constraint(m, ff[k,t] <= v[\"cap\"])\n",
    "        @constraint(m, fb[k,t] <= v[\"cap\"])\n",
    "        @constraint(m, ff[k,t] - fb[k,t] == v[\"b\"] * (θ[v[\"f_bus\"],t] - θ[v[\"t_bus\"],t]))\n",
    "    end\n",
    "\n",
    "    # Node balance constraint\n",
    "    for (k,v) in buses\n",
    "        bals[(k,t)] = @constraint(m, sum(s[i,t] for i in buses[k][\"gens\"]) - sum(d[i,t] for i in buses[k][\"loads\"])\n",
    "                               + sum(ff[i,t] for i in buses[k][\"edges_in\"]) - sum(ff[i,t] for i in buses[k][\"edges_out\"])\n",
    "                               - sum(fb[i,t] for i in buses[k][\"edges_in\"]) + sum(fb[i,t] for i in buses[k][\"edges_out\"]) \n",
    "                               - sum(del[i] for i in st_nodes[(k,t)][\"vls_in\"]) + sum(del[i] for i in st_nodes[(k,t)][\"vls_out\"])\n",
    "                               == 0)\n",
    "    end\n",
    "end\n",
    "\n",
    "# Virtual link capacity constraints\n",
    "for i in 1:nvls\n",
    "    @constraint(m, del[i] <= vls[i][\"cap\"])\n",
    "end\n",
    "\n",
    "# Computing capacity constraints\n",
    "for k in dcnodes, t in 1:T\n",
    "    @constraint(m, sum(d[i,t] for i in buses[k][\"loads\"]) + sum(del[i] for i in st_nodes[(k,t)][\"vls_in\"]) - sum(del[i] for i in st_nodes[(k,t)][\"vls_out\"]) >= 0)\n",
    "    @constraint(m, sum(d[i,t] for i in buses[k][\"loads\"]) + sum(del[i] for i in st_nodes[(k,t)][\"vls_in\"]) - sum(del[i] for i in st_nodes[(k,t)][\"vls_out\"]) <= dcap)\n",
    "end\n",
    "\n",
    "# Objecitve: social welfare\n",
    "@objective(m, Min, sum(sum(s[i,t] * gens[i][\"bid_cost\"] for i in 1:ngen) \n",
    "                       - sum(d[i,t] * loads[i][\"bid_cost\"][t] for i in 1:nload) \n",
    "                       + sum((ff[i,t] + fb[i,t]) * branches[i][\"bid_cost\"] for i in 1:nbranch)\n",
    "                       for t in 1:T) + sum(del[i] * vls[i][\"bid_cost\"] for i in 1:nvls));"
   ]
  },
  {
   "cell_type": "code",
   "execution_count": 1045,
   "metadata": {},
   "outputs": [
    {
     "name": "stdout",
     "output_type": "stream",
     "text": [
      "Gurobi Optimizer version 9.1.0 build v9.1.0rc0 (linux64)\n",
      "Thread count: 4 physical cores, 8 logical processors, using up to 8 threads\n",
      "Optimize a model with 15264 rows, 13992 columns and 86016 nonzeros\n",
      "Model fingerprint: 0x3f204ee1\n",
      "Coefficient statistics:\n",
      "  Matrix range     [1e+00, 3e+01]\n",
      "  Objective range  [1e-01, 2e+04]\n",
      "  Bounds range     [0e+00, 0e+00]\n",
      "  RHS range        [3e-02, 4e+00]\n",
      "\n",
      "Concurrent LP optimizer: dual simplex and barrier\n",
      "Showing barrier log only...\n",
      "\n",
      "Presolve removed 14304 rows and 11592 columns\n",
      "Presolve time: 0.02s\n",
      "Presolved: 960 rows, 2400 columns, 6984 nonzeros\n",
      "\n",
      "Ordering time: 0.00s\n",
      "\n",
      "Barrier statistics:\n",
      " AA' NZ     : 3.096e+03\n",
      " Factor NZ  : 9.120e+03 (roughly 1 MByte of memory)\n",
      " Factor Ops : 1.011e+05 (less than 1 second per iteration)\n",
      " Threads    : 1\n",
      "\n",
      "                  Objective                Residual\n",
      "Iter       Primal          Dual         Primal    Dual     Compl     Time\n",
      "   0  -1.22993766e+07 -3.20079349e+07  1.39e+00 8.54e+03  3.00e+04     0s\n",
      "   1  -1.41511091e+06 -1.67677740e+07  1.09e-01 9.51e+02  4.11e+03     0s\n",
      "   2  -1.41759860e+06 -3.71190431e+06  3.52e-05 7.51e+01  4.83e+02     0s\n",
      "   3  -1.79019725e+06 -2.09005075e+06  2.36e-06 6.04e-01  6.30e+01     0s\n",
      "   4  -1.82971173e+06 -1.87936064e+06  3.53e-07 7.20e-02  1.04e+01     0s\n",
      "   5  -1.83609483e+06 -1.85313502e+06  2.57e-08 8.46e-04  3.58e+00     0s\n",
      "   6  -1.83680205e+06 -1.83717981e+06  7.65e-10 7.28e-12  7.92e-02     0s\n",
      "   7  -1.83685838e+06 -1.83691495e+06  6.13e-11 8.95e-12  1.19e-02     0s\n",
      "   8  -1.83687735e+06 -1.83688577e+06  3.74e-11 1.01e-11  1.76e-03     0s\n",
      "   9  -1.83688033e+06 -1.83688092e+06  3.74e-11 8.73e-12  1.25e-04     0s\n",
      "  10  -1.83688053e+06 -1.83688054e+06  2.67e-11 8.79e-12  3.35e-06     0s\n",
      "  11  -1.83688054e+06 -1.83688054e+06  1.63e-11 1.09e-11  3.58e-08     0s\n",
      "  12  -1.83688054e+06 -1.83688054e+06  6.29e-11 1.25e-11  7.77e-13     0s\n",
      "\n",
      "Barrier solved model in 12 iterations and 0.03 seconds\n",
      "Optimal objective -1.83688054e+06\n",
      "\n",
      "Crossover log...\n",
      "\n",
      "       0 DPushes remaining with DInf 0.0000000e+00                 0s\n",
      "\n",
      "       0 PPushes remaining with PInf 0.0000000e+00                 0s\n",
      "\n",
      "  Push phase complete: Pinf 0.0000000e+00, Dinf 8.2104634e-10      0s\n",
      "\n",
      "Extra simplex iterations after uncrush: 41\n",
      "Iteration    Objective       Primal Inf.    Dual Inf.      Time\n",
      "      44   -1.8368805e+06   0.000000e+00   0.000000e+00      0s\n",
      "\n",
      "Solved with barrier\n",
      "Solved in 44 iterations and 0.04 seconds\n",
      "Optimal objective -1.836880538e+06\n",
      "\n",
      "User-callback calls 161, time in user-callback 0.00 sec\n"
     ]
    }
   ],
   "source": [
    "optimize!(m)"
   ]
  },
  {
   "cell_type": "code",
   "execution_count": 922,
   "metadata": {},
   "outputs": [
    {
     "data": {
      "text/html": [
       "<table class=\"data-frame\"><thead><tr><th></th><th>T1</th><th>T2</th><th>T3</th><th>T4</th><th>T5</th><th>T6</th><th>T7</th><th>T8</th><th>T9</th></tr><tr><th></th><th>Float64</th><th>Float64</th><th>Float64</th><th>Float64</th><th>Float64</th><th>Float64</th><th>Float64</th><th>Float64</th><th>Float64</th></tr></thead><tbody><p>30 rows × 24 columns (omitted printing of 15 columns)</p><tr><th>1</th><td>1842.15</td><td>1842.15</td><td>1842.15</td><td>1842.15</td><td>1842.15</td><td>1842.15</td><td>1842.15</td><td>1842.15</td><td>1842.15</td></tr><tr><th>2</th><td>5218.23</td><td>5218.23</td><td>5218.23</td><td>5218.23</td><td>5218.23</td><td>5218.23</td><td>5218.23</td><td>5218.23</td><td>5218.23</td></tr><tr><th>3</th><td>3762.2</td><td>3762.2</td><td>3762.2</td><td>3762.2</td><td>3762.2</td><td>3872.64</td><td>3762.2</td><td>3762.2</td><td>3762.2</td></tr><tr><th>4</th><td>4221.8</td><td>4221.81</td><td>4221.81</td><td>4221.81</td><td>4221.81</td><td>4358.68</td><td>4221.81</td><td>4221.81</td><td>4221.81</td></tr><tr><th>5</th><td>4852.16</td><td>4852.16</td><td>4852.16</td><td>4852.16</td><td>4852.16</td><td>5567.12</td><td>4852.15</td><td>4852.15</td><td>4852.15</td></tr><tr><th>6</th><td>4458.88</td><td>4458.87</td><td>4458.87</td><td>4458.87</td><td>4458.87</td><td>4651.84</td><td>4458.87</td><td>4458.87</td><td>4458.87</td></tr><tr><th>7</th><td>4617.47</td><td>4617.46</td><td>4617.46</td><td>4617.46</td><td>4617.46</td><td>5020.9</td><td>4617.46</td><td>4617.46</td><td>4617.46</td></tr><tr><th>8</th><td>4458.46</td><td>4458.45</td><td>4458.45</td><td>4458.45</td><td>4458.45</td><td>4651.3</td><td>4458.45</td><td>4458.45</td><td>4458.45</td></tr><tr><th>9</th><td>4421.1</td><td>4421.07</td><td>4421.07</td><td>4421.07</td><td>4421.07</td><td>4605.1</td><td>4421.06</td><td>4421.06</td><td>4421.06</td></tr><tr><th>10</th><td>4401.17</td><td>4401.12</td><td>4401.12</td><td>4401.12</td><td>4401.12</td><td>4580.43</td><td>4401.11</td><td>4401.11</td><td>4401.11</td></tr><tr><th>11</th><td>4421.0</td><td>4420.97</td><td>4420.97</td><td>4420.97</td><td>4420.97</td><td>4605.0</td><td>4420.96</td><td>4420.96</td><td>4420.96</td></tr><tr><th>12</th><td>4310.47</td><td>4310.56</td><td>4310.56</td><td>4310.56</td><td>4310.56</td><td>4468.35</td><td>4310.58</td><td>4310.58</td><td>4310.58</td></tr><tr><th>13</th><td>4310.37</td><td>4310.46</td><td>4310.46</td><td>4310.46</td><td>4310.46</td><td>4468.25</td><td>4310.48</td><td>4310.48</td><td>4310.48</td></tr><tr><th>14</th><td>4320.64</td><td>4320.8</td><td>4320.8</td><td>4320.8</td><td>4320.8</td><td>4480.92</td><td>4320.83</td><td>4320.83</td><td>4320.83</td></tr><tr><th>15</th><td>4334.92</td><td>4335.0</td><td>4335.0</td><td>4335.0</td><td>4335.0</td><td>4498.59</td><td>4335.03</td><td>4335.03</td><td>4335.03</td></tr><tr><th>16</th><td>4350.92</td><td>4351.03</td><td>4351.03</td><td>4351.03</td><td>4351.03</td><td>4518.31</td><td>4351.04</td><td>4351.04</td><td>4351.04</td></tr><tr><th>17</th><td>4385.22</td><td>4385.16</td><td>4385.16</td><td>4385.16</td><td>4385.16</td><td>4560.69</td><td>4385.15</td><td>4385.15</td><td>4385.15</td></tr><tr><th>18</th><td>4358.42</td><td>4358.45</td><td>4358.45</td><td>4358.45</td><td>4358.45</td><td>4527.59</td><td>4358.54</td><td>4358.54</td><td>4358.54</td></tr><tr><th>19</th><td>4372.39</td><td>4372.4</td><td>4372.4</td><td>4372.4</td><td>4372.4</td><td>4544.83</td><td>4372.32</td><td>4372.32</td><td>4372.32</td></tr><tr><th>20</th><td>4379.63</td><td>4379.62</td><td>4379.62</td><td>4379.62</td><td>4379.62</td><td>4553.79</td><td>4379.55</td><td>4379.55</td><td>4379.55</td></tr><tr><th>21</th><td>4399.36</td><td>4399.29</td><td>4399.29</td><td>4399.29</td><td>4399.29</td><td>4578.15</td><td>4399.28</td><td>4399.28</td><td>4399.28</td></tr><tr><th>22</th><td>4398.84</td><td>4398.77</td><td>4398.77</td><td>4398.77</td><td>4398.77</td><td>4577.49</td><td>4398.76</td><td>4398.76</td><td>4398.76</td></tr><tr><th>23</th><td>4358.7</td><td>4358.66</td><td>4358.66</td><td>4358.66</td><td>4358.66</td><td>4527.86</td><td>4358.68</td><td>4358.68</td><td>4358.68</td></tr><tr><th>24</th><td>4390.29</td><td>4390.16</td><td>4390.16</td><td>4390.16</td><td>4390.16</td><td>4566.82</td><td>4390.16</td><td>4390.16</td><td>4390.16</td></tr><tr><th>25</th><td>4416.38</td><td>4416.3</td><td>4416.3</td><td>4416.3</td><td>4416.3</td><td>4599.15</td><td>4416.3</td><td>4416.3</td><td>4416.3</td></tr><tr><th>26</th><td>4416.28</td><td>4416.2</td><td>4416.2</td><td>4416.2</td><td>4416.2</td><td>4599.05</td><td>4416.2</td><td>4416.2</td><td>4416.2</td></tr><tr><th>27</th><td>4432.22</td><td>4432.16</td><td>4432.16</td><td>4432.16</td><td>4432.16</td><td>4618.78</td><td>4432.16</td><td>4432.16</td><td>4432.16</td></tr><tr><th>28</th><td>4455.84</td><td>4455.83</td><td>4455.83</td><td>4455.83</td><td>4455.83</td><td>4648.06</td><td>4455.83</td><td>4455.83</td><td>4455.83</td></tr><tr><th>29</th><td>4432.34</td><td>4432.29</td><td>4432.29</td><td>4432.29</td><td>4432.29</td><td>4618.91</td><td>4432.29</td><td>4432.29</td><td>4432.29</td></tr><tr><th>30</th><td>4432.27</td><td>4432.22</td><td>4432.22</td><td>4432.22</td><td>4432.22</td><td>4618.84</td><td>4432.22</td><td>4432.22</td><td>4432.22</td></tr></tbody></table>"
      ],
      "text/latex": [
       "\\begin{tabular}{r|cccccccccc}\n",
       "\t& T1 & T2 & T3 & T4 & T5 & T6 & T7 & T8 & T9 & \\\\\n",
       "\t\\hline\n",
       "\t& Float64 & Float64 & Float64 & Float64 & Float64 & Float64 & Float64 & Float64 & Float64 & \\\\\n",
       "\t\\hline\n",
       "\t1 & 1842.15 & 1842.15 & 1842.15 & 1842.15 & 1842.15 & 1842.15 & 1842.15 & 1842.15 & 1842.15 & $\\dots$ \\\\\n",
       "\t2 & 5218.23 & 5218.23 & 5218.23 & 5218.23 & 5218.23 & 5218.23 & 5218.23 & 5218.23 & 5218.23 & $\\dots$ \\\\\n",
       "\t3 & 3762.2 & 3762.2 & 3762.2 & 3762.2 & 3762.2 & 3872.64 & 3762.2 & 3762.2 & 3762.2 & $\\dots$ \\\\\n",
       "\t4 & 4221.8 & 4221.81 & 4221.81 & 4221.81 & 4221.81 & 4358.68 & 4221.81 & 4221.81 & 4221.81 & $\\dots$ \\\\\n",
       "\t5 & 4852.16 & 4852.16 & 4852.16 & 4852.16 & 4852.16 & 5567.12 & 4852.15 & 4852.15 & 4852.15 & $\\dots$ \\\\\n",
       "\t6 & 4458.88 & 4458.87 & 4458.87 & 4458.87 & 4458.87 & 4651.84 & 4458.87 & 4458.87 & 4458.87 & $\\dots$ \\\\\n",
       "\t7 & 4617.47 & 4617.46 & 4617.46 & 4617.46 & 4617.46 & 5020.9 & 4617.46 & 4617.46 & 4617.46 & $\\dots$ \\\\\n",
       "\t8 & 4458.46 & 4458.45 & 4458.45 & 4458.45 & 4458.45 & 4651.3 & 4458.45 & 4458.45 & 4458.45 & $\\dots$ \\\\\n",
       "\t9 & 4421.1 & 4421.07 & 4421.07 & 4421.07 & 4421.07 & 4605.1 & 4421.06 & 4421.06 & 4421.06 & $\\dots$ \\\\\n",
       "\t10 & 4401.17 & 4401.12 & 4401.12 & 4401.12 & 4401.12 & 4580.43 & 4401.11 & 4401.11 & 4401.11 & $\\dots$ \\\\\n",
       "\t11 & 4421.0 & 4420.97 & 4420.97 & 4420.97 & 4420.97 & 4605.0 & 4420.96 & 4420.96 & 4420.96 & $\\dots$ \\\\\n",
       "\t12 & 4310.47 & 4310.56 & 4310.56 & 4310.56 & 4310.56 & 4468.35 & 4310.58 & 4310.58 & 4310.58 & $\\dots$ \\\\\n",
       "\t13 & 4310.37 & 4310.46 & 4310.46 & 4310.46 & 4310.46 & 4468.25 & 4310.48 & 4310.48 & 4310.48 & $\\dots$ \\\\\n",
       "\t14 & 4320.64 & 4320.8 & 4320.8 & 4320.8 & 4320.8 & 4480.92 & 4320.83 & 4320.83 & 4320.83 & $\\dots$ \\\\\n",
       "\t15 & 4334.92 & 4335.0 & 4335.0 & 4335.0 & 4335.0 & 4498.59 & 4335.03 & 4335.03 & 4335.03 & $\\dots$ \\\\\n",
       "\t16 & 4350.92 & 4351.03 & 4351.03 & 4351.03 & 4351.03 & 4518.31 & 4351.04 & 4351.04 & 4351.04 & $\\dots$ \\\\\n",
       "\t17 & 4385.22 & 4385.16 & 4385.16 & 4385.16 & 4385.16 & 4560.69 & 4385.15 & 4385.15 & 4385.15 & $\\dots$ \\\\\n",
       "\t18 & 4358.42 & 4358.45 & 4358.45 & 4358.45 & 4358.45 & 4527.59 & 4358.54 & 4358.54 & 4358.54 & $\\dots$ \\\\\n",
       "\t19 & 4372.39 & 4372.4 & 4372.4 & 4372.4 & 4372.4 & 4544.83 & 4372.32 & 4372.32 & 4372.32 & $\\dots$ \\\\\n",
       "\t20 & 4379.63 & 4379.62 & 4379.62 & 4379.62 & 4379.62 & 4553.79 & 4379.55 & 4379.55 & 4379.55 & $\\dots$ \\\\\n",
       "\t21 & 4399.36 & 4399.29 & 4399.29 & 4399.29 & 4399.29 & 4578.15 & 4399.28 & 4399.28 & 4399.28 & $\\dots$ \\\\\n",
       "\t22 & 4398.84 & 4398.77 & 4398.77 & 4398.77 & 4398.77 & 4577.49 & 4398.76 & 4398.76 & 4398.76 & $\\dots$ \\\\\n",
       "\t23 & 4358.7 & 4358.66 & 4358.66 & 4358.66 & 4358.66 & 4527.86 & 4358.68 & 4358.68 & 4358.68 & $\\dots$ \\\\\n",
       "\t24 & 4390.29 & 4390.16 & 4390.16 & 4390.16 & 4390.16 & 4566.82 & 4390.16 & 4390.16 & 4390.16 & $\\dots$ \\\\\n",
       "\t25 & 4416.38 & 4416.3 & 4416.3 & 4416.3 & 4416.3 & 4599.15 & 4416.3 & 4416.3 & 4416.3 & $\\dots$ \\\\\n",
       "\t26 & 4416.28 & 4416.2 & 4416.2 & 4416.2 & 4416.2 & 4599.05 & 4416.2 & 4416.2 & 4416.2 & $\\dots$ \\\\\n",
       "\t27 & 4432.22 & 4432.16 & 4432.16 & 4432.16 & 4432.16 & 4618.78 & 4432.16 & 4432.16 & 4432.16 & $\\dots$ \\\\\n",
       "\t28 & 4455.84 & 4455.83 & 4455.83 & 4455.83 & 4455.83 & 4648.06 & 4455.83 & 4455.83 & 4455.83 & $\\dots$ \\\\\n",
       "\t29 & 4432.34 & 4432.29 & 4432.29 & 4432.29 & 4432.29 & 4618.91 & 4432.29 & 4432.29 & 4432.29 & $\\dots$ \\\\\n",
       "\t30 & 4432.27 & 4432.22 & 4432.22 & 4432.22 & 4432.22 & 4618.84 & 4432.22 & 4432.22 & 4432.22 & $\\dots$ \\\\\n",
       "\\end{tabular}\n"
      ],
      "text/plain": [
       "30×24 DataFrame. Omitted printing of 17 columns\n",
       "│ Row │ T1      │ T2      │ T3      │ T4      │ T5      │ T6      │ T7      │\n",
       "│     │ \u001b[90mFloat64\u001b[39m │ \u001b[90mFloat64\u001b[39m │ \u001b[90mFloat64\u001b[39m │ \u001b[90mFloat64\u001b[39m │ \u001b[90mFloat64\u001b[39m │ \u001b[90mFloat64\u001b[39m │ \u001b[90mFloat64\u001b[39m │\n",
       "├─────┼─────────┼─────────┼─────────┼─────────┼─────────┼─────────┼─────────┤\n",
       "│ 1   │ 1842.15 │ 1842.15 │ 1842.15 │ 1842.15 │ 1842.15 │ 1842.15 │ 1842.15 │\n",
       "│ 2   │ 5218.23 │ 5218.23 │ 5218.23 │ 5218.23 │ 5218.23 │ 5218.23 │ 5218.23 │\n",
       "│ 3   │ 3762.2  │ 3762.2  │ 3762.2  │ 3762.2  │ 3762.2  │ 3872.64 │ 3762.2  │\n",
       "│ 4   │ 4221.8  │ 4221.81 │ 4221.81 │ 4221.81 │ 4221.81 │ 4358.68 │ 4221.81 │\n",
       "│ 5   │ 4852.16 │ 4852.16 │ 4852.16 │ 4852.16 │ 4852.16 │ 5567.12 │ 4852.15 │\n",
       "│ 6   │ 4458.88 │ 4458.87 │ 4458.87 │ 4458.87 │ 4458.87 │ 4651.84 │ 4458.87 │\n",
       "│ 7   │ 4617.47 │ 4617.46 │ 4617.46 │ 4617.46 │ 4617.46 │ 5020.9  │ 4617.46 │\n",
       "│ 8   │ 4458.46 │ 4458.45 │ 4458.45 │ 4458.45 │ 4458.45 │ 4651.3  │ 4458.45 │\n",
       "│ 9   │ 4421.1  │ 4421.07 │ 4421.07 │ 4421.07 │ 4421.07 │ 4605.1  │ 4421.06 │\n",
       "│ 10  │ 4401.17 │ 4401.12 │ 4401.12 │ 4401.12 │ 4401.12 │ 4580.43 │ 4401.11 │\n",
       "⋮\n",
       "│ 20  │ 4379.63 │ 4379.62 │ 4379.62 │ 4379.62 │ 4379.62 │ 4553.79 │ 4379.55 │\n",
       "│ 21  │ 4399.36 │ 4399.29 │ 4399.29 │ 4399.29 │ 4399.29 │ 4578.15 │ 4399.28 │\n",
       "│ 22  │ 4398.84 │ 4398.77 │ 4398.77 │ 4398.77 │ 4398.77 │ 4577.49 │ 4398.76 │\n",
       "│ 23  │ 4358.7  │ 4358.66 │ 4358.66 │ 4358.66 │ 4358.66 │ 4527.86 │ 4358.68 │\n",
       "│ 24  │ 4390.29 │ 4390.16 │ 4390.16 │ 4390.16 │ 4390.16 │ 4566.82 │ 4390.16 │\n",
       "│ 25  │ 4416.38 │ 4416.3  │ 4416.3  │ 4416.3  │ 4416.3  │ 4599.15 │ 4416.3  │\n",
       "│ 26  │ 4416.28 │ 4416.2  │ 4416.2  │ 4416.2  │ 4416.2  │ 4599.05 │ 4416.2  │\n",
       "│ 27  │ 4432.22 │ 4432.16 │ 4432.16 │ 4432.16 │ 4432.16 │ 4618.78 │ 4432.16 │\n",
       "│ 28  │ 4455.84 │ 4455.83 │ 4455.83 │ 4455.83 │ 4455.83 │ 4648.06 │ 4455.83 │\n",
       "│ 29  │ 4432.34 │ 4432.29 │ 4432.29 │ 4432.29 │ 4432.29 │ 4618.91 │ 4432.29 │\n",
       "│ 30  │ 4432.27 │ 4432.22 │ 4432.22 │ 4432.22 │ 4432.22 │ 4618.84 │ 4432.22 │"
      ]
     },
     "metadata": {},
     "output_type": "display_data"
    }
   ],
   "source": [
    "prices = zeros(nbus, T)\n",
    "for i in 1:nbus, t in 1:T\n",
    "    prices[i,t] = dual(bals[(i,t)])\n",
    "end\n",
    "prices_df = DataFrame(prices, [Symbol(\"T$(i)\") for i in 1:T])\n",
    "display(prices_df)\n",
    "# display(\"text/plain\", prices)\n",
    "# display(\"text/csv\", round.(prices, digits = 2))"
   ]
  },
  {
   "cell_type": "code",
   "execution_count": 923,
   "metadata": {},
   "outputs": [
    {
     "name": "stdout",
     "output_type": "stream",
     "text": [
      "Space-time average price: 4377.19\n",
      "Space-time median price: 4422.45\n",
      "Space-time maximum price: 5594.81\n",
      "Space-time minimum price: 1842.15\n",
      "Space-time price std: 528.7\n",
      "Space-time price average deviation: 232.0\n"
     ]
    }
   ],
   "source": [
    "# space-time price statistics\n",
    "mean_price = round(Statistics.mean(prices), digits = 2)\n",
    "median_price = round(Statistics.median(prices), digits = 2)\n",
    "max_price = round(maximum(prices), digits = 2)\n",
    "min_price = round(minimum(prices), digits = 2)\n",
    "price_std = round(Statistics.std(prices), digits = 2)\n",
    "price_abs_dev = round(Statistics.mean(abs.(prices .- mean_price)))\n",
    "\n",
    "println(\"Space-time average price: $(mean_price)\")\n",
    "println(\"Space-time median price: $(median_price)\")\n",
    "println(\"Space-time maximum price: $(max_price)\")\n",
    "println(\"Space-time minimum price: $(min_price)\")\n",
    "println(\"Space-time price std: $(price_std)\")\n",
    "println(\"Space-time price average deviation: $(price_abs_dev)\")"
   ]
  },
  {
   "cell_type": "code",
   "execution_count": 446,
   "metadata": {},
   "outputs": [
    {
     "name": "stdout",
     "output_type": "stream",
     "text": [
      "30×7 DataFrame\n",
      "│ Row │ mean    │ median  │ max     │ min     │ range   │ std     │ abs_dev │\n",
      "│     │ \u001b[90mFloat64\u001b[39m │ \u001b[90mFloat64\u001b[39m │ \u001b[90mFloat64\u001b[39m │ \u001b[90mFloat64\u001b[39m │ \u001b[90mFloat64\u001b[39m │ \u001b[90mFloat64\u001b[39m │ \u001b[90mFloat64\u001b[39m │\n",
      "├─────┼─────────┼─────────┼─────────┼─────────┼─────────┼─────────┼─────────┤\n",
      "│ 1   │ 1842.15 │ 1842.15 │ 1842.15 │ 1842.15 │ 0.0     │ 0.0     │ 0.0     │\n",
      "│ 2   │ 5218.23 │ 5218.23 │ 5218.23 │ 5218.23 │ 0.0     │ 0.0     │ 0.0     │\n",
      "│ 3   │ 3783.11 │ 3762.2  │ 3876.92 │ 3754.31 │ 122.61  │ 43.21   │ 32.83   │\n",
      "│ 4   │ 4247.72 │ 4221.81 │ 4363.98 │ 4212.03 │ 151.95  │ 53.55   │ 40.69   │\n",
      "│ 5   │ 4992.88 │ 4852.24 │ 5594.81 │ 4852.15 │ 742.66  │ 276.63  │ 209.93  │\n",
      "│ 6   │ 4497.9  │ 4459.04 │ 4659.32 │ 4458.87 │ 200.45  │ 74.18   │ 56.15   │\n",
      "│ 7   │ 4697.49 │ 4617.6  │ 5036.53 │ 4617.46 │ 419.07  │ 155.79  │ 118.15  │\n",
      "│ 8   │ 4497.6  │ 4458.65 │ 4658.77 │ 4458.45 │ 200.32  │ 74.07   │ 56.04   │\n",
      "│ 9   │ 4463.61 │ 4421.99 │ 4612.24 │ 4421.06 │ 191.18  │ 69.96   │ 53.94   │\n",
      "│ 10  │ 4445.52 │ 4402.44 │ 4587.39 │ 4401.11 │ 186.28  │ 68.97   │ 55.24   │\n",
      "│ 11  │ 4463.51 │ 4421.89 │ 4612.14 │ 4420.96 │ 191.18  │ 69.96   │ 53.94   │\n",
      "│ 12  │ 4326.2  │ 4310.56 │ 4474.42 │ 4147.14 │ 327.28  │ 79.82   │ 53.92   │\n",
      "│ 13  │ 4326.1  │ 4310.46 │ 4474.32 │ 4147.04 │ 327.28  │ 79.82   │ 53.92   │\n",
      "│ 14  │ 4376.87 │ 4359.24 │ 4487.06 │ 4320.64 │ 166.42  │ 60.18   │ 50.17   │\n",
      "│ 15  │ 4415.95 │ 4342.04 │ 4857.6  │ 4334.92 │ 522.68  │ 133.09  │ 94.12   │\n",
      "│ 16  │ 4379.45 │ 4351.03 │ 4524.78 │ 4304.35 │ 220.43  │ 68.05   │ 51.34   │\n",
      "│ 17  │ 4424.48 │ 4385.86 │ 4567.49 │ 4385.15 │ 182.34  │ 66.66   │ 50.31   │\n",
      "│ 18  │ 4426.53 │ 4363.54 │ 4731.43 │ 4358.42 │ 373.01  │ 102.58  │ 79.0    │\n",
      "│ 19  │ 4432.74 │ 4376.13 │ 4656.66 │ 4372.31 │ 284.35  │ 87.27   │ 70.59   │\n",
      "│ 20  │ 4435.92 │ 4382.74 │ 4616.98 │ 4379.55 │ 237.43  │ 80.49   │ 66.68   │\n",
      "│ 21  │ 4445.45 │ 4400.88 │ 4585.11 │ 4399.28 │ 185.83  │ 69.75   │ 56.93   │\n",
      "│ 22  │ 4445.44 │ 4400.44 │ 4584.44 │ 4398.76 │ 185.68  │ 70.07   │ 57.45   │\n",
      "│ 23  │ 4428.35 │ 4363.98 │ 4748.77 │ 4358.66 │ 390.11  │ 105.96  │ 80.89   │\n",
      "│ 24  │ 4444.81 │ 4393.06 │ 4603.98 │ 4390.16 │ 213.82  │ 78.01   │ 65.14   │\n",
      "│ 25  │ 4465.01 │ 4418.16 │ 4606.3  │ 4416.3  │ 190.0   │ 72.36   │ 59.7    │\n",
      "│ 26  │ 4464.93 │ 4418.06 │ 4606.2  │ 4416.2  │ 190.0   │ 72.36   │ 59.71   │\n",
      "│ 27  │ 4477.27 │ 4433.4  │ 4626.05 │ 4432.16 │ 193.89  │ 71.38   │ 56.47   │\n",
      "│ 28  │ 4495.56 │ 4456.13 │ 4655.52 │ 4455.83 │ 199.69  │ 73.58   │ 55.51   │\n",
      "│ 29  │ 4477.39 │ 4433.52 │ 4626.18 │ 4432.29 │ 193.89  │ 71.38   │ 56.46   │\n",
      "│ 30  │ 4477.34 │ 4433.46 │ 4626.11 │ 4432.22 │ 193.89  │ 71.38   │ 56.47   │"
     ]
    }
   ],
   "source": [
    "# spatial price statistics\n",
    "mean_price = round.(Statistics.mean(prices, dims = 2)[:,1], digits = 2)\n",
    "median_price = round.(Statistics.median(prices, dims = 2)[:,1], digits = 2)\n",
    "max_price = round.(maximum(prices, dims = 2)[:,1], digits = 2)\n",
    "min_price = round.(minimum(prices, dims = 2)[:,1], digits = 2)\n",
    "range = max_price .- min_price\n",
    "price_std = round.(Statistics.std(prices, dims = 2)[:,1], digits = 2)\n",
    "price_abs_dev = round.(Statistics.mean(abs.(prices .- mean_price), dims = 2)[:,1], digits = 2)\n",
    "\n",
    "df = DataFrame(mean = mean_price,\n",
    "               median = median_price,\n",
    "               max = max_price,\n",
    "               min = min_price,\n",
    "               range = range,\n",
    "               std = price_std,\n",
    "               abs_dev = price_abs_dev\n",
    "              )\n",
    "print(df)"
   ]
  },
  {
   "cell_type": "code",
   "execution_count": 207,
   "metadata": {},
   "outputs": [
    {
     "name": "stdout",
     "output_type": "stream",
     "text": [
      "24×7 DataFrame\n",
      "│ Row │ mean    │ median  │ max     │ min     │ range   │ std     │ abs_dev │\n",
      "│     │ \u001b[90mFloat64\u001b[39m │ \u001b[90mFloat64\u001b[39m │ \u001b[90mFloat64\u001b[39m │ \u001b[90mFloat64\u001b[39m │ \u001b[90mFloat64\u001b[39m │ \u001b[90mFloat64\u001b[39m │ \u001b[90mFloat64\u001b[39m │\n",
      "├─────┼─────────┼─────────┼─────────┼─────────┼─────────┼─────────┼─────────┤\n",
      "│ 1   │ 6223.24 │ 4803.52 │ 20000.0 │ 1842.15 │ 18157.8 │ 4119.51 │ 2923.67 │\n",
      "│ 2   │ 10521.0 │ 10478.7 │ 20000.0 │ 1842.15 │ 18157.8 │ 4377.33 │ 3133.52 │\n",
      "│ 3   │ 7225.74 │ 6826.53 │ 20000.0 │ -584.65 │ 20584.7 │ 4566.55 │ 3235.56 │\n",
      "│ 4   │ 4331.01 │ 4399.09 │ 5218.23 │ 1842.15 │ 3376.08 │ 518.89  │ 214.56  │\n",
      "│ 5   │ 7225.74 │ 6826.54 │ 20000.0 │ -584.66 │ 20584.7 │ 4566.55 │ 3235.56 │\n",
      "│ 6   │ 6223.24 │ 4803.52 │ 20000.0 │ 1842.15 │ 18157.8 │ 4119.51 │ 2923.67 │\n",
      "│ 7   │ 7225.76 │ 6826.54 │ 20000.0 │ -584.57 │ 20584.6 │ 4566.53 │ 3235.56 │\n",
      "│ 8   │ 8298.55 │ 8158.65 │ 20000.0 │ 1842.15 │ 18157.8 │ 2755.86 │ 1173.11 │\n",
      "│ 9   │ 10521.0 │ 10478.7 │ 20000.0 │ 1842.15 │ 18157.8 │ 4377.33 │ 3133.52 │\n",
      "│ 10  │ 10521.0 │ 10478.6 │ 20000.0 │ 1842.15 │ 18157.8 │ 4377.33 │ 3133.52 │\n",
      "│ 11  │ 6223.23 │ 4803.5  │ 20000.0 │ 1842.15 │ 18157.8 │ 4119.51 │ 2923.66 │\n",
      "│ 12  │ 7225.74 │ 6826.53 │ 20000.0 │ -584.65 │ 20584.7 │ 4566.55 │ 3235.56 │\n",
      "│ 13  │ 4331.01 │ 4399.09 │ 5218.23 │ 1842.15 │ 3376.08 │ 518.89  │ 214.56  │\n",
      "│ 14  │ 4331.04 │ 4399.12 │ 5218.23 │ 1842.15 │ 3376.08 │ 518.89  │ 214.56  │\n",
      "│ 15  │ 8298.54 │ 8158.56 │ 20000.0 │ 1842.15 │ 18157.8 │ 2755.86 │ 1173.12 │\n",
      "│ 16  │ 8500.12 │ 5474.83 │ 20000.0 │ 258.2   │ 19741.8 │ 5824.47 │ 4832.94 │\n",
      "│ 17  │ 8298.54 │ 8158.64 │ 20000.0 │ 1842.15 │ 18157.8 │ 2755.86 │ 1173.11 │\n",
      "│ 18  │ 11485.6 │ 11542.2 │ 20000.0 │ 1842.15 │ 18157.8 │ 5128.16 │ 4249.15 │\n",
      "│ 19  │ 8298.54 │ 8158.64 │ 20000.0 │ 1842.15 │ 18157.8 │ 2755.86 │ 1173.11 │\n",
      "│ 20  │ 6223.26 │ 4803.49 │ 20000.0 │ 1842.15 │ 18157.8 │ 4119.5  │ 2923.67 │\n",
      "│ 21  │ 9735.18 │ 8486.65 │ 20000.0 │ 1842.15 │ 18157.8 │ 4081.39 │ 3055.96 │\n",
      "│ 22  │ 10521.0 │ 10478.6 │ 20000.0 │ 1842.15 │ 18157.8 │ 4377.33 │ 3133.52 │\n",
      "│ 23  │ 4331.02 │ 4399.1  │ 5218.23 │ 1842.15 │ 3376.08 │ 518.89  │ 214.56  │\n",
      "│ 24  │ 11485.6 │ 11542.2 │ 20000.0 │ 1842.15 │ 18157.8 │ 5128.16 │ 4249.16 │"
     ]
    }
   ],
   "source": [
    "# temporal price statistics\n",
    "mean_price = round.(Statistics.mean(prices, dims = 1)[1,:], digits = 2)\n",
    "median_price = round.(Statistics.median(prices, dims = 1)[1,:], digits = 2)\n",
    "max_price = round.(maximum(prices, dims = 1)[1,:], digits = 2)\n",
    "min_price = round.(minimum(prices, dims = 1)[1,:], digits = 2)\n",
    "range = max_price .- min_price\n",
    "price_std = round.(Statistics.std(prices, dims = 1)[1,:], digits = 2)\n",
    "price_abs_dev = round.(Statistics.mean(abs.(prices' .- mean_price), dims = 2)[:,1], digits = 2)\n",
    "\n",
    "df = DataFrame(mean = mean_price,\n",
    "               median = median_price,\n",
    "               max = max_price,\n",
    "               min = min_price,\n",
    "               range = range,\n",
    "               std = price_std,\n",
    "               abs_dev = price_abs_dev\n",
    "              )\n",
    "print(df)"
   ]
  }
 ],
 "metadata": {
  "kernelspec": {
   "display_name": "Julia 1.5.3",
   "language": "julia",
   "name": "julia-1.5"
  },
  "language_info": {
   "file_extension": ".jl",
   "mimetype": "application/julia",
   "name": "julia",
   "version": "1.5.3"
  }
 },
 "nbformat": 4,
 "nbformat_minor": 2
}
