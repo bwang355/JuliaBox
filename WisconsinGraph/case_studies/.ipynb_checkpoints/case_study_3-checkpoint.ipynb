{
 "cells": [
  {
   "cell_type": "code",
   "execution_count": 5,
   "metadata": {},
   "outputs": [],
   "source": [
    "import warnings\n",
    "warnings.filterwarnings('ignore')\n",
    "\n",
    "import time\n",
    "import os\n",
    "import conda\n",
    "import pandas as pd\n",
    "import numpy as np\n",
    "import json\n",
    "from shapely.ops import nearest_points\n",
    "from shapely.geometry import MultiPoint\n",
    "import matplotlib.dates as mdates\n",
    "import math\n",
    "# from shapely.geometry import Polygon as Poly\n",
    "\n",
    "pd.options.display.max_columns = 250\n",
    "pd.options.display.max_rows=150\n",
    "\n",
    "conda_file_dir = conda.__file__\n",
    "conda_dir = conda_file_dir.split('lib')[0]\n",
    "proj_lib = os.path.join(os.path.join(conda_dir, 'share'), 'proj')\n",
    "os.environ[\"PROJ_LIB\"] = proj_lib\n",
    "\n",
    "import matplotlib.pyplot as plt\n",
    "import matplotlib.cm\n",
    "import matplotlib.colors as colors\n",
    "%matplotlib inline\n",
    "from matplotlib.lines import Line2D\n",
    "from matplotlib.patches import Patch\n",
    "\n",
    "import geopandas\n",
    "import geopandas as gpd\n",
    "from geopandas.tools import sjoin\n",
    "import pandas as pd\n",
    "\n",
    "from shapely.geometry import Point\n",
    "\n",
    "from scipy.interpolate import interp1d\n",
    "\n",
    "import datetime\n",
    "import scipy.stats as st\n",
    "from scipy.optimize import curve_fit\n",
    "\n",
    "from tqdm import tqdm\n",
    "import networkx as nx\n",
    "\n",
    "import sys\n",
    "sys.path.insert(1, '../graph_construction/')\n",
    "from WI_graph_functions import *"
   ]
  },
  {
   "cell_type": "code",
   "execution_count": 6,
   "metadata": {},
   "outputs": [],
   "source": [
    "WILakes  = pd.read_pickle(\"../graph_construction/WILakes.df\")\n",
    "WIRivers = pd.read_pickle(\"../graph_construction/WIRivers.df\")\n",
    "agland   = pd.read_pickle(\"../graph_construction/agland.df\")\n",
    "\n",
    "HUC8  = gpd.GeoDataFrame.from_file(\"../graph_construction/WIgeodataframes/HUC8/HUC8.shp\")\n",
    "HUC10 = gpd.GeoDataFrame.from_file(\"../graph_construction/WIgeodataframes/HUC10/HUC10.shp\")\n",
    "HUC12 = gpd.GeoDataFrame.from_file(\"../graph_construction/WIgeodataframes/HUC12/HUC12.shp\")\n",
    "\n",
    "WItofroms_agg   = pd.read_csv(\"../graph_construction/WIgeodataframes/WItofroms_agg.csv\")\n",
    "\n",
    "WI    = gpd.GeoDataFrame.from_file(\"../graph_construction/lakes_rivers/WI/WI.shp\")\n"
   ]
  },
  {
   "cell_type": "code",
   "execution_count": 7,
   "metadata": {},
   "outputs": [],
   "source": [
    "G_agg = build_graph(WItofroms_agg)"
   ]
  },
  {
   "cell_type": "code",
   "execution_count": null,
   "metadata": {},
   "outputs": [
    {
     "name": "stderr",
     "output_type": "stream",
     "text": [
      " 33%|██████████████████████████                                                    | 2854/8526 [00:31<01:03, 89.10it/s]"
     ]
    }
   ],
   "source": [
    "G_agg_pos, node_colors_agg, node_size_agg = get_pos_dict(G_agg, WILakes, WIRivers)"
   ]
  },
  {
   "cell_type": "code",
   "execution_count": null,
   "metadata": {},
   "outputs": [],
   "source": [
    "all_nodes = [i for i in G_agg.nodes]"
   ]
  },
  {
   "cell_type": "code",
   "execution_count": null,
   "metadata": {},
   "outputs": [],
   "source": [
    "df = pd.DataFrame( {\"Node\":[\"source1\",\"source2\"], \"huc12\":[70700030102,40302021001], 'latitude':[44.85,44.85], 'longitude':[-89.35,-89.295]})\n",
    "\n",
    "sources = gpd.GeoDataFrame(df, geometry=gpd.points_from_xy(df.longitude, df.latitude))\n",
    "sources = sources.set_crs(\"EPSG:4326\")"
   ]
  },
  {
   "cell_type": "code",
   "execution_count": null,
   "metadata": {},
   "outputs": [],
   "source": [
    "G_source = add_source_to_graph(G_agg, WILakes, WIRivers, sources)\n",
    "G_lakes_pos[\"source1\"] = np.array([sources.geometry.x.values[0], sources.geometry.y.values[0]])\n",
    "G_lakes_pos[\"source2\"] = np.array([sources.geometry.x.values[1], sources.geometry.y.values[1]])"
   ]
  },
  {
   "cell_type": "code",
   "execution_count": null,
   "metadata": {},
   "outputs": [],
   "source": [
    "    \n",
    "G_down1,x = get_downstream_graph(G_source, \"source1\", G_lakes_pos,WILakes, WIRivers)\n",
    "G_down2,x = get_downstream_graph(G_source, \"source2\", G_lakes_pos,WILakes, WIRivers)\n",
    "\n",
    "def color_nodes(G,lake_gdf, riv_gdf, source):\n",
    "\n",
    "    node_colors= []\n",
    "    node_size = []\n",
    "    \n",
    "    \n",
    "    for j in tqdm((G.nodes)):\n",
    "        \n",
    "        if np.isin(j, riv_gdf.COMID.values):\n",
    "            node_colors.append(\"red\")\n",
    "            node_size.append(10)\n",
    "        elif np.isin(j, source.Node.values):\n",
    "            node_colors.append(\"orange\")\n",
    "            node_size.append(10)\n",
    "        else:\n",
    "            node_colors.append(\"blue\")\n",
    "            node_size.append(10)\n",
    "            \n",
    "\n",
    "    return node_colors, node_size\n",
    "\n",
    "node_colors1, node_size1 = color_nodes(G_down1, WILakes, WIRivers, sources)\n",
    "node_colors2, node_size2 = color_nodes(G_down2, WILakes, WIRivers, sources)"
   ]
  },
  {
   "cell_type": "code",
   "execution_count": null,
   "metadata": {},
   "outputs": [],
   "source": [
    "nodes1 = [i for i in G_down1.nodes]\n",
    "nodes2 = [i for i in G_down2.nodes]"
   ]
  },
  {
   "cell_type": "code",
   "execution_count": null,
   "metadata": {},
   "outputs": [],
   "source": [
    "fig, ax = plt.subplots(figsize=(10,10))\n",
    "\n",
    "all_nodes = [i for i in G_down1.nodes]\n",
    "\n",
    "WI.plot(ax=ax, color=\"none\", edgecolor=\"black\")\n",
    "WILakes[WILakes.COMID.isin(all_nodes)].plot(ax=ax, color=\"skyblue\")\n",
    "nx.draw_networkx(G_down1,pos=G_lakes_pos,node_size=(np.array(node_size1)),with_labels=False,arrowsize=5,ax=ax,node_color=node_colors1)#, node_shape=node_shape_c)#,markersize=markersize)\n",
    "sources[sources.Node == \"source1\"].plot(ax=ax, color=\"orange\", marker=\"s\", markersize=30, zorder=100)\n"
   ]
  },
  {
   "cell_type": "code",
   "execution_count": null,
   "metadata": {},
   "outputs": [],
   "source": [
    "fig, ax = plt.subplots(figsize=(10,10))\n",
    "\n",
    "all_nodes = [i for i in G_down2.nodes]\n",
    "\n",
    "WI.plot(ax=ax, color=\"none\", edgecolor=\"black\")\n",
    "WILakes[WILakes.COMID.isin(all_nodes)].plot(ax=ax, color=\"skyblue\")\n",
    "nx.draw_networkx(G_down2,pos=G_lakes_pos,node_size=(np.array(node_size2)),with_labels=False,arrowsize=5,ax=ax,node_color=node_colors2)#, node_shape=node_shape_c)#,markersize=markersize)\n",
    "sources[sources.Node == \"source2\"].plot(ax=ax, color=\"purple\", marker=\"s\", markersize=30, zorder=100)\n",
    "\n",
    "#legend_elements = [\n",
    "#                   Line2D([0],[0], markersize=5, label=\"Waterbody Node\",marker='o', color='blue',linestyle=\"None\"),\n",
    "#                   Line2D([0],[0], markersize=5, label=\"River Node\",marker='o',color='red',linestyle=\"None\"),\n",
    "#                   Line2D([0],[0], markersize=10, label=\"Source Location 1\", marker=\"s\", color=\"orange\", linestyle=\"None\"),\n",
    "#                   Line2D([0],[0], markersize=10, label=\"Source Location 2\", marker=\"s\", color=\"purple\", linestyle=\"None\"),\n",
    "#                   Patch(facecolor=\"skyblue\", edgecolor=\"none\", label=\"Waterbody\")]\n",
    "#\n",
    "#ax.legend(handles=legend_elements, loc = 'upper right',fontsize=20)\n",
    "#plt.savefig(\"fig8b.pdf\")"
   ]
  },
  {
   "cell_type": "code",
   "execution_count": null,
   "metadata": {},
   "outputs": [],
   "source": []
  }
 ],
 "metadata": {
  "kernelspec": {
   "display_name": "Python 3",
   "language": "python",
   "name": "python3"
  }
 },
 "nbformat": 4,
 "nbformat_minor": 4
}
