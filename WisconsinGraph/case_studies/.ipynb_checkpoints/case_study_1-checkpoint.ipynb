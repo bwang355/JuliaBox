{
 "cells": [
  {
   "cell_type": "code",
   "execution_count": 1,
   "metadata": {},
   "outputs": [],
   "source": [
    "import warnings\n",
    "warnings.filterwarnings('ignore')\n",
    "\n",
    "import time\n",
    "import os\n",
    "import conda\n",
    "import pandas as pd\n",
    "import numpy as np\n",
    "import json\n",
    "from shapely.ops import nearest_points\n",
    "from shapely.geometry import MultiPoint\n",
    "import matplotlib.dates as mdates\n",
    "import math\n",
    "# from shapely.geometry import Polygon as Poly\n",
    "\n",
    "pd.options.display.max_columns = 250\n",
    "pd.options.display.max_rows=150\n",
    "\n",
    "conda_file_dir = conda.__file__\n",
    "conda_dir = conda_file_dir.split('lib')[0]\n",
    "proj_lib = os.path.join(os.path.join(conda_dir, 'share'), 'proj')\n",
    "os.environ[\"PROJ_LIB\"] = proj_lib\n",
    "\n",
    "import matplotlib.pyplot as plt\n",
    "import matplotlib.cm\n",
    "import matplotlib.colors as colors\n",
    "%matplotlib inline\n",
    "from matplotlib.lines import Line2D\n",
    "from matplotlib.patches import Patch\n",
    "\n",
    "import geopandas\n",
    "import geopandas as gpd\n",
    "from geopandas.tools import sjoin\n",
    "import pandas as pd\n",
    "\n",
    "from shapely.geometry import Point\n",
    "\n",
    "from scipy.interpolate import interp1d\n",
    "\n",
    "import datetime\n",
    "import scipy.stats as st\n",
    "from scipy.optimize import curve_fit\n",
    "\n",
    "from tqdm import tqdm\n",
    "import networkx as nx\n",
    "\n",
    "import sys\n",
    "sys.path.insert(1, '../graph_construction/')\n",
    "from WI_graph_functions import *"
   ]
  },
  {
   "cell_type": "code",
   "execution_count": 2,
   "metadata": {},
   "outputs": [],
   "source": [
    "WILakes  = pd.read_pickle(\"../graph_construction/WILakes.df\")\n",
    "WIRivers = pd.read_pickle(\"../graph_construction/WIRivers.df\")\n",
    "agland   = pd.read_pickle(\"../graph_construction/agland.df\")\n",
    "\n",
    "HUC8  = gpd.GeoDataFrame.from_file(\"../graph_construction/WIgeodataframes/HUC8/HUC8.shp\")\n",
    "HUC10 = gpd.GeoDataFrame.from_file(\"../graph_construction/WIgeodataframes/HUC10/HUC10.shp\")\n",
    "HUC12 = gpd.GeoDataFrame.from_file(\"../graph_construction/WIgeodataframes/HUC12/HUC12.shp\")\n",
    "\n",
    "WItofroms       = pd.read_csv(\"../graph_construction/WIgeodataframes/WItofroms.csv\")\n",
    "WItofroms_lakes = pd.read_csv(\"../graph_construction/WIgeodataframes/WItofroms_lakes.csv\")\n",
    "WItofroms_agg   = pd.read_csv(\"../graph_construction/WIgeodataframes/WItofroms_agg.csv\")\n",
    "\n",
    "WI    = gpd.GeoDataFrame.from_file(\"../graph_construction/lakes_rivers/WI/WI.shp\")\n",
    "CAFOS = gpd.GeoDataFrame.from_file(\"../graph_construction/CAFOS_shp/CAFOS_shp.shp\")"
   ]
  },
  {
   "cell_type": "code",
   "execution_count": 3,
   "metadata": {},
   "outputs": [],
   "source": [
    "G_agg = build_graph(WItofroms_agg)"
   ]
  },
  {
   "cell_type": "code",
   "execution_count": null,
   "metadata": {},
   "outputs": [
    {
     "name": "stderr",
     "output_type": "stream",
     "text": [
      "  3%|██▋                                                                            | 293/8526 [00:03<01:31, 89.81it/s]"
     ]
    }
   ],
   "source": [
    "G_agg_pos, node_colors_agg, node_size_agg = get_pos_dict(G_agg, WILakes, WIRivers)"
   ]
  },
  {
   "cell_type": "code",
   "execution_count": null,
   "metadata": {},
   "outputs": [],
   "source": [
    "G_lakes = build_graph(WItofroms_lakes)"
   ]
  },
  {
   "cell_type": "code",
   "execution_count": null,
   "metadata": {},
   "outputs": [],
   "source": [
    "G_lakes_pos, node_colors_lakes, node_size_lakes = get_pos_dict(G_lakes,  WILakes, WIRivers)"
   ]
  },
  {
   "cell_type": "code",
   "execution_count": null,
   "metadata": {
    "scrolled": true
   },
   "outputs": [],
   "source": [
    "G_CAFOS = add_CAFOS_to_graph(G_lakes, WILakes, WIRivers, CAFOS)\n",
    "\n",
    "G_CAFOS_pos, node_colors_CAFOS, node_size_CAFOS = get_pos_dict_with_pollutant(G_CAFOS, WILakes, WIRivers, CAFOS)"
   ]
  },
  {
   "cell_type": "code",
   "execution_count": null,
   "metadata": {},
   "outputs": [],
   "source": [
    "G_CAFOS2 = add_CAFOS_to_graph(G_agg, WILakes, WIRivers, CAFOS)\n",
    "\n",
    "G_CAFOS_pos2, node_colors_CAFOS2, node_size_CAFOS2 = get_pos_dict_with_pollutant(G_CAFOS2, WILakes, WIRivers, CAFOS)"
   ]
  },
  {
   "cell_type": "code",
   "execution_count": null,
   "metadata": {},
   "outputs": [],
   "source": [
    "Alt,  Alt_colors  = get_upstream_graph(G_CAFOS, 13097728,  WILakes, WIRivers)\n",
    "Moh,  Moh_colors  = get_upstream_graph(G_CAFOS, 120052157, WILakes, WIRivers)"
   ]
  },
  {
   "cell_type": "code",
   "execution_count": null,
   "metadata": {
    "scrolled": false
   },
   "outputs": [],
   "source": [
    "def plot_with_watersheds(G, G_pos, G_cols, lake_gdf, river_gdf, HUC12, HUC10, WI_too = False,comid_too = False, comid=0, node_size = 20, arrowsize=5, leg = False):\n",
    "    all_nodes = [i for i in G.nodes]\n",
    "    rivers = river_gdf[river_gdf.COMID.isin(all_nodes)]\n",
    "    lakes  = lake_gdf[lake_gdf.COMID.isin(all_nodes)]\n",
    "    \n",
    "    huc12_rivs  = [i for i in rivers.huc12.values]\n",
    "    \n",
    "    huc12_lakes = [i for i in lakes.huc12.values]\n",
    "    huc12_vals = huc12_lakes + huc12_rivs\n",
    "    huc10_vals = [i for i in lakes.huc10.values]\n",
    "    huc12s     = HUC12[HUC12.huc12.isin(huc12_vals)]\n",
    "    huc10s     = HUC10[HUC10.huc10.isin(huc10_vals)]\n",
    "    \n",
    "    fig, ax = plt.subplots(figsize=(13,13))\n",
    "    huc12s.plot(ax=ax, color=\"none\", edgecolor=\"black\")\n",
    "    lakes.plot(ax=ax, color=\"skyblue\")\n",
    "    if WI_too:\n",
    "        WI.plot(ax=ax, color=\"none\", edgecolor=\"black\")\n",
    "    if comid_too:\n",
    "        WILakes[WILakes.COMID == comid].centroid.plot(ax=ax, markersize=400,marker=\"*\", color=\"gold\",edgecolors=\"black\",linewidth = 1,zorder=151)\n",
    "        #WILakes[WILakes.COMID == comid].plot(ax=ax, color=\"red\")\n",
    "    if len(CAFOS[CAFOS.huc12.isin(huc12_vals)])>0:\n",
    "        CAFOS[CAFOS.huc12.isin(huc12_vals)].centroid.plot(ax=ax, markersize=50, color=\"orange\",marker=\"s\", zorder=150)\n",
    "    \n",
    "    legend_elements = [\n",
    "                   Line2D([0],[0], markersize=10, label=\"Waterbody Node\",marker='o', color='blue',linestyle=\"None\"),\n",
    "                   Line2D([0],[0], markersize=10, label=\"River Node\",marker='o',color='red',linestyle=\"None\"),\n",
    "                   Line2D([0],[0], markersize=10, label=\"CAFO\", marker=\"s\", color=\"purple\", linestyle=\"None\"),\n",
    "                   Line2D([0],[0], markersize=18, label=\"Lake\", marker=\"*\", color=\"gold\", linestyle=\"None\", markeredgecolor=\"black\"),\n",
    "                   Patch(facecolor=\"green\", edgecolor=\"none\", label=\"Agricultural Land\")]\n",
    "    nx.draw_networkx(G,pos=G_pos,node_size=node_size,with_labels=False,ax=ax,arrowsize=arrowsize,node_color=G_cols)\n",
    "    \n",
    "    if leg:\n",
    "        ax.legend(handles=legend_elements, loc = 'upper left',fontsize=22)\n",
    "    plt.show()\n",
    "\n",
    "    \n",
    "def plot_with_watersheds_agland(G, G_pos, G_cols, lake_gdf, river_gdf, HUC12, HUC10,agland, WI_too = False,comid_too = False, comid=0, node_size = 20, arrowsize=5,leg=False):\n",
    "    all_nodes = [i for i in G.nodes]\n",
    "    rivers = river_gdf[river_gdf.COMID.isin(all_nodes)]\n",
    "    lakes  = lake_gdf[lake_gdf.COMID.isin(all_nodes)]\n",
    "    \n",
    "    huc12_rivs  = [i for i in rivers.huc12.values]\n",
    "    \n",
    "    huc12_lakes = [i for i in lakes.huc12.values]\n",
    "    huc12_vals = huc12_lakes + huc12_rivs\n",
    "    huc10_vals = [i for i in lakes.huc10.values]\n",
    "    aglands    = agland[agland.huc12.isin(huc12_vals)]\n",
    "    huc12s     = HUC12[HUC12.huc12.isin(huc12_vals)]\n",
    "    huc10s     = HUC10[HUC10.huc10.isin(huc10_vals)]\n",
    "    \n",
    "    aglands    = agland[agland.huc12.isin(huc12_vals)].copy(deep=True)\n",
    "    \n",
    "    huc12s     = HUC12[HUC12.huc12.isin(huc12_vals)]\n",
    "    huc10s     = HUC10[HUC10.huc10.isin(huc10_vals)]\n",
    "    print(\"starting overlay\")\n",
    "    aglands    = gpd.overlay(aglands, huc10s,how=\"intersection\")\n",
    "    print(\"done with overlay\")\n",
    "    \n",
    "    \n",
    "    fig, ax = plt.subplots(figsize=(13,13))\n",
    "    aglands.plot(ax=ax, color=\"forestgreen\")\n",
    "    huc12s.plot(ax=ax, color=\"none\", edgecolor=\"black\")\n",
    "    lakes.plot(ax=ax, color=\"skyblue\")\n",
    "    if WI_too:\n",
    "        WI.plot(ax=ax, color=\"none\", edgecolor=\"black\")\n",
    "    if comid_too:\n",
    "        WILakes[WILakes.COMID == comid].centroid.plot(ax=ax, markersize=400,marker=\"*\", color=\"gold\",edgecolors=\"black\",linewidth = 1,zorder=151)\n",
    "    if len(CAFOS[CAFOS.huc12.isin(huc12_vals)])>0:\n",
    "        CAFOS[CAFOS.huc12.isin(huc12_vals)].centroid.plot(ax=ax, markersize=70, color=\"orange\",marker=\"s\", zorder=150)\n",
    "    legend_elements = [Line2D([0],[0], color=\"black\", lw=2, label=\"HUC12 Watershed\"),\n",
    "                   Line2D([0],[0], markersize=10, label=\"Waterbody Node\",marker='o', color='blue',linestyle=\"None\"),\n",
    "                   Line2D([0],[0], markersize=10, label=\"River Node\",marker='o',color='red',linestyle=\"None\"),\n",
    "                   Line2D([0],[0], markersize=10, label=\"CAFO\", marker=\"s\", color=\"orange\", linestyle=\"None\"),\n",
    "                   Line2D([0],[0], markersize=18, label=\"Altoona Lake\", marker=\"*\", color=\"gold\", linestyle=\"None\", markeredgecolor=\"black\"),\n",
    "                   Patch(facecolor=\"skyblue\", edgecolor=\"none\", label=\"Waterbody\"),\n",
    "                   Patch(facecolor=\"green\", edgecolor=\"none\", label=\"Agricultural Land\")]\n",
    "    nx.draw_networkx(G,pos=G_pos,node_size=node_size,with_labels=False,ax=ax,arrowsize=arrowsize,node_color=G_cols)\n",
    "    \n",
    "    if leg:\n",
    "        ax.legend(handles=legend_elements, loc = 'upper left',fontsize=22)\n",
    "    plt.show()\n",
    "\n",
    "\n"
   ]
  },
  {
   "cell_type": "code",
   "execution_count": null,
   "metadata": {},
   "outputs": [],
   "source": [
    "plot_with_watersheds(Alt, G_CAFOS_pos, Alt_colors, WILakes, WIRivers, HUC12, HUC10, True, False, 13097728,2,1)"
   ]
  },
  {
   "cell_type": "code",
   "execution_count": null,
   "metadata": {},
   "outputs": [],
   "source": [
    "plot_with_watersheds(Alt, G_CAFOS_pos, Alt_colors, WILakes, WIRivers, HUC12, HUC10, False, True, 13097728,20,7)"
   ]
  },
  {
   "cell_type": "code",
   "execution_count": null,
   "metadata": {},
   "outputs": [],
   "source": [
    "plot_with_watersheds_agland(Alt, G_CAFOS_pos, Alt_colors, WILakes, WIRivers, HUC12, HUC10,agland,  False, True, 13097728,20,7)"
   ]
  },
  {
   "cell_type": "code",
   "execution_count": null,
   "metadata": {},
   "outputs": [],
   "source": [
    "plot_with_watersheds(Moh, G_CAFOS_pos, Moh_colors, WILakes, WIRivers, HUC12, HUC10, True, False, 120052157,2,1)"
   ]
  },
  {
   "cell_type": "code",
   "execution_count": null,
   "metadata": {},
   "outputs": [],
   "source": [
    "plot_with_watersheds(Moh, G_CAFOS_pos, Moh_colors, WILakes, WIRivers, HUC12, HUC10, False, True, 120052157,20,7)"
   ]
  },
  {
   "cell_type": "code",
   "execution_count": null,
   "metadata": {},
   "outputs": [],
   "source": [
    "plot_with_watersheds_agland(Moh, G_CAFOS_pos, Moh_colors, WILakes, WIRivers, HUC12, HUC10,agland, False, True, 120052157,20,7)"
   ]
  },
  {
   "cell_type": "code",
   "execution_count": null,
   "metadata": {},
   "outputs": [],
   "source": [
    "def get_ag_fraction(G, lake_gdf, river_gdf,agland):\n",
    "\n",
    "    all_nodes = [i for i in G.nodes]\n",
    "    rivers = river_gdf[river_gdf.COMID.isin(all_nodes)].copy(deep=True)\n",
    "    lakes  = lake_gdf[lake_gdf.COMID.isin(all_nodes)].copy(deep=True)\n",
    "    \n",
    "    huc12_rivs  = [i for i in rivers.huc12.values]\n",
    "    \n",
    "    huc12_lakes = [i for i in lakes.huc12.values]\n",
    "    huc12_vals = huc12_lakes + huc12_rivs\n",
    "    huc10_vals = [i for i in lakes.huc10.values]\n",
    "    aglands    = agland[agland.huc12.isin(huc12_vals)].copy(deep=True)\n",
    "    \n",
    "    huc12s     = HUC12[HUC12.huc12.isin(huc12_vals)]\n",
    "    huc10s     = HUC10[HUC10.huc10.isin(huc10_vals)]\n",
    "    \n",
    "    \n",
    "    print(\"starting overlay\")\n",
    "    aglands    = gpd.overlay(aglands, huc10s,how=\"intersection\")\n",
    "    print(\"done with overlay\")\n",
    "    \n",
    "    HUC12_area = np.sum(huc12s.area.values)\n",
    "    \n",
    "    ag_area    = np.sum(aglands.area.values)\n",
    "    \n",
    "    print(\"The agricultural land fraction of the given lake is \")\n",
    "    print(ag_area/HUC12_area)\n",
    "    \n",
    "def get_lake_sqkm(G, lake_gdf):\n",
    "    all_nodes = [i for i in G.nodes]\n",
    "    \n",
    "    lakes = lake_gdf[lake_gdf.COMID.isin(all_nodes)].copy(deep=True)\n",
    "    \n",
    "    areas = np.sum(lakes.AREASQKM.values)\n",
    "    \n",
    "    print(\"The area of the lakes in the graph is \")\n",
    "    print(areas)\n",
    "    print(\"The number of lakes in the graph is \")\n",
    "    print(len(lakes))"
   ]
  },
  {
   "cell_type": "code",
   "execution_count": null,
   "metadata": {},
   "outputs": [],
   "source": [
    "get_ag_fraction(Alt, WILakes, WIRivers, agland)"
   ]
  },
  {
   "cell_type": "code",
   "execution_count": null,
   "metadata": {},
   "outputs": [],
   "source": [
    "get_ag_fraction(Moh, WILakes, WIRivers, agland)"
   ]
  },
  {
   "cell_type": "code",
   "execution_count": null,
   "metadata": {
    "scrolled": true
   },
   "outputs": [],
   "source": [
    "get_lake_sqkm(Alt, WILakes)"
   ]
  },
  {
   "cell_type": "code",
   "execution_count": null,
   "metadata": {},
   "outputs": [],
   "source": [
    "get_lake_sqkm(Moh, WILakes)"
   ]
  },
  {
   "cell_type": "code",
   "execution_count": null,
   "metadata": {},
   "outputs": [],
   "source": [
    "Alt_area = WILakes.AREASQKM[WILakes.COMID == 13097728].iloc[0]\n",
    "Moh_area = WILakes.AREASQKM[WILakes.COMID == 120052157].iloc[0]\n",
    "\n",
    "print(\"Altoona Lake area is \", 10.359-Alt_area)\n",
    "print(\"Lake Mohawksin area is \", 353.503-Moh_area)"
   ]
  },
  {
   "cell_type": "code",
   "execution_count": null,
   "metadata": {},
   "outputs": [],
   "source": []
  }
 ],
 "metadata": {
  "kernelspec": {
   "display_name": "Python 3",
   "language": "python",
   "name": "python3"
  },
  "language_info": {
   "codemirror_mode": {
    "name": "ipython",
    "version": 3
   },
   "file_extension": ".py",
   "mimetype": "text/x-python",
   "name": "python",
   "nbconvert_exporter": "python",
   "pygments_lexer": "ipython3",
   "version": "3.8.5"
  }
 },
 "nbformat": 4,
 "nbformat_minor": 4
}
