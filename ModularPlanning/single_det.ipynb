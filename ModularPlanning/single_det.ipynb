{
 "cells": [
  {
   "cell_type": "code",
   "execution_count": 38,
   "metadata": {},
   "outputs": [],
   "source": [
    "using JuMP, Gurobi, LinearAlgebra, Statistics, Plots"
   ]
  },
  {
   "cell_type": "code",
   "execution_count": 48,
   "metadata": {},
   "outputs": [],
   "source": [
    "#time step\n",
    "T=[1,2,3,4];\n",
    "#parent node\n",
    "a=Dict()\n",
    "a[4]=[3]\n",
    "a[3]=[2]\n",
    "a[2]=[1]\n",
    "a[1]=nothing\n",
    "#demand\n",
    "d=Dict();d[1]=800;d[2]=700;d[3]=1000;d[4]=900\n",
    "#decision stage\n",
    "D=[1,2,3];\n",
    "#capacity and cost list\n",
    "B=[100,500,1000,1500];C=[247,721,1145,1500];N=length(C);\n",
    "#limitations, costs and prices\n",
    "x_bar=1500;y_bar=2000;s_bar=400;\n",
    "π_p=140;ρ_p=50;ρ_s=30;ρ_w=30;\n",
    "γ=0;"
   ]
  },
  {
   "cell_type": "code",
   "execution_count": 59,
   "metadata": {},
   "outputs": [
    {
     "name": "stdout",
     "output_type": "stream",
     "text": [
      "Academic license - for non-commercial use only\n",
      "Academic license - for non-commercial use only\n",
      "Gurobi Optimizer version 9.0.3 build v9.0.3rc0 (mac64)\n",
      "Optimize a model with 28 rows, 36 columns and 107 nonzeros\n",
      "Model fingerprint: 0x26f2a856\n",
      "Variable types: 16 continuous, 20 integer (0 binary)\n",
      "Coefficient statistics:\n",
      "  Matrix range     [1e+00, 2e+03]\n",
      "  Objective range  [1e+00, 1e+00]\n",
      "  Bounds range     [2e+03, 2e+03]\n",
      "  RHS range        [4e+02, 1e+03]\n",
      "Found heuristic solution: objective -0.0000000\n",
      "Presolve removed 19 rows and 16 columns\n",
      "Presolve time: 0.00s\n",
      "Presolved: 9 rows, 20 columns, 37 nonzeros\n",
      "Variable types: 0 continuous, 20 integer (6 binary)\n",
      "\n",
      "Root relaxation: objective 2.301000e+05, 4 iterations, 0.00 seconds\n",
      "\n",
      "    Nodes    |    Current Node    |     Objective Bounds      |     Work\n",
      " Expl Unexpl |  Obj  Depth IntInf | Incumbent    BestBd   Gap | It/Node Time\n",
      "\n",
      "     0     0 230100.000    0    2   -0.00000 230100.000      -     -    0s\n",
      "H    0     0                    77500.000000 230100.000   197%     -    0s\n",
      "H    0     0                    160785.00000 229731.900  42.9%     -    0s\n",
      "     0     0 229439.500    0    1 160785.000 229439.500  42.7%     -    0s\n",
      "H    0     0                    200855.00000 229439.500  14.2%     -    0s\n",
      "H    0     0                    229291.00000 229439.500  0.06%     -    0s\n",
      "     0     0 229291.000    0    1 229291.000 229291.000  0.00%     -    0s\n",
      "\n",
      "Cutting planes:\n",
      "  Gomory: 1\n",
      "  Implied bound: 3\n",
      "  MIR: 1\n",
      "  StrongCG: 1\n",
      "  Relax-and-lift: 1\n",
      "\n",
      "Explored 1 nodes (10 simplex iterations) in 0.00 seconds\n",
      "Thread count was 8 (of 8 available processors)\n",
      "\n",
      "Solution count 5: 229291 200855 160785 ... -0\n",
      "\n",
      "Optimal solution found (tolerance 1.00e-04)\n",
      "Best objective 2.292910000000e+05, best bound 2.292910000000e+05, gap 0.0000%\n"
     ]
    }
   ],
   "source": [
    "m=Model(Gurobi.Optimizer)\n",
    "\n",
    "@variable(m, u[t in D, k in 1:N] >= 0, Int)\n",
    "#selection of plants with different capacity\n",
    "@expression(m, x[t in D], sum(u[t,k]*B[k] for k in 1:N))\n",
    "@expression(m, y[t in D], sum(u[t,k]*C[k] for k in 1:N))\n",
    "\n",
    "#storage and waste\n",
    "@variable(m, s[t in T] >= 0, Int)\n",
    "@variable(m, 0 <= w[t in T], Int)\n",
    "@constraint(m, [t in D], s[t] <= s_bar)\n",
    "\n",
    "#cumulative variables\n",
    "@variable(m, X[t in T] <= x_bar)\n",
    "\n",
    "# #installation cost constraint\n",
    "# @constraint(m, sum(y[t] for t in D)<=y_bar)\n",
    "\n",
    "# helper constraints\n",
    "@constraint(m, X[1] == 0)\n",
    "@constraint(m, [t in T[2:end]], X[t] == X[a[t][1]] + x[a[t][1]])\n",
    "\n",
    "#storing\n",
    "@constraint(m, s[1] == 0)\n",
    "@constraint(m, s[T[end]] == 0)\n",
    "@constraint(m, w[1] == 0)\n",
    "@constraint(m, [t in T[2:end]], X[t] + s[a[t][1]] - s[t] - w[t] <= d[t])\n",
    "@constraint(m, [t in T[2:end]], 0 <= X[t] + s[a[t][1]] - s[t] - w[t]) \n",
    "\n",
    "#cost\n",
    "@variable(m, q[t in T])\n",
    "@constraint(m, [t in D], q[t] == y[t] + ρ_s * s[t] + ρ_p * X[t] + ρ_w * w[t])\n",
    "@constraint(m,q[T[end]] == ρ_w * w[T[end]] + ρ_p * X[T[end]])\n",
    " \n",
    "#revenue\n",
    "@variable(m, r[t in T])\n",
    "@constraint(m, r[1] == 0)\n",
    "@constraint(m, [t in T[2:end]], r[t] == (π_p * (X[t] + s[a[t][1]] - s[t] - w[t])))\n",
    "\n",
    "#discounting\n",
    "@expression(m, α[t in T], 1 / (1 + γ)^(t - 1))\n",
    "\n",
    "#profit\n",
    "@expression(m, v[t in T], (r[t] - q[t]) * α[t])\n",
    "@variable(m, V[t in T])\n",
    "@constraint(m, V[1] == v[1])\n",
    "@constraint(m, [t in T[2:end]], V[t] == V[a[t][1]]+v[t])\n",
    "@expression(m, NPV, V[T[end]])\n",
    "\n",
    "@objective(m, Max, NPV)\n",
    "status=optimize!(m)"
   ]
  },
  {
   "cell_type": "code",
   "execution_count": 58,
   "metadata": {},
   "outputs": [
    {
     "name": "stdout",
     "output_type": "stream",
     "text": [
      "The Profit is 229291.0\n",
      "At stage 1 we should install 800.0 capacity\n",
      "At stage 1 we stored 0.0 product\n",
      "At stage 1 we dumped 0.0 product\n",
      "At stage 2 we should install 100.0 capacity\n",
      "At stage 2 we stored 100.0 product\n",
      "At stage 2 we dumped -0.0 product\n",
      "At stage 3 we should install 0.0 capacity\n",
      "At stage 3 we stored -0.0 product\n",
      "At stage 3 we dumped -0.0 product\n",
      "waste is 0.0\n"
     ]
    }
   ],
   "source": [
    "println(\"The Profit is \", value.(NPV))\n",
    "for t in D\n",
    "        println(\"At stage \", t, \" we should install \", string(value.(x[t])),  \" capacity\")\n",
    "        println(\"At stage \", t, \" we stored \", string(value.(s[t])),  \" product\")\n",
    "        println(\"At stage \", t, \" we dumped \", string(value.(w[t])),  \" product\")\n",
    "end\n",
    "println(\"waste is \", value.(s[n]))"
   ]
  },
  {
   "cell_type": "code",
   "execution_count": null,
   "metadata": {},
   "outputs": [],
   "source": []
  }
 ],
 "metadata": {
  "kernelspec": {
   "display_name": "Julia 1.5.1",
   "language": "julia",
   "name": "julia-1.5"
  },
  "language_info": {
   "file_extension": ".jl",
   "mimetype": "application/julia",
   "name": "julia",
   "version": "1.5.1"
  }
 },
 "nbformat": 4,
 "nbformat_minor": 2
}
