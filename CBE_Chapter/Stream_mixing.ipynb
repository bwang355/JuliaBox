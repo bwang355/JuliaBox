{
 "cells": [
  {
   "cell_type": "code",
   "execution_count": 4,
   "metadata": {},
   "outputs": [
    {
     "name": "stdout",
     "output_type": "stream",
     "text": [
      "ftot: 1 dimensions:\n",
      "[tA] = 14.999996004541718\n",
      "[tB] = 25.000003995458282\n",
      "Ctot: 1 dimensions:\n",
      "[tA] = 0.4000000099848527\n",
      "[tB] = 0.30000000999091847\n",
      "f: 2 dimensions:\n",
      "[w1,:]\n",
      "  [w1,tA] = 2.0466180073504843\n",
      "  [w1,tB] = 7.953381992649517\n",
      "[w2,:]\n",
      "  [w2,tA] = 10.227969006227072\n",
      "  [w2,tB] = 9.772030993772928\n",
      "[w3,:]\n",
      "  [w3,tA] = 2.725408990964162\n",
      "  [w3,tB] = 7.274591009035837\n",
      "__anon__: 1 dimensions:\n",
      "[tA] = -110.00000391568517\n",
      "[tB] = -110.00000395740864\n"
     ]
    }
   ],
   "source": [
    "using JuMP, Ipopt\n",
    "\n",
    "# define JuMP model object\n",
    "m = Model(solver = IpoptSolver(tol = 1e-6, max_iter = 200, print_level = 0));\n",
    "\n",
    "# define sets \n",
    "W = [\"w1\",\"w2\",\"w3\"]; # waste streams\n",
    "T = [\"tA\",\"tB\"];      # waste treatment facilities\n",
    "\n",
    "# define data\n",
    "fin = [10;20;10];           # waste flows (gpm)\n",
    "fin = Dict(zip(W,fin)); \n",
    "Cin = [0.1; 0.5; 0.25];     # waste concentration (kg/gpm)\n",
    "Cin = Dict(zip(W,Cin)); \n",
    "fmax = [20; 30];            # max waste flow capacity (gpm)\n",
    "fmax = Dict(zip(T,fmax)); \n",
    "Cmax = [0.4; 0.3];          # max waste concentration capacity (kg/gpm)\n",
    "Cmax = Dict(zip(T,Cmax));\n",
    "α = [50; 10]                # processing cost (usd/gpm)\n",
    "α = Dict(zip(T,α));         \n",
    "\n",
    "# define optimization problem\n",
    "@variables m begin\n",
    "    f[W,T]>=0     # waste to treatment flow\n",
    "    ftot[T]>=0    # treatment inlet flow\n",
    "    Ctot[T]>=0    # treatment inlet concentration\n",
    "end\n",
    "@constraint(m,[w in W], fin[w] == sum(f[w,t] for t in T))  \n",
    "@constraint(m, λ[t in T], ftot[t] == sum(f[w,t] for w in W)) \n",
    "@constraint(m,[t in T], Ctot[t]*ftot[t] == sum(f[w,t]*Cin[w] for w in W)) \n",
    "@constraint(m, [t in T], Ctot[t] <= Cmax[t])\n",
    "@constraint(m, [t in T], ftot[t] <= fmax[t])\n",
    "@objective(m, Min, sum(α[t]*ftot[t] for t in T))\n",
    "solve(m)\n",
    "\n",
    "# get solution\n",
    "println(getvalue(ftot))\n",
    "println(getvalue(Ctot))\n",
    "println(getvalue(f))\n",
    "println(getdual(λ))"
   ]
  },
  {
   "cell_type": "code",
   "execution_count": null,
   "metadata": {},
   "outputs": [],
   "source": []
  }
 ],
 "metadata": {
  "kernelspec": {
   "display_name": "Julia 0.6.2",
   "language": "julia",
   "name": "julia-0.6"
  },
  "language_info": {
   "file_extension": ".jl",
   "mimetype": "application/julia",
   "name": "julia",
   "version": "0.6.2"
  }
 },
 "nbformat": 4,
 "nbformat_minor": 2
}
