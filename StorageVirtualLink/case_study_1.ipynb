{
 "cells": [
  {
   "cell_type": "code",
   "execution_count": 228,
   "id": "ca948e93",
   "metadata": {},
   "outputs": [],
   "source": [
    "using JuMP, Ipopt, Gurobi\n",
    "using DataFrames"
   ]
  },
  {
   "cell_type": "code",
   "execution_count": 268,
   "id": "b097201b",
   "metadata": {},
   "outputs": [],
   "source": [
    "scenario_no = 4;"
   ]
  },
  {
   "cell_type": "code",
   "execution_count": 269,
   "id": "d9340c19",
   "metadata": {},
   "outputs": [],
   "source": [
    "T = 3;\n",
    "S = [50,50,50];\n",
    "α_s = [5,20,10];\n",
    "D = [25,100,25];\n",
    "α_d = [30,60,40];\n",
    "α_sc = [0.1 for i in 1:T]\n",
    "α_sd = [0.1 for i in 1:T]\n",
    "SOCmin = 0;\n",
    "SOCmax = 100;\n",
    "Pmin = 0;\n",
    "Pmax = 10;\n",
    "\n",
    "if scenario_no == 1\n",
    "    R = 25; SOC0 = 50;\n",
    "elseif scenario_no == 2\n",
    "    R = 15; SOC0 = 50;\n",
    "elseif scenario_no == 3\n",
    "    R = 15; SOC0 = 95;\n",
    "elseif scenario_no == 4\n",
    "    R = 5; SOC0 = 50;\n",
    "end\n",
    "\n",
    "η_s = 1.0;\n",
    "η_c = 0.9;\n",
    "η_d = 0.8;"
   ]
  },
  {
   "cell_type": "code",
   "execution_count": 270,
   "id": "5f4c3a5f",
   "metadata": {},
   "outputs": [
    {
     "name": "stdout",
     "output_type": "stream",
     "text": [
      "Set parameter Username\n",
      "Academic license - for non-commercial use only - expires 2022-02-11\n"
     ]
    }
   ],
   "source": [
    "s_lb = [SOCmin-SOC0 for _ in 1:T]\n",
    "s_lb[T] = 0\n",
    "s_ub = SOCmax-SOC0\n",
    "optimizer = optimizer_with_attributes(Gurobi.Optimizer, \"OutputFlag\" => 0)\n",
    "\n",
    "m = Model(optimizer)\n",
    "\n",
    "@variable(m, p[1:T] >= 0)\n",
    "@variable(m, d[1:T] >= 0)\n",
    "@variable(m, pc[1:T] >= 0)\n",
    "@variable(m, pd[1:T] >= 0)\n",
    "\n",
    "# balance constraint\n",
    "bals = Dict()\n",
    "for t in 1:T\n",
    "    bals[t] = @constraint(m, p[t] + pd[t] - pc[t] - d[t] == 0)\n",
    "end\n",
    "\n",
    "# SOC update\n",
    "soc_lb = Dict()\n",
    "soc_ub = Dict()\n",
    "for t in 1:T\n",
    "    soc_lb[t] = @constraint(m, η_c * sum(pc[1:t]) - 1/η_d * sum(pd[1:t]) >= s_lb[t])\n",
    "    soc_ub[t] = @constraint(m, -η_c * sum(pc[1:t]) + 1/η_d * sum(pd[1:t]) >= -s_ub)\n",
    "end\n",
    "\n",
    "# Charging/discharging bound\n",
    "charge_bound = Dict()\n",
    "for t in 1:T\n",
    "    charge_bound[t] = @constraint(m, -pc[t] - pd[t] >= -Pmax)\n",
    "end\n",
    "\n",
    "# Generator ramping\n",
    "for t in 1:T-1\n",
    "    @constraint(m, p[t+1] - p[t] <= R)\n",
    "    @constraint(m, p[t+1] - p[t] >= -R)\n",
    "end\n",
    "\n",
    "# variable bounds\n",
    "@constraint(m, d .<= D)\n",
    "@constraint(m, p .<= S)\n",
    "\n",
    "# objective: social welfare\n",
    "@objective(m, Min, sum(α_s .* p) - sum(α_d .* d) + sum(α_sd .* pd) + sum(α_sc .* pc));"
   ]
  },
  {
   "cell_type": "code",
   "execution_count": 271,
   "id": "5d1d44ee",
   "metadata": {},
   "outputs": [
    {
     "data": {
      "text/html": [
       "<div class=\"data-frame\"><p>3 rows × 6 columns</p><table class=\"data-frame\"><thead><tr><th></th><th>prices</th><th>pc</th><th>pd</th><th>d</th><th>p</th><th>soc</th></tr><tr><th></th><th title=\"Float64\">Float64</th><th title=\"Float64\">Float64</th><th title=\"Float64\">Float64</th><th title=\"Float64\">Float64</th><th title=\"Float64\">Float64</th><th title=\"Float64\">Float64</th></tr></thead><tbody><tr><th>1</th><td>-24.9</td><td>10.0</td><td>0.0</td><td>25.0</td><td>35.0</td><td>59.0</td></tr><tr><th>2</th><td>60.0</td><td>0.0</td><td>10.0</td><td>50.0</td><td>40.0</td><td>46.5</td></tr><tr><th>3</th><td>-0.1</td><td>10.0</td><td>0.0</td><td>25.0</td><td>35.0</td><td>55.5</td></tr></tbody></table></div>"
      ],
      "text/latex": [
       "\\begin{tabular}{r|cccccc}\n",
       "\t& prices & pc & pd & d & p & soc\\\\\n",
       "\t\\hline\n",
       "\t& Float64 & Float64 & Float64 & Float64 & Float64 & Float64\\\\\n",
       "\t\\hline\n",
       "\t1 & -24.9 & 10.0 & 0.0 & 25.0 & 35.0 & 59.0 \\\\\n",
       "\t2 & 60.0 & 0.0 & 10.0 & 50.0 & 40.0 & 46.5 \\\\\n",
       "\t3 & -0.1 & 10.0 & 0.0 & 25.0 & 35.0 & 55.5 \\\\\n",
       "\\end{tabular}\n"
      ],
      "text/plain": [
       "\u001b[1m3×6 DataFrame\u001b[0m\n",
       "\u001b[1m Row \u001b[0m│\u001b[1m prices  \u001b[0m\u001b[1m pc      \u001b[0m\u001b[1m pd      \u001b[0m\u001b[1m d       \u001b[0m\u001b[1m p       \u001b[0m\u001b[1m soc     \u001b[0m\n",
       "\u001b[1m     \u001b[0m│\u001b[90m Float64 \u001b[0m\u001b[90m Float64 \u001b[0m\u001b[90m Float64 \u001b[0m\u001b[90m Float64 \u001b[0m\u001b[90m Float64 \u001b[0m\u001b[90m Float64 \u001b[0m\n",
       "─────┼──────────────────────────────────────────────────────\n",
       "   1 │   -24.9     10.0      0.0     25.0     35.0     59.0\n",
       "   2 │    60.0      0.0     10.0     50.0     40.0     46.5\n",
       "   3 │    -0.1     10.0      0.0     25.0     35.0     55.5"
      ]
     },
     "metadata": {},
     "output_type": "display_data"
    },
    {
     "name": "stdout",
     "output_type": "stream",
     "text": [
      "Objective value: -3422.0\n"
     ]
    }
   ],
   "source": [
    "optimize!(m)\n",
    "println(\"Objective value: \", objective_value(m))\n",
    "\n",
    "df = DataFrame()\n",
    "df.prices = [dual(bals[t]) for t in 1:T]\n",
    "df.pc = value.(pc)\n",
    "df.pd = value.(pd)\n",
    "df.d = value.(d)\n",
    "df.p = value.(p)\n",
    "df.soc = [SOC0 + value(η_c * sum(pc[1:t]) - 1/η_d * sum(pd[1:t])) for t in 1:T]\n",
    "display(df)"
   ]
  },
  {
   "cell_type": "code",
   "execution_count": 272,
   "id": "ec550b7e",
   "metadata": {},
   "outputs": [
    {
     "name": "stdout",
     "output_type": "stream",
     "text": [
      "Set parameter Username\n",
      "Academic license - for non-commercial use only - expires 2022-02-11\n"
     ]
    }
   ],
   "source": [
    "s_lb = [SOCmin-SOC0 for _ in 1:T]\n",
    "s_lb[T] = 0\n",
    "s_ub = SOCmax-SOC0\n",
    "optimizer = optimizer_with_attributes(Gurobi.Optimizer, \"OutputFlag\" => 0)\n",
    "\n",
    "m = Model(optimizer)\n",
    "\n",
    "@variable(m, p[1:T] >= 0)\n",
    "@variable(m, d[1:T] >= 0)\n",
    "@variable(m, pc[1:T] >= 0)\n",
    "@variable(m, pd[1:T] >= 0)\n",
    "\n",
    "# balance constraint\n",
    "bals = Dict()\n",
    "for t in 1:T\n",
    "    bals[t] = @constraint(m, p[t] + pd[t] - pc[t] - d[t] == 0)\n",
    "end\n",
    "\n",
    "# SOC update\n",
    "soc_lb = Dict()\n",
    "soc_ub = Dict()\n",
    "for t in 1:T\n",
    "    soc_lb[t] = @constraint(m, η_c * sum(pc[1:t]) - 1/η_d * sum(pd[1:t]) >= s_lb[t])\n",
    "    soc_ub[t] = @constraint(m, η_c/η_d * (sum(pd[1:t])-sum(pc[1:t])) >= -s_ub)\n",
    "end\n",
    "\n",
    "# Charging/discharging bound\n",
    "charge_bound = Dict()\n",
    "for t in 1:T\n",
    "    charge_bound[t] = @constraint(m, -pc[t] - pd[t] >= -Pmax)\n",
    "end\n",
    "\n",
    "# Generator ramping\n",
    "for t in 1:T-1\n",
    "    @constraint(m, p[t+1] - p[t] <= R)\n",
    "    @constraint(m, p[t+1] - p[t] >= -R)\n",
    "end\n",
    "\n",
    "# variable bounds\n",
    "@constraint(m, d .<= D)\n",
    "@constraint(m, p .<= S)\n",
    "\n",
    "# objective: social welfare\n",
    "@objective(m, Min, sum(α_s .* p) - sum(α_d .* d) + sum(α_sd .* pd) + sum(α_sc .* pc));"
   ]
  },
  {
   "cell_type": "code",
   "execution_count": 273,
   "id": "1614ad9c",
   "metadata": {},
   "outputs": [
    {
     "data": {
      "text/html": [
       "<div class=\"data-frame\"><p>3 rows × 6 columns</p><table class=\"data-frame\"><thead><tr><th></th><th>prices</th><th>pc</th><th>pd</th><th>d</th><th>p</th><th>soc</th></tr><tr><th></th><th title=\"Float64\">Float64</th><th title=\"Float64\">Float64</th><th title=\"Float64\">Float64</th><th title=\"Float64\">Float64</th><th title=\"Float64\">Float64</th><th title=\"Float64\">Float64</th></tr></thead><tbody><tr><th>1</th><td>-24.9</td><td>10.0</td><td>0.0</td><td>25.0</td><td>35.0</td><td>59.0</td></tr><tr><th>2</th><td>60.0</td><td>0.0</td><td>10.0</td><td>50.0</td><td>40.0</td><td>46.5</td></tr><tr><th>3</th><td>-0.1</td><td>10.0</td><td>0.0</td><td>25.0</td><td>35.0</td><td>55.5</td></tr></tbody></table></div>"
      ],
      "text/latex": [
       "\\begin{tabular}{r|cccccc}\n",
       "\t& prices & pc & pd & d & p & soc\\\\\n",
       "\t\\hline\n",
       "\t& Float64 & Float64 & Float64 & Float64 & Float64 & Float64\\\\\n",
       "\t\\hline\n",
       "\t1 & -24.9 & 10.0 & 0.0 & 25.0 & 35.0 & 59.0 \\\\\n",
       "\t2 & 60.0 & 0.0 & 10.0 & 50.0 & 40.0 & 46.5 \\\\\n",
       "\t3 & -0.1 & 10.0 & 0.0 & 25.0 & 35.0 & 55.5 \\\\\n",
       "\\end{tabular}\n"
      ],
      "text/plain": [
       "\u001b[1m3×6 DataFrame\u001b[0m\n",
       "\u001b[1m Row \u001b[0m│\u001b[1m prices  \u001b[0m\u001b[1m pc      \u001b[0m\u001b[1m pd      \u001b[0m\u001b[1m d       \u001b[0m\u001b[1m p       \u001b[0m\u001b[1m soc     \u001b[0m\n",
       "\u001b[1m     \u001b[0m│\u001b[90m Float64 \u001b[0m\u001b[90m Float64 \u001b[0m\u001b[90m Float64 \u001b[0m\u001b[90m Float64 \u001b[0m\u001b[90m Float64 \u001b[0m\u001b[90m Float64 \u001b[0m\n",
       "─────┼──────────────────────────────────────────────────────\n",
       "   1 │   -24.9     10.0      0.0     25.0     35.0     59.0\n",
       "   2 │    60.0      0.0     10.0     50.0     40.0     46.5\n",
       "   3 │    -0.1     10.0      0.0     25.0     35.0     55.5"
      ]
     },
     "metadata": {},
     "output_type": "display_data"
    },
    {
     "name": "stdout",
     "output_type": "stream",
     "text": [
      "Objective value: -3422.0\n"
     ]
    }
   ],
   "source": [
    "optimize!(m)\n",
    "\n",
    "println(\"Objective value: \", objective_value(m))\n",
    "\n",
    "df = DataFrame()\n",
    "df.prices = [dual(bals[t]) for t in 1:T]\n",
    "df.pc = value.(pc)\n",
    "df.pd = value.(pd)\n",
    "df.d = value.(d)\n",
    "df.p = value.(p)\n",
    "df.soc = [SOC0 + value(η_c * sum(pc[1:t]) - 1/η_d * sum(pd[1:t])) for t in 1:T]\n",
    "display(df)"
   ]
  },
  {
   "cell_type": "code",
   "execution_count": 274,
   "id": "d4c4f46a",
   "metadata": {},
   "outputs": [
    {
     "name": "stdout",
     "output_type": "stream",
     "text": [
      "Set parameter Username\n",
      "Academic license - for non-commercial use only - expires 2022-02-11\n"
     ]
    }
   ],
   "source": [
    "# Market clearing formulation with virtual links\n",
    "\n",
    "s_lb = [SOCmin-SOC0 for _ in 1:T]\n",
    "s_lb[T] = 0\n",
    "s_ub = SOCmax-SOC0\n",
    "\n",
    "vls = unique([(i,j) for i in 1:T for j in 1:T if i != j])\n",
    "η = η_c * η_d\n",
    "α_δ = Dict((i,j) => α_sc[i] + η * α_sd[j] for (i,j) in vls)\n",
    "optimizer = optimizer_with_attributes(Gurobi.Optimizer, \"OutputFlag\" => 0)\n",
    "\n",
    "m = Model(optimizer)\n",
    "\n",
    "@variable(m, p[1:T] >= 0)\n",
    "@variable(m, d[1:T] >= 0)\n",
    "@variable(m, δ[vls] >= 0)\n",
    "@variable(m, pnc[1:T] >= 0)\n",
    "@variable(m, pnd[1:T] >= 0)\n",
    "\n",
    "# balance constraint\n",
    "bals = Dict()\n",
    "for t in 1:T\n",
    "    bals[t] = @constraint(m, p[t] + pnd[t] + η * sum(δ[(i,j)] for (i,j) in vls if j == t) - sum(δ[(i,j)] for (i,j) in vls if i == t) - d[t] - pnc[t] == 0)\n",
    "end\n",
    "\n",
    "# SOC Bounds\n",
    "for t in 1:T\n",
    "    @constraint(m, η_c * sum((sum(δ[(i,j)] for (i,j) in vls if i == s) - sum(δ[(i,j)] for (i,j) in vls if j == s)) for s in 1:t) >= s_lb[t] + 1/η_d * sum(pnd[1:t]))\n",
    "    @constraint(m, η_c/η_d * sum(sum(δ[(i,j)] for (i,j) in vls if i == s) - η * sum(δ[(i,j)] for (i,j) in vls if j == s) for s in 1:t) <= s_ub - η_c/η_d * sum(pnc[1:t]))\n",
    "end\n",
    "\n",
    "# Charging/discharging bound\n",
    "for t in 1:T\n",
    "    @constraint(m, Pmin <= pnc[t] + pnd[t] + sum(δ[(i,j)] for (i,j) in vls if i == t) + η * sum(δ[(i,j)] for (i,j) in vls if j == t) <= Pmax)\n",
    "end \n",
    "\n",
    "# variable bounds\n",
    "@constraint(m, d .<= D)\n",
    "@constraint(m, p .<= S)\n",
    "\n",
    "# Generator ramping\n",
    "for t in 1:T-1\n",
    "    @constraint(m, p[t+1] - p[t] <= R)\n",
    "    @constraint(m, p[t+1] - p[t] >= -R)\n",
    "end\n",
    "\n",
    "# objective: social welfare\n",
    "@objective(m, Min, sum(α_s .* p) - sum(α_d .* d) + sum(α_δ[v] * δ[v] for v in vls) + sum(α_sd .* pnd) + sum(α_sc .* pnc));"
   ]
  },
  {
   "cell_type": "code",
   "execution_count": 275,
   "id": "8289082b",
   "metadata": {
    "scrolled": true
   },
   "outputs": [
    {
     "data": {
      "text/html": [
       "<div class=\"data-frame\"><p>3 rows × 6 columns</p><table class=\"data-frame\"><thead><tr><th></th><th>prices</th><th>pc</th><th>pd</th><th>d</th><th>p</th><th>soc</th></tr><tr><th></th><th title=\"Float64\">Float64</th><th title=\"Float64\">Float64</th><th title=\"Float64\">Float64</th><th title=\"Float64\">Float64</th><th title=\"Float64\">Float64</th><th title=\"Float64\">Float64</th></tr></thead><tbody><tr><th>1</th><td>-0.1</td><td>10.0</td><td>0.0</td><td>25.0</td><td>35.0</td><td>59.0</td></tr><tr><th>2</th><td>60.0</td><td>0.0</td><td>10.0</td><td>50.0</td><td>40.0</td><td>46.5</td></tr><tr><th>3</th><td>-24.9</td><td>10.0</td><td>0.0</td><td>25.0</td><td>35.0</td><td>55.5</td></tr></tbody></table></div>"
      ],
      "text/latex": [
       "\\begin{tabular}{r|cccccc}\n",
       "\t& prices & pc & pd & d & p & soc\\\\\n",
       "\t\\hline\n",
       "\t& Float64 & Float64 & Float64 & Float64 & Float64 & Float64\\\\\n",
       "\t\\hline\n",
       "\t1 & -0.1 & 10.0 & 0.0 & 25.0 & 35.0 & 59.0 \\\\\n",
       "\t2 & 60.0 & 0.0 & 10.0 & 50.0 & 40.0 & 46.5 \\\\\n",
       "\t3 & -24.9 & 10.0 & 0.0 & 25.0 & 35.0 & 55.5 \\\\\n",
       "\\end{tabular}\n"
      ],
      "text/plain": [
       "\u001b[1m3×6 DataFrame\u001b[0m\n",
       "\u001b[1m Row \u001b[0m│\u001b[1m prices  \u001b[0m\u001b[1m pc      \u001b[0m\u001b[1m pd      \u001b[0m\u001b[1m d       \u001b[0m\u001b[1m p       \u001b[0m\u001b[1m soc     \u001b[0m\n",
       "\u001b[1m     \u001b[0m│\u001b[90m Float64 \u001b[0m\u001b[90m Float64 \u001b[0m\u001b[90m Float64 \u001b[0m\u001b[90m Float64 \u001b[0m\u001b[90m Float64 \u001b[0m\u001b[90m Float64 \u001b[0m\n",
       "─────┼──────────────────────────────────────────────────────\n",
       "   1 │    -0.1     10.0      0.0     25.0     35.0     59.0\n",
       "   2 │    60.0      0.0     10.0     50.0     40.0     46.5\n",
       "   3 │   -24.9     10.0      0.0     25.0     35.0     55.5"
      ]
     },
     "metadata": {},
     "output_type": "display_data"
    },
    {
     "name": "stdout",
     "output_type": "stream",
     "text": [
      "Objective value: -3422.0\n"
     ]
    }
   ],
   "source": [
    "optimize!(m)\n",
    "println(\"Objective value: \", objective_value(m))\n",
    "\n",
    "df = DataFrame()\n",
    "pc_vals = [value(sum(δ[(i,j)] for (i,j) in vls if i == t) + pnc[t]) for t in 1:T]\n",
    "pd_vals = [η * value(sum(δ[(i,j)] for (i,j) in vls if j == t)) + value(pnd[t]) for t in 1:T]\n",
    "df.prices = [dual(bals[t]) for t in 1:T]\n",
    "df.pc = pc_vals\n",
    "df.pd = pd_vals\n",
    "df.d = value.(d)\n",
    "df.p = value.(p)\n",
    "df.soc = [SOC0 + value(η_c * sum(pc_vals[1:t]) - 1/η_d * sum(pd_vals[1:t])) for t in 1:T]\n",
    "display(df)"
   ]
  },
  {
   "cell_type": "code",
   "execution_count": 276,
   "id": "86c66662",
   "metadata": {},
   "outputs": [
    {
     "name": "stdout",
     "output_type": "stream",
     "text": [
      "Net-charging occurs at t = 1 with power 6.111111111111114\n",
      "    Payment: -0.6111111111111115\n"
     ]
    }
   ],
   "source": [
    "for t in 1:T\n",
    "    if value(pnc[t]) > 0\n",
    "        println(\"Net-charging occurs at t = $(t) with power $(value(pnc[t]))\")\n",
    "        println(\"    Payment: \", value(pnc[t]) * df.prices[t])\n",
    "    end\n",
    "    if value(pnd[t]) > 0\n",
    "        println(\"Net-discharging occurs at t = $(t) with power $(value(pnd[t]))\")\n",
    "        println(\"    Remuneration: \", value(pnd[t]) * df.prices[t])\n",
    "    end\n",
    "end"
   ]
  },
  {
   "cell_type": "code",
   "execution_count": null,
   "id": "77860fcf",
   "metadata": {},
   "outputs": [],
   "source": []
  }
 ],
 "metadata": {
  "kernelspec": {
   "display_name": "Julia 1.7.1",
   "language": "julia",
   "name": "julia-1.7"
  },
  "language_info": {
   "file_extension": ".jl",
   "mimetype": "application/julia",
   "name": "julia",
   "version": "1.7.1"
  }
 },
 "nbformat": 4,
 "nbformat_minor": 5
}
