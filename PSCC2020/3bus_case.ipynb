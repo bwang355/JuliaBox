{
 "cells": [
  {
   "cell_type": "markdown",
   "metadata": {},
   "source": [
    "This code implements the market clearing model for a 3-bus power grid with spatial virtual links. Each bus is associated with one data center that receives and processes loads. All three data centers are owned by the same entity. The DC power flow constraints are accomodated."
   ]
  },
  {
   "cell_type": "code",
   "execution_count": 1,
   "metadata": {},
   "outputs": [],
   "source": [
    "using JuMP, Gurobi"
   ]
  },
  {
   "cell_type": "code",
   "execution_count": 16,
   "metadata": {},
   "outputs": [],
   "source": [
    "# scenario_num takes integer value from 1 to 7. Each scenario corresponds to different virtual shift capacity\n",
    "scenario_num = 7;"
   ]
  },
  {
   "cell_type": "code",
   "execution_count": 17,
   "metadata": {},
   "outputs": [],
   "source": [
    "# Node parameters\n",
    "N = 3                    # Number of nodes\n",
    "α_p = [10,20,10]         # bidding prices of supply\n",
    "α_d = [40,30,40]         # bidding prices of demand\n",
    "P = [50,30,50]           # supply capacity\n",
    "D = [40,45,40]           # load requested\n",
    "d_max = D .+ 20          # data center capacity \n",
    "\n",
    "# Connection parameters\n",
    "A = [[0 1 1];\n",
    "     [1 0 1];\n",
    "     [1 1 0]]             # adjacency matrix of transmission lines\n",
    "\n",
    "V = [[0 1 0];\n",
    "     [1 0 0];\n",
    "     [0 0 0]]             # adjacency matrix of virtual links\n",
    "\n",
    "F = [[0 5 10];\n",
    "     [5 0 10];\n",
    "     [10 10 0]]           # capacity matrix of transmission lines\n",
    "\n",
    "α_f = 2 * (copy(F).>0)    # bidding cost of transmission\n",
    "\n",
    "\n",
    "#θ_diff_lim = 15;\n",
    "\n",
    "\n",
    "Del = zeros(N,N)          # capacity matrix of virtual links\n",
    "                          # scenario 1: no spatial shifts\n",
    "if scenario_num == 2      # scenario 2: δ_{12} = 5\n",
    "    Del[1,2] = 5\n",
    "    Del[2,1] = 5\n",
    "elseif scenario_num == 3  # scenario 3: δ_{12} = 15\n",
    "    Del[1,2] = 15\n",
    "    Del[2,1] = 15\n",
    "elseif scenario_num == 4  # scenario 4: δ_{12} = δ_{23} = 15\n",
    "    Del[1,2] = 15\n",
    "    Del[2,1] = 15\n",
    "    Del[1,3] = 15\n",
    "    Del[3,1] = 15\n",
    "    Del[2,3] = 15\n",
    "    Del[3,2] = 15\n",
    "elseif scenario_num == 5  # scenario 5: δ_{12} = δ_{23} = δ_{13} = 100\n",
    "    Del[1,2] = 100\n",
    "    Del[2,1] = 100\n",
    "    Del[2,3] = 100\n",
    "    Del[3,2] = 100\n",
    "    Del[1,3] = 100\n",
    "    Del[3,1] = 100\n",
    "elseif scenario_num == 6  # scenario 6: δ_{12} = δ_{23} = 15, but bidding cost is 1 instead of 3 (below)\n",
    "    Del[1,2] = 15\n",
    "    Del[2,1] = 15\n",
    "    Del[1,3] = 15\n",
    "    Del[3,1] = 15\n",
    "    Del[2,3] = 15\n",
    "    Del[3,2] = 15\n",
    "elseif scenario_num == 7  # scenario 6: δ_{12} = δ_{23} = 15, but bidding cost is 0 instead of 3 (below)\n",
    "    Del[1,2] = 15\n",
    "    Del[2,1] = 15\n",
    "    Del[1,3] = 15\n",
    "    Del[3,1] = 15\n",
    "    Del[2,3] = 15\n",
    "    Del[3,2] = 15\n",
    "end\n",
    "\n",
    "α_del =zeros(N,N)         # virtual shift bidding costs\n",
    "if scenario_num == 6\n",
    "    α_del = 1 * (copy(Del).>0)\n",
    "elseif scenario_num < 6\n",
    "    α_del = 3 * (copy(Del).>0)\n",
    "end\n",
    "\n",
    "B = 0.5;                 # susceptance for all physical transmissions"
   ]
  },
  {
   "cell_type": "code",
   "execution_count": 18,
   "metadata": {},
   "outputs": [
    {
     "name": "stdout",
     "output_type": "stream",
     "text": [
      "\n",
      "--------------------------------------------\n",
      "Warning: your license will expire in 3 days\n",
      "--------------------------------------------\n",
      "\n",
      "Academic license - for non-commercial use only\n"
     ]
    }
   ],
   "source": [
    "# Optimizaiton formulation\n",
    "# The implemented model is a reformulation equivalent to the model presented in the paper\n",
    "# in order to convert the original problem with absolute values into a linear program\n",
    "\n",
    "m = Model(with_optimizer(Gurobi.Optimizer, OutputFlag=0))\n",
    "@variable(m, p[1:N] >= 0)                         # supply\n",
    "@variable(m, d[1:N] >= 0)                         # demand\n",
    "@variable(m, f[1:N,1:N] >= 0)                     # flow\n",
    "@variable(m, δ[1:N,1:N] >= 0)                     # virtual shift\n",
    "@variable(m, θ[1:N])                              # phase angles\n",
    "\n",
    "# Flow and virtual link constraints\n",
    "for i in 1:N, j in 1:N\n",
    "    @constraint(m, f[i,j] <= F[i,j])              # flow capacity constraints\n",
    "    @constraint(m, δ[i,j] <= Del[i,j])            # virtual shift capacity constraints\n",
    "\n",
    "    # DC power flow constraints\n",
    "    if (F[i,j] > 0)\n",
    "        @constraint(m, f[i,j] - f[j,i] == B*(θ[j] - θ[i]))\n",
    "    end\n",
    "end\n",
    "\n",
    "# Supply and demand capacity constraints\n",
    "for i in 1:N\n",
    "    @constraint(m, p[i] <= P[i])\n",
    "    @constraint(m, d[i] <= D[i])\n",
    "    @constraint(m, d[i] - sum(δ[i,:]) + sum(δ[:,i]) <= d_max[i])\n",
    "    @constraint(m, d[i] - sum(δ[i,:]) + sum(δ[:,i]) >= 0)\n",
    "end\n",
    "\n",
    "# Node balance constraint\n",
    "bals = Dict()\n",
    "for i in 1:N\n",
    "    bals[i] = @constraint(m, p[i] - d[i] - sum(f[i,:]) + sum(f[:,i]) + sum(δ[i,:]) - sum(δ[:,i]) == 0)\n",
    "end\n",
    "\n",
    "# Limit on phase angles differences\n",
    "#=\n",
    "for i in 1:N, j in 1:N\n",
    "    if (F[i,j] > 0)\n",
    "        @constraint(m, θ[i] - θ[j] <= θ_diff_lim)\n",
    "        @constraint(m, θ[j] - θ[i] <= θ_diff_lim)        \n",
    "    end\n",
    "end\n",
    "=#\n",
    "\n",
    "# Objecitve: social welfare\n",
    "@objective(m, Min, sum(α_p.*p - α_d.*d) + sum(α_f.*f) + sum(α_del.*δ));"
   ]
  },
  {
   "cell_type": "code",
   "execution_count": 19,
   "metadata": {},
   "outputs": [
    {
     "name": "stdout",
     "output_type": "stream",
     "text": [
      "\n",
      "--------------------------------------------\n",
      "Warning: your license will expire in 3 days\n",
      "--------------------------------------------\n",
      "\n",
      "Academic license - for non-commercial use only\n",
      "Total social welfare: 3050.0\n",
      "Amount of cleared loads: [40.0, 45.0, 40.0]\n",
      "Flows: [0.0 0.0 0.0]\n",
      "Amount of cleared supplies: [50.0, 25.0, 50.0]\n",
      "Virtual flows: [-5.0 -5.0 15.0]\n",
      "LMP: [20.0, 20.0, 20.0]\n"
     ]
    }
   ],
   "source": [
    "optimize!(m)\n",
    "prices = zeros(N)\n",
    "for i in 1:N\n",
    "    prices[i] = dual(bals[i])\n",
    "end\n",
    "\n",
    "# reformulate flows and virtual shifts\n",
    "flows = zeros(1,3)\n",
    "vshift = zeros(1,3)\n",
    "start_pt = [1,1,2]\n",
    "end_pt = [2,3,3]\n",
    "for i in 1:3\n",
    "    flows[i] = value.(f)[start_pt[i],end_pt[i]] - value.(f)[end_pt[i],start_pt[i]]\n",
    "    vshift[i] = value.(δ)[start_pt[i],end_pt[i]] - value.(δ)[end_pt[i],start_pt[i]]\n",
    "end\n",
    "\n",
    "# Print info\n",
    "println(\"Total social welfare: \", -objective_value(m))\n",
    "println(\"Amount of cleared loads: \", value.(d))\n",
    "println(\"Flows: \", flows)\n",
    "println(\"Amount of cleared supplies: \", value.(p))\n",
    "println(\"Virtual flows: \", vshift)\n",
    "println(\"LMP: \", prices)"
   ]
  },
  {
   "cell_type": "code",
   "execution_count": 20,
   "metadata": {},
   "outputs": [
    {
     "data": {
      "text/plain": [
       "3-element Array{Float64,1}:\n",
       " 0.0\n",
       " 0.0\n",
       " 0.0"
      ]
     },
     "execution_count": 20,
     "metadata": {},
     "output_type": "execute_result"
    }
   ],
   "source": [
    "value.(θ)"
   ]
  },
  {
   "cell_type": "code",
   "execution_count": null,
   "metadata": {},
   "outputs": [],
   "source": []
  }
 ],
 "metadata": {
  "kernelspec": {
   "display_name": "Julia 1.1.0",
   "language": "julia",
   "name": "julia-1.1"
  },
  "language_info": {
   "file_extension": ".jl",
   "mimetype": "application/julia",
   "name": "julia",
   "version": "1.1.0"
  }
 },
 "nbformat": 4,
 "nbformat_minor": 2
}
