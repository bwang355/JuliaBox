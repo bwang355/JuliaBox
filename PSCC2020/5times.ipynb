{
 "cells": [
  {
   "cell_type": "markdown",
   "metadata": {},
   "source": [
    "This code implements the market clearing model for one node with temporal shifting capacity. The node is associated with one data center that is able to delay part of its loads to the next time point. Assume the data center receives no delayed loads at the initial time point (t = 1) and delays no loads to later at the final time point (t = T)."
   ]
  },
  {
   "cell_type": "code",
   "execution_count": 1,
   "metadata": {},
   "outputs": [],
   "source": [
    "using JuMP, Gurobi"
   ]
  },
  {
   "cell_type": "code",
   "execution_count": 50,
   "metadata": {},
   "outputs": [],
   "source": [
    "scenario_num = 7;"
   ]
  },
  {
   "cell_type": "code",
   "execution_count": 51,
   "metadata": {},
   "outputs": [],
   "source": [
    "# Node parameters\n",
    "T = 5                       # Number of times\n",
    "α_p = [10,20,10,15,20]      # bidding prices of supply\n",
    "α_d = [30,60,40,50,45]      # bidding prices of demand\n",
    "S = [50,50,50,50,50]        # supply capacity\n",
    "D = [70,20,70,40,40]        # demand capacity\n",
    "r = [20,20,20,20,20]        # reserved computing power\n",
    "\n",
    "# Virtual link parameters\n",
    "Del = [0,0,0,0];\n",
    "if scenario_num == 2\n",
    "    Del[1] = 10;\n",
    "elseif scenario_num == 3\n",
    "    Del[1] = 21;\n",
    "elseif scenario_num == 4\n",
    "    Del[1] = 21;\n",
    "    Del[2] = 20;\n",
    "elseif scenario_num == 5\n",
    "    Del[1] = 21;\n",
    "    Del[3] = 21;\n",
    "elseif scenario_num == 6\n",
    "    Del[1] = 21;\n",
    "    Del[3] = 21;\n",
    "    Del[4] = 10;\n",
    "elseif scenario_num == 7\n",
    "    Del = [100,100,100,100];\n",
    "end\n",
    "\n",
    "α_del = 3 * (copy(Del).>0);\n",
    "\n",
    "# Ramping constraint parameters\n",
    "R = 20;"
   ]
  },
  {
   "cell_type": "code",
   "execution_count": 52,
   "metadata": {},
   "outputs": [
    {
     "name": "stdout",
     "output_type": "stream",
     "text": [
      "Academic license - for non-commercial use only\n"
     ]
    }
   ],
   "source": [
    "# Optimizaiton formulation\n",
    "\n",
    "m_v = Model(with_optimizer(Gurobi.Optimizer, OutputFlag=0))\n",
    "@variable(m_v, p[1:T] >= 0)                         # supply\n",
    "@variable(m_v, d[1:T] >= 0)                         # demand\n",
    "@variable(m_v, δ[1:T+1] >= 0)                       # virtual shift\n",
    "\n",
    "# Flow and virtual link constraints\n",
    "for i in 1:T-1\n",
    "    @constraint(m_v, δ[i+1] <= Del[i])              # virtual shift capacity constraints\n",
    "end\n",
    "\n",
    "@constraint(m_v, δ[1] == 0)\n",
    "@constraint(m_v, δ[T+1] == 0)\n",
    "\n",
    "# Supply and demand capacity constraints\n",
    "@constraint(m_v, p .<= S)\n",
    "@constraint(m_v, d .<= D)\n",
    "for i in 1:T-1\n",
    "    @constraint(m_v, d[i] + δ[i] - δ[i+1] >= 0)\n",
    "    @constraint(m_v, d[i] + δ[i] - δ[i+1] <= D[i] + r[i])\n",
    "end\n",
    "\n",
    "# Ramping constraints\n",
    "for i in 1:T-1\n",
    "    @constraint(m_v, p[i+1] - p[i] <= R)\n",
    "    @constraint(m_v, p[i+1] - p[i] >= -R)\n",
    "end\n",
    "\n",
    "# Node balance constraint\n",
    "bals = Dict()\n",
    "for i in 1:T\n",
    "    bals[i] = @constraint(m_v, p[i] - d[i] - δ[i] + δ[i+1] == 0)\n",
    "end\n",
    "\n",
    "# Objecitve: social welfare\n",
    "@objective(m_v, Min, sum(α_p.*p - α_d.*d) + sum(α_del.*δ[2:T]));\n"
   ]
  },
  {
   "cell_type": "code",
   "execution_count": 53,
   "metadata": {},
   "outputs": [
    {
     "name": "stdout",
     "output_type": "stream",
     "text": [
      "Academic license - for non-commercial use only\n",
      "The optimal value of virtual link model is 6200.0\n",
      "The nodal prices of virtual link model is [23.0, 20.0, 26.0, 23.0, 20.0]\n",
      "Amt of cleared loads are [70.0, 20.0, 70.0, 40.0, 40.0]\n",
      "The supplies are [50.0, 40.0, 50.0, 50.0, 50.0]\n",
      "The virtual flows are [20.0, 0.0, 20.0, 10.0]\n"
     ]
    }
   ],
   "source": [
    "optimize!(m_v)\n",
    "prices = zeros(T)\n",
    "for i in 1:T\n",
    "    prices[i] = dual(bals[i])\n",
    "end\n",
    "\n",
    "# Print info\n",
    "println(\"The optimal value of virtual link model is \", -objective_value(m_v))\n",
    "println(\"The nodal prices of virtual link model is \", prices)\n",
    "println(\"Amt of cleared loads are \", value.(d))\n",
    "println(\"The supplies are \", value.(p))\n",
    "println(\"The virtual flows are \", value.(δ)[2:T])"
   ]
  },
  {
   "cell_type": "code",
   "execution_count": null,
   "metadata": {},
   "outputs": [],
   "source": []
  }
 ],
 "metadata": {
  "kernelspec": {
   "display_name": "Julia 1.1.0",
   "language": "julia",
   "name": "julia-1.1"
  },
  "language_info": {
   "file_extension": ".jl",
   "mimetype": "application/julia",
   "name": "julia",
   "version": "1.1.0"
  }
 },
 "nbformat": 4,
 "nbformat_minor": 2
}
