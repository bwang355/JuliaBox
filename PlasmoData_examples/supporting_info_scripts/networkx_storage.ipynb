{
 "cells": [
  {
   "cell_type": "code",
   "execution_count": 139,
   "metadata": {},
   "outputs": [],
   "source": [
    "import numpy as np\n",
    "import networkx as nx\n",
    "from tqdm import tqdm\n",
    "import sys"
   ]
  },
  {
   "cell_type": "code",
   "execution_count": 140,
   "metadata": {},
   "outputs": [],
   "source": [
    "np.random.seed(10)\n",
    "dim3 = 100\n",
    "random_array = np.random.rand(100, 100, dim3)"
   ]
  },
  {
   "cell_type": "code",
   "execution_count": 141,
   "metadata": {},
   "outputs": [],
   "source": [
    "g = nx.Graph()\n",
    "node_dict_map = dict()\n",
    "for i in range(100):\n",
    "    for j in range(100):\n",
    "        node_dict = dict()\n",
    "        for k in range(dim3):\n",
    "            node_dict[f\"weight{k+1}\"] = random_array[i, j, k]\n",
    "        g.add_nodes_from([((i + 1, j + 1), node_dict)])\n",
    "\n",
    "        \n",
    "dim1 = 100\n",
    "dim2 = 100\n",
    "\n",
    "for j_ind in range(100):\n",
    "    j = j_ind + 1\n",
    "    column_offset = dim1 * (j - 1)\n",
    "    for i_ind in range(100):\n",
    "        i = i_ind + 1\n",
    "        \n",
    "        if j != dim2:\n",
    "            g.add_edge((i, j), (i, j + 1))\n",
    "        if i != dim1:\n",
    "            g.add_edge((i, j), (i + 1, j))\n",
    "        if i != dim1 and j != dim2:\n",
    "            g.add_edge((i, j), (i + 1, j + 1))\n",
    "        if i != 1 and j != dim2:\n",
    "            g.add_edge((i, j), (i - 1, j + 1))\n",
    "        "
   ]
  },
  {
   "cell_type": "code",
   "execution_count": 142,
   "metadata": {},
   "outputs": [
    {
     "name": "stdout",
     "output_type": "stream",
     "text": [
      "NetworkX uses at least  48776080  bytes to store the graph\n"
     ]
    }
   ],
   "source": [
    "mem = 0\n",
    "for i in g.edges:\n",
    "    mem += i.__sizeof__()\n",
    "    \n",
    "for i in g.nodes:\n",
    "    mem += i.__sizeof__()\n",
    "\n",
    "_node_dict = vars(g)[\"_node\"]\n",
    "\n",
    "for i in range(1, 101, 1):\n",
    "    for j in range(1, 101, 1):\n",
    "        sub_dict = _node_dict[(i, j)]\n",
    "        mem += sub_dict.__sizeof__()\n",
    "        \n",
    "print(\"NetworkX uses at least \", mem, \" bytes to store the graph\")"
   ]
  },
  {
   "cell_type": "code",
   "execution_count": 143,
   "metadata": {},
   "outputs": [],
   "source": [
    "np.random.seed(10)\n",
    "dim3 = 25\n",
    "random_array = np.random.rand(100, 100, dim3)"
   ]
  },
  {
   "cell_type": "code",
   "execution_count": 144,
   "metadata": {},
   "outputs": [],
   "source": [
    "g = nx.Graph()\n",
    "node_dict_map = dict()\n",
    "for i in range(100):\n",
    "    for j in range(100):\n",
    "        node_dict = dict()\n",
    "        for k in range(dim3):\n",
    "            node_dict[f\"weight{k+1}\"] = random_array[i, j, k]\n",
    "        g.add_nodes_from([((i + 1, j + 1), node_dict)])\n",
    "\n",
    "        \n",
    "dim1 = 100\n",
    "dim2 = 100\n",
    "\n",
    "for j_ind in range(100):\n",
    "    j = j_ind + 1\n",
    "    column_offset = dim1 * (j - 1)\n",
    "    for i_ind in range(100):\n",
    "        i = i_ind + 1\n",
    "        \n",
    "        if j != dim2:\n",
    "            g.add_edge((i, j), (i, j + 1))\n",
    "        if i != dim1:\n",
    "            g.add_edge((i, j), (i + 1, j))\n",
    "        if i != dim1 and j != dim2:\n",
    "            g.add_edge((i, j), (i + 1, j + 1))\n",
    "        if i != 1 and j != dim2:\n",
    "            g.add_edge((i, j), (i - 1, j + 1))\n",
    "        "
   ]
  },
  {
   "cell_type": "code",
   "execution_count": 145,
   "metadata": {},
   "outputs": [
    {
     "name": "stdout",
     "output_type": "stream",
     "text": [
      "NetworkX uses at least  13576080  bytes to store the graph\n"
     ]
    }
   ],
   "source": [
    "mem = 0\n",
    "for i in g.edges:\n",
    "    mem += i.__sizeof__()\n",
    "    \n",
    "for i in g.nodes:\n",
    "    mem += i.__sizeof__()\n",
    "\n",
    "_node_dict = vars(g)[\"_node\"]\n",
    "\n",
    "for i in range(1, 101, 1):\n",
    "    for j in range(1, 101, 1):\n",
    "        sub_dict = _node_dict[(i, j)]\n",
    "        mem += sub_dict.__sizeof__()\n",
    "        \n",
    "print(\"NetworkX uses at least \", mem, \" bytes to store the graph\")"
   ]
  },
  {
   "cell_type": "code",
   "execution_count": 146,
   "metadata": {},
   "outputs": [],
   "source": [
    "np.random.seed(10)\n",
    "dim3 = 10\n",
    "random_array = np.random.rand(100, 100, dim3)"
   ]
  },
  {
   "cell_type": "code",
   "execution_count": 147,
   "metadata": {},
   "outputs": [],
   "source": [
    "g = nx.Graph()\n",
    "node_dict_map = dict()\n",
    "for i in range(100):\n",
    "    for j in range(100):\n",
    "        node_dict = dict()\n",
    "        for k in range(dim3):\n",
    "            node_dict[f\"weight{k+1}\"] = random_array[i, j, k]\n",
    "        g.add_nodes_from([((i + 1, j + 1), node_dict)])\n",
    "\n",
    "        \n",
    "dim1 = 100\n",
    "dim2 = 100\n",
    "\n",
    "for j_ind in range(100):\n",
    "    j = j_ind + 1\n",
    "    column_offset = dim1 * (j - 1)\n",
    "    for i_ind in range(100):\n",
    "        i = i_ind + 1\n",
    "        \n",
    "        if j != dim2:\n",
    "            g.add_edge((i, j), (i, j + 1))\n",
    "        if i != dim1:\n",
    "            g.add_edge((i, j), (i + 1, j))\n",
    "        if i != dim1 and j != dim2:\n",
    "            g.add_edge((i, j), (i + 1, j + 1))\n",
    "        if i != 1 and j != dim2:\n",
    "            g.add_edge((i, j), (i - 1, j + 1))\n",
    "        "
   ]
  },
  {
   "cell_type": "code",
   "execution_count": 148,
   "metadata": {},
   "outputs": [
    {
     "name": "stdout",
     "output_type": "stream",
     "text": [
      "NetworkX uses at least  5416080  bytes to store the graph\n"
     ]
    }
   ],
   "source": [
    "mem = 0\n",
    "for i in g.edges:\n",
    "    mem += i.__sizeof__()\n",
    "    \n",
    "for i in g.nodes:\n",
    "    mem += i.__sizeof__()\n",
    "\n",
    "_node_dict = vars(g)[\"_node\"]\n",
    "\n",
    "for i in range(1, 101, 1):\n",
    "    for j in range(1, 101, 1):\n",
    "        sub_dict = _node_dict[(i, j)]\n",
    "        mem += sub_dict.__sizeof__()\n",
    "        \n",
    "print(\"NetworkX uses at least \", mem, \" bytes to store the graph\")"
   ]
  },
  {
   "cell_type": "code",
   "execution_count": 149,
   "metadata": {},
   "outputs": [],
   "source": [
    "np.random.seed(10)\n",
    "dim3 = 1\n",
    "random_array = np.random.rand(100, 100, 1)"
   ]
  },
  {
   "cell_type": "code",
   "execution_count": 150,
   "metadata": {},
   "outputs": [],
   "source": [
    "g = nx.Graph()\n",
    "node_dict_map = dict()\n",
    "for i in range(100):\n",
    "    for j in range(100):\n",
    "        node_dict = dict()\n",
    "        for k in range(dim3):\n",
    "            node_dict[f\"weight{k+1}\"] = random_array[i, j, k]\n",
    "        g.add_nodes_from([((i + 1, j + 1), node_dict)])\n",
    "\n",
    "        \n",
    "dim1 = 100\n",
    "dim2 = 100\n",
    "\n",
    "for j_ind in range(100):\n",
    "    j = j_ind + 1\n",
    "    column_offset = dim1 * (j - 1)\n",
    "    for i_ind in range(100):\n",
    "        i = i_ind + 1\n",
    "        \n",
    "        if j != dim2:\n",
    "            g.add_edge((i, j), (i, j + 1))\n",
    "        if i != dim1:\n",
    "            g.add_edge((i, j), (i + 1, j))\n",
    "        if i != dim1 and j != dim2:\n",
    "            g.add_edge((i, j), (i + 1, j + 1))\n",
    "        if i != 1 and j != dim2:\n",
    "            g.add_edge((i, j), (i - 1, j + 1))"
   ]
  },
  {
   "cell_type": "code",
   "execution_count": 151,
   "metadata": {
    "scrolled": false
   },
   "outputs": [
    {
     "name": "stdout",
     "output_type": "stream",
     "text": [
      "NetworkX uses at least  4136080  bytes to store the graph\n"
     ]
    }
   ],
   "source": [
    "mem = 0\n",
    "for i in g.edges:\n",
    "    mem += i.__sizeof__()\n",
    "    \n",
    "for i in g.nodes:\n",
    "    mem += i.__sizeof__()\n",
    "\n",
    "_node_dict = vars(g)[\"_node\"]\n",
    "\n",
    "for i in range(1, 101, 1):\n",
    "    for j in range(1, 101, 1):\n",
    "        sub_dict = _node_dict[(i, j)]\n",
    "        mem += sub_dict.__sizeof__()\n",
    "        \n",
    "print(\"NetworkX uses at least \", mem, \" bytes to store the graph\")"
   ]
  },
  {
   "cell_type": "code",
   "execution_count": null,
   "metadata": {},
   "outputs": [],
   "source": []
  }
 ],
 "metadata": {
  "kernelspec": {
   "display_name": "Python 3",
   "language": "python",
   "name": "python3"
  },
  "language_info": {
   "codemirror_mode": {
    "name": "ipython",
    "version": 3
   },
   "file_extension": ".py",
   "mimetype": "text/x-python",
   "name": "python",
   "nbconvert_exporter": "python",
   "pygments_lexer": "ipython3",
   "version": "3.8.5"
  }
 },
 "nbformat": 4,
 "nbformat_minor": 4
}
